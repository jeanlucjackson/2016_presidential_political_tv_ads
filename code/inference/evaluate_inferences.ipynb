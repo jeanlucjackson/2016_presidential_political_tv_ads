{
  "cells": [
    {
      "cell_type": "markdown",
      "metadata": {
        "id": "view-in-github",
        "colab_type": "text"
      },
      "source": [
        "<a href=\"https://colab.research.google.com/github/jeanlucjackson/2016_presidential_political_tv_ads/blob/main/code/inference/evaluate_inferences.ipynb\" target=\"_parent\"><img src=\"https://colab.research.google.com/assets/colab-badge.svg\" alt=\"Open In Colab\"/></a>"
      ]
    },
    {
      "cell_type": "markdown",
      "metadata": {
        "id": "0ti7N7kgi9k-"
      },
      "source": [
        "# Imports & Google Drive Mounting"
      ]
    },
    {
      "cell_type": "code",
      "execution_count": 18,
      "metadata": {
        "id": "sEho-NjGi9VU"
      },
      "outputs": [],
      "source": [
        "from os import listdir\n",
        "from os.path import isfile, join\n",
        "\n",
        "import csv\n",
        "import json\n",
        "import pprint\n",
        "\n",
        "import pandas as pd"
      ]
    },
    {
      "cell_type": "code",
      "execution_count": 5,
      "metadata": {
        "colab": {
          "base_uri": "https://localhost:8080/"
        },
        "id": "HjsB3ST7hdDE",
        "outputId": "96db27d8-c6c6-4445-8959-fa316ae3218e"
      },
      "outputs": [
        {
          "output_type": "stream",
          "name": "stdout",
          "text": [
            "Mounted at /content/drive\n"
          ]
        }
      ],
      "source": [
        "# This cell will authenticate you and mount your Drive in the Colab.\n",
        "from google.colab import drive\n",
        "drive.mount('/content/drive')"
      ]
    },
    {
      "cell_type": "code",
      "execution_count": 6,
      "metadata": {
        "id": "2Uu8rbzeisNt"
      },
      "outputs": [],
      "source": [
        "inference_root = \"/content/drive/MyDrive/w266 NLP Final Project/Predictions/\""
      ]
    },
    {
      "cell_type": "code",
      "execution_count": 7,
      "metadata": {
        "colab": {
          "base_uri": "https://localhost:8080/"
        },
        "id": "ly7uAmyOi7mc",
        "outputId": "a6ecdf12-4065-48ed-f186-9c89b40ecc74"
      },
      "outputs": [
        {
          "output_type": "stream",
          "name": "stdout",
          "text": [
            "['t5_simple_transformers_preds.csv',\n",
            " 'predictions.T5_base_pt_long.quac.triviaqa.csv',\n",
            " 'predictions.bart_base_pt.squad.squad.csv',\n",
            " 'predictions.T5_base_pt_long.nq.nq.csv',\n",
            " 'predictions.T5_base_pt_long.triviaqa.triviaqa.csv',\n",
            " 'predictions.T5_base_pt_long.nq.squad.csv',\n",
            " 'predictions.T5_base_pt_long.triviaqa.squad.csv',\n",
            " 'T5 short model prediction archive',\n",
            " 'predictions.T5_base_pt_long.nq.quac.csv',\n",
            " 'predictions.T5_base_pt_long.nq.triviaqa.csv',\n",
            " 'predictions.T5_base_pt_long.triviaqa.quac.csv',\n",
            " 'predictions.T5_base_pt_long.triviaqa.nq.csv',\n",
            " 'predictions.T5_base_pt_long.squad.squad.csv',\n",
            " 'predictions.T5_base_pt_long.squad.nq.csv',\n",
            " 'predictions.T5_base_pt_long.squad.triviaqa.csv',\n",
            " 'predictions.bart_base_pt.squad.quac.csv',\n",
            " 'predictions.T5_base_pt_long.quac.squad.csv',\n",
            " 'predictions.T5_base_pt_long.quac.nq.csv',\n",
            " 'predictions.T5_base_pt_long.squad.quac.csv',\n",
            " 'predictions.T5_base_pt_long.quac.quac.csv']\n"
          ]
        }
      ],
      "source": [
        "inference_files = listdir(inference_root)\n",
        "pprint.pprint(inference_files)"
      ]
    },
    {
      "cell_type": "markdown",
      "source": [
        "# Evaluations"
      ],
      "metadata": {
        "id": "1qgm7t1BASt5"
      }
    },
    {
      "cell_type": "markdown",
      "metadata": {
        "id": "PBHNV6rdjcjE"
      },
      "source": [
        "\n",
        "## Load Data\n",
        "\n",
        "Inferences will be saved into the `inference_dict` nested dictionary, whose format is:\n",
        "- keys: CSV filenames\n",
        "- values:\n",
        "  - `target`: list of target values\n",
        "  - `prediction`: list of prediction values"
      ]
    },
    {
      "cell_type": "code",
      "execution_count": 8,
      "metadata": {
        "colab": {
          "base_uri": "https://localhost:8080/"
        },
        "id": "kif-BL0OoxA2",
        "outputId": "7becd206-9fc6-4ec1-d9dc-207bbc3c5ba2"
      },
      "outputs": [
        {
          "output_type": "stream",
          "name": "stdout",
          "text": [
            "Opening file 1 of 20: t5_simple_transformers_preds.csv\n",
            "\n",
            "WARNING: Columns `target` and `prediction` not found in CSV. Skipping CSV.\n",
            "Check file: /content/drive/MyDrive/w266 NLP Final Project/Predictions/t5_simple_transformers_preds.csv\n",
            "________________________________________\n",
            "\n",
            "Opening file 2 of 20: predictions.T5_base_pt_long.quac.triviaqa.csv\n",
            "\n",
            "CSV loaded.\n",
            "Length of targets:      9836\n",
            "Length of predictions:  9836\n",
            "\n",
            "Targets and predictions saved.\n",
            "________________________________________\n",
            "\n",
            "Opening file 3 of 20: predictions.bart_base_pt.squad.squad.csv\n",
            "\n",
            "CSV loaded.\n",
            "Length of targets:      10570\n",
            "Length of predictions:  10570\n",
            "\n",
            "Targets and predictions saved.\n",
            "________________________________________\n",
            "\n",
            "Opening file 4 of 20: predictions.T5_base_pt_long.nq.nq.csv\n",
            "\n",
            "CSV loaded.\n",
            "Length of targets:      2356\n",
            "Length of predictions:  2356\n",
            "\n",
            "Targets and predictions saved.\n",
            "________________________________________\n",
            "\n",
            "Opening file 5 of 20: predictions.T5_base_pt_long.triviaqa.triviaqa.csv\n",
            "\n",
            "CSV loaded.\n",
            "Length of targets:      9836\n",
            "Length of predictions:  9836\n",
            "\n",
            "Targets and predictions saved.\n",
            "________________________________________\n",
            "\n",
            "Opening file 6 of 20: predictions.T5_base_pt_long.nq.squad.csv\n",
            "\n",
            "CSV loaded.\n",
            "Length of targets:      10570\n",
            "Length of predictions:  10570\n",
            "\n",
            "Targets and predictions saved.\n",
            "________________________________________\n",
            "\n",
            "Opening file 7 of 20: predictions.T5_base_pt_long.triviaqa.squad.csv\n",
            "\n",
            "CSV loaded.\n",
            "Length of targets:      10570\n",
            "Length of predictions:  10570\n",
            "\n",
            "Targets and predictions saved.\n",
            "________________________________________\n",
            "\n",
            "Opening file 9 of 20: predictions.T5_base_pt_long.nq.quac.csv\n",
            "\n",
            "CSV loaded.\n",
            "Length of targets:      5868\n",
            "Length of predictions:  5868\n",
            "\n",
            "Targets and predictions saved.\n",
            "________________________________________\n",
            "\n",
            "Opening file 10 of 20: predictions.T5_base_pt_long.nq.triviaqa.csv\n",
            "\n",
            "CSV loaded.\n",
            "Length of targets:      9835\n",
            "Length of predictions:  9835\n",
            "\n",
            "Targets and predictions saved.\n",
            "________________________________________\n",
            "\n",
            "Opening file 11 of 20: predictions.T5_base_pt_long.triviaqa.quac.csv\n",
            "\n",
            "CSV loaded.\n",
            "Length of targets:      5868\n",
            "Length of predictions:  5868\n",
            "\n",
            "Targets and predictions saved.\n",
            "________________________________________\n",
            "\n",
            "Opening file 12 of 20: predictions.T5_base_pt_long.triviaqa.nq.csv\n",
            "\n",
            "CSV loaded.\n",
            "Length of targets:      2356\n",
            "Length of predictions:  2356\n",
            "\n",
            "Targets and predictions saved.\n",
            "________________________________________\n",
            "\n",
            "Opening file 13 of 20: predictions.T5_base_pt_long.squad.squad.csv\n",
            "\n",
            "CSV loaded.\n",
            "Length of targets:      10570\n",
            "Length of predictions:  10570\n",
            "\n",
            "Targets and predictions saved.\n",
            "________________________________________\n",
            "\n",
            "Opening file 14 of 20: predictions.T5_base_pt_long.squad.nq.csv\n",
            "\n",
            "CSV loaded.\n",
            "Length of targets:      2356\n",
            "Length of predictions:  2356\n",
            "\n",
            "Targets and predictions saved.\n",
            "________________________________________\n",
            "\n",
            "Opening file 15 of 20: predictions.T5_base_pt_long.squad.triviaqa.csv\n",
            "\n",
            "CSV loaded.\n",
            "Length of targets:      9835\n",
            "Length of predictions:  9835\n",
            "\n",
            "Targets and predictions saved.\n",
            "________________________________________\n",
            "\n",
            "Opening file 16 of 20: predictions.bart_base_pt.squad.quac.csv\n",
            "\n",
            "CSV loaded.\n",
            "Length of targets:      10733\n",
            "Length of predictions:  10733\n",
            "\n",
            "Targets and predictions saved.\n",
            "________________________________________\n",
            "\n",
            "Opening file 17 of 20: predictions.T5_base_pt_long.quac.squad.csv\n",
            "\n",
            "CSV loaded.\n",
            "Length of targets:      10570\n",
            "Length of predictions:  10570\n",
            "\n",
            "Targets and predictions saved.\n",
            "________________________________________\n",
            "\n",
            "Opening file 18 of 20: predictions.T5_base_pt_long.quac.nq.csv\n",
            "\n",
            "CSV loaded.\n",
            "Length of targets:      2356\n",
            "Length of predictions:  2356\n",
            "\n",
            "Targets and predictions saved.\n",
            "________________________________________\n",
            "\n",
            "Opening file 19 of 20: predictions.T5_base_pt_long.squad.quac.csv\n",
            "\n",
            "CSV loaded.\n",
            "Length of targets:      5868\n",
            "Length of predictions:  5868\n",
            "\n",
            "Targets and predictions saved.\n",
            "________________________________________\n",
            "\n",
            "Opening file 20 of 20: predictions.T5_base_pt_long.quac.quac.csv\n",
            "\n",
            "CSV loaded.\n",
            "Length of targets:      5868\n",
            "Length of predictions:  5868\n",
            "\n",
            "Targets and predictions saved.\n",
            "________________________________________\n",
            "\n",
            "\n",
            "Total of 18 datasets loaded:\n",
            "    predictions.T5_base_pt_long.quac.triviaqa.csv\n",
            "    predictions.bart_base_pt.squad.squad.csv\n",
            "    predictions.T5_base_pt_long.nq.nq.csv\n",
            "    predictions.T5_base_pt_long.triviaqa.triviaqa.csv\n",
            "    predictions.T5_base_pt_long.nq.squad.csv\n",
            "    predictions.T5_base_pt_long.triviaqa.squad.csv\n",
            "    predictions.T5_base_pt_long.nq.quac.csv\n",
            "    predictions.T5_base_pt_long.nq.triviaqa.csv\n",
            "    predictions.T5_base_pt_long.triviaqa.quac.csv\n",
            "    predictions.T5_base_pt_long.triviaqa.nq.csv\n",
            "    predictions.T5_base_pt_long.squad.squad.csv\n",
            "    predictions.T5_base_pt_long.squad.nq.csv\n",
            "    predictions.T5_base_pt_long.squad.triviaqa.csv\n",
            "    predictions.bart_base_pt.squad.quac.csv\n",
            "    predictions.T5_base_pt_long.quac.squad.csv\n",
            "    predictions.T5_base_pt_long.quac.nq.csv\n",
            "    predictions.T5_base_pt_long.squad.quac.csv\n",
            "    predictions.T5_base_pt_long.quac.quac.csv\n"
          ]
        }
      ],
      "source": [
        "inference_dict = {}\n",
        "\n",
        "for id, inf_file in enumerate(inference_files):\n",
        "\n",
        "  # Load CSV file containing predictions\n",
        "  filename = join(inference_root, inf_file)\n",
        "  \n",
        "  # If the file exists, load it into pandas\n",
        "  if isfile(filename):\n",
        "    print(f\"Opening file {id + 1} of {len(inference_files)}: {inf_file}\\n\")\n",
        "\n",
        "    df = pd.read_csv(filename)\n",
        "    \n",
        "    # If the CSV does not have correct column names, warn user and skip file\n",
        "    if 'target' not in df.columns and 'prediction' not in df.columns:\n",
        "      print(\"WARNING: Columns `target` and `prediction` not found in CSV. Skipping CSV.\")\n",
        "      print(f\"Check file: {filename}\")\n",
        "      # continue\n",
        "\n",
        "    # Columns exist, so continue\n",
        "    else:\n",
        "      targets = df['target']\n",
        "      predictions = df['prediction']\n",
        "\n",
        "      print('CSV loaded.')\n",
        "      print(f\"Length of targets:      {len(targets)}\")\n",
        "      print(f\"Length of predictions:  {len(predictions)}\")\n",
        "      \n",
        "      # Save lists into prediction dictionary under file's name\n",
        "      inference_dict.update(\n",
        "          {inf_file: {'target': targets,\n",
        "                      'prediction': predictions}\n",
        "          }\n",
        "      )\n",
        "      print('\\nTargets and predictions saved.')\n",
        "    \n",
        "    print('________________________________________\\n')\n",
        "\n",
        "\n",
        "print(f\"\\nTotal of {len(inference_dict.keys())} datasets loaded:\")\n",
        "for dataset in inference_dict.keys():\n",
        "  print('    ' + dataset)"
      ]
    },
    {
      "cell_type": "markdown",
      "metadata": {
        "id": "FUw1vCoos3Na"
      },
      "source": [
        "We'll be using:\n",
        "- ROUGE\n",
        "- BLEU-RT\n",
        "- BERTScore\n",
        "- METEOR\n",
        "- USE\n",
        "\n",
        "And storing evaluations in `evaluation_dict` formatted as:\n",
        "- keys: CSV filenames\n",
        "- values:\n",
        "  - metric_name: metric_value"
      ]
    },
    {
      "cell_type": "markdown",
      "metadata": {
        "id": "svociRbhtP7s"
      },
      "source": [
        "## Load Evaluation Metrics"
      ]
    },
    {
      "cell_type": "code",
      "execution_count": 10,
      "metadata": {
        "colab": {
          "base_uri": "https://localhost:8080/"
        },
        "id": "e3tiJPqOsyll",
        "outputId": "ee0b19c4-bd7b-49f9-973e-1585991808b4"
      },
      "outputs": [
        {
          "output_type": "stream",
          "name": "stdout",
          "text": [
            "\u001b[K     |████████████████████████████████| 441 kB 5.2 MB/s \n",
            "\u001b[K     |████████████████████████████████| 115 kB 35.9 MB/s \n",
            "\u001b[K     |████████████████████████████████| 163 kB 36.4 MB/s \n",
            "\u001b[K     |████████████████████████████████| 212 kB 36.6 MB/s \n",
            "\u001b[K     |████████████████████████████████| 95 kB 3.5 MB/s \n",
            "\u001b[K     |████████████████████████████████| 127 kB 39.9 MB/s \n",
            "\u001b[K     |████████████████████████████████| 115 kB 38.5 MB/s \n",
            "\u001b[?25h"
          ]
        }
      ],
      "source": [
        "!pip install -q evaluate\n",
        "import evaluate"
      ]
    },
    {
      "cell_type": "markdown",
      "metadata": {
        "id": "5UkrEtmAtamY"
      },
      "source": [
        "### ROUGE\n",
        "🤗 [ROUGE page](https://huggingface.co/spaces/evaluate-metric/rouge)"
      ]
    },
    {
      "cell_type": "code",
      "execution_count": 11,
      "metadata": {
        "colab": {
          "base_uri": "https://localhost:8080/",
          "height": 66,
          "referenced_widgets": [
            "d6e14af3c5254876abc94fdafbadac87",
            "a1d417e8bc4e4cfd98d374619754f7a9",
            "b7ccd378f759461e861e3f4bdeb883af",
            "4e8d27aa06b04a03972d1c00f0bd9200",
            "13f5081530f64c40848be505516760d0",
            "f074f3ed971749078c63a09e14b95130",
            "9ea4cdab89e84fcfae798fcbeb29570f",
            "e74ff8971bb94e2889efc27ab04c9fd9",
            "84a13f307e7e4e8f9453970c55e61b88",
            "e337de5d2012460892cca98085addb76",
            "2080222463e948b48b941bbc6579b6fd"
          ]
        },
        "id": "0Nc9eaqLtXt4",
        "outputId": "6eb508ba-1484-481f-cb26-12b2ec7f0c52"
      },
      "outputs": [
        {
          "output_type": "stream",
          "name": "stdout",
          "text": [
            "  Building wheel for rouge-score (setup.py) ... \u001b[?25l\u001b[?25hdone\n"
          ]
        },
        {
          "output_type": "display_data",
          "data": {
            "text/plain": [
              "Downloading builder script:   0%|          | 0.00/6.27k [00:00<?, ?B/s]"
            ],
            "application/vnd.jupyter.widget-view+json": {
              "version_major": 2,
              "version_minor": 0,
              "model_id": "d6e14af3c5254876abc94fdafbadac87"
            }
          },
          "metadata": {}
        }
      ],
      "source": [
        "!pip install -q rouge_score\n",
        "\n",
        "rouge = evaluate.load('rouge')"
      ]
    },
    {
      "cell_type": "markdown",
      "metadata": {
        "id": "7Dr3uT0ht8_j"
      },
      "source": [
        "### BLEU-RT\n",
        "- No fine-tuning yet.\n",
        "- Using `BLEURT-20` checkpoint per Google's recommendation (see [BLEURT GitHub page](https://github.com/google-research/bleurt/blob/master/checkpoints.md#the-recommended-checkpoint-bleurt-20))"
      ]
    },
    {
      "cell_type": "code",
      "execution_count": 12,
      "metadata": {
        "colab": {
          "base_uri": "https://localhost:8080/",
          "height": 1000,
          "referenced_widgets": [
            "90d982795d634d79a1f99f6802b46caa",
            "48a399a32d5743f2ba683fae21876d6e",
            "e5439a7ebe324094a323d52923f49c8e",
            "004585068a28499c9bd3c3cbf1499dbc",
            "49d9926b15ba45b386ad6bee72d5d03d",
            "3fcc399118414cd7b79808c7de99b60d",
            "4e8195c4b5414b79bd9e6a4d1911e804",
            "bb1cf1fba51b4c64a74dcf2b15ae651e",
            "5eb05342309e413a947ed6c47abd1c85",
            "b106f9e4df144358ac84e818919a7f59",
            "6d5430186c7248d68537ef7c98894327",
            "f89c76b3bbb2446192a3631a8872af6a",
            "00a5da01d41e491daddc70bed5ad1b26",
            "5d6d63af56be426bb6dae5e8c4f5f883",
            "e3f0f42dc9e244f99be78d1bd957f7bd",
            "569125619d4643649800080dd024d29e",
            "611b16ed8e564cd29ccc629c2ce1e1e5",
            "87c67376328d4949844c63074620100e",
            "d6a8a1809122455fbf347e12d6dce88d",
            "63efa9d163514faca27083be100f94e2",
            "aed323c35fc7432e82c1980d8a0253f7",
            "402832e6a1674a79bc78cb7e1468c10d"
          ]
        },
        "id": "kSStQ_cntd7W",
        "outputId": "5e9465e0-c7e9-49fa-e4f4-b2cd58a03df6"
      },
      "outputs": [
        {
          "output_type": "stream",
          "name": "stdout",
          "text": [
            "Looking in indexes: https://pypi.org/simple, https://us-python.pkg.dev/colab-wheels/public/simple/\n",
            "Collecting git+https://github.com/google-research/bleurt.git\n",
            "  Cloning https://github.com/google-research/bleurt.git to /tmp/pip-req-build-uq9vuz2p\n",
            "  Running command git clone -q https://github.com/google-research/bleurt.git /tmp/pip-req-build-uq9vuz2p\n",
            "Requirement already satisfied: pandas in /usr/local/lib/python3.7/dist-packages (from BLEURT==0.0.2) (1.3.5)\n",
            "Requirement already satisfied: numpy in /usr/local/lib/python3.7/dist-packages (from BLEURT==0.0.2) (1.21.6)\n",
            "Requirement already satisfied: scipy in /usr/local/lib/python3.7/dist-packages (from BLEURT==0.0.2) (1.7.3)\n",
            "Requirement already satisfied: tensorflow in /usr/local/lib/python3.7/dist-packages (from BLEURT==0.0.2) (2.9.2)\n",
            "Collecting tf-slim>=1.1\n",
            "  Downloading tf_slim-1.1.0-py2.py3-none-any.whl (352 kB)\n",
            "\u001b[K     |████████████████████████████████| 352 kB 5.1 MB/s \n",
            "\u001b[?25hCollecting sentencepiece\n",
            "  Downloading sentencepiece-0.1.97-cp37-cp37m-manylinux_2_17_x86_64.manylinux2014_x86_64.whl (1.3 MB)\n",
            "\u001b[K     |████████████████████████████████| 1.3 MB 8.1 MB/s \n",
            "\u001b[?25hRequirement already satisfied: absl-py>=0.2.2 in /usr/local/lib/python3.7/dist-packages (from tf-slim>=1.1->BLEURT==0.0.2) (1.3.0)\n",
            "Requirement already satisfied: pytz>=2017.3 in /usr/local/lib/python3.7/dist-packages (from pandas->BLEURT==0.0.2) (2022.5)\n",
            "Requirement already satisfied: python-dateutil>=2.7.3 in /usr/local/lib/python3.7/dist-packages (from pandas->BLEURT==0.0.2) (2.8.2)\n",
            "Requirement already satisfied: six>=1.5 in /usr/local/lib/python3.7/dist-packages (from python-dateutil>=2.7.3->pandas->BLEURT==0.0.2) (1.15.0)\n",
            "Requirement already satisfied: protobuf<3.20,>=3.9.2 in /usr/local/lib/python3.7/dist-packages (from tensorflow->BLEURT==0.0.2) (3.17.3)\n",
            "Requirement already satisfied: tensorflow-io-gcs-filesystem>=0.23.1 in /usr/local/lib/python3.7/dist-packages (from tensorflow->BLEURT==0.0.2) (0.27.0)\n",
            "Requirement already satisfied: h5py>=2.9.0 in /usr/local/lib/python3.7/dist-packages (from tensorflow->BLEURT==0.0.2) (3.1.0)\n",
            "Requirement already satisfied: wrapt>=1.11.0 in /usr/local/lib/python3.7/dist-packages (from tensorflow->BLEURT==0.0.2) (1.14.1)\n",
            "Requirement already satisfied: astunparse>=1.6.0 in /usr/local/lib/python3.7/dist-packages (from tensorflow->BLEURT==0.0.2) (1.6.3)\n",
            "Requirement already satisfied: packaging in /usr/local/lib/python3.7/dist-packages (from tensorflow->BLEURT==0.0.2) (21.3)\n",
            "Requirement already satisfied: tensorflow-estimator<2.10.0,>=2.9.0rc0 in /usr/local/lib/python3.7/dist-packages (from tensorflow->BLEURT==0.0.2) (2.9.0)\n",
            "Requirement already satisfied: opt-einsum>=2.3.2 in /usr/local/lib/python3.7/dist-packages (from tensorflow->BLEURT==0.0.2) (3.3.0)\n",
            "Requirement already satisfied: keras-preprocessing>=1.1.1 in /usr/local/lib/python3.7/dist-packages (from tensorflow->BLEURT==0.0.2) (1.1.2)\n",
            "Requirement already satisfied: typing-extensions>=3.6.6 in /usr/local/lib/python3.7/dist-packages (from tensorflow->BLEURT==0.0.2) (4.1.1)\n",
            "Requirement already satisfied: setuptools in /usr/local/lib/python3.7/dist-packages (from tensorflow->BLEURT==0.0.2) (57.4.0)\n",
            "Requirement already satisfied: libclang>=13.0.0 in /usr/local/lib/python3.7/dist-packages (from tensorflow->BLEURT==0.0.2) (14.0.6)\n",
            "Requirement already satisfied: termcolor>=1.1.0 in /usr/local/lib/python3.7/dist-packages (from tensorflow->BLEURT==0.0.2) (2.0.1)\n",
            "Requirement already satisfied: tensorboard<2.10,>=2.9 in /usr/local/lib/python3.7/dist-packages (from tensorflow->BLEURT==0.0.2) (2.9.1)\n",
            "Requirement already satisfied: keras<2.10.0,>=2.9.0rc0 in /usr/local/lib/python3.7/dist-packages (from tensorflow->BLEURT==0.0.2) (2.9.0)\n",
            "Requirement already satisfied: flatbuffers<2,>=1.12 in /usr/local/lib/python3.7/dist-packages (from tensorflow->BLEURT==0.0.2) (1.12)\n",
            "Requirement already satisfied: gast<=0.4.0,>=0.2.1 in /usr/local/lib/python3.7/dist-packages (from tensorflow->BLEURT==0.0.2) (0.4.0)\n",
            "Requirement already satisfied: google-pasta>=0.1.1 in /usr/local/lib/python3.7/dist-packages (from tensorflow->BLEURT==0.0.2) (0.2.0)\n",
            "Requirement already satisfied: grpcio<2.0,>=1.24.3 in /usr/local/lib/python3.7/dist-packages (from tensorflow->BLEURT==0.0.2) (1.50.0)\n",
            "Requirement already satisfied: wheel<1.0,>=0.23.0 in /usr/local/lib/python3.7/dist-packages (from astunparse>=1.6.0->tensorflow->BLEURT==0.0.2) (0.37.1)\n",
            "Requirement already satisfied: cached-property in /usr/local/lib/python3.7/dist-packages (from h5py>=2.9.0->tensorflow->BLEURT==0.0.2) (1.5.2)\n",
            "Requirement already satisfied: tensorboard-plugin-wit>=1.6.0 in /usr/local/lib/python3.7/dist-packages (from tensorboard<2.10,>=2.9->tensorflow->BLEURT==0.0.2) (1.8.1)\n",
            "Requirement already satisfied: google-auth-oauthlib<0.5,>=0.4.1 in /usr/local/lib/python3.7/dist-packages (from tensorboard<2.10,>=2.9->tensorflow->BLEURT==0.0.2) (0.4.6)\n",
            "Requirement already satisfied: werkzeug>=1.0.1 in /usr/local/lib/python3.7/dist-packages (from tensorboard<2.10,>=2.9->tensorflow->BLEURT==0.0.2) (1.0.1)\n",
            "Requirement already satisfied: tensorboard-data-server<0.7.0,>=0.6.0 in /usr/local/lib/python3.7/dist-packages (from tensorboard<2.10,>=2.9->tensorflow->BLEURT==0.0.2) (0.6.1)\n",
            "Requirement already satisfied: google-auth<3,>=1.6.3 in /usr/local/lib/python3.7/dist-packages (from tensorboard<2.10,>=2.9->tensorflow->BLEURT==0.0.2) (1.35.0)\n",
            "Requirement already satisfied: requests<3,>=2.21.0 in /usr/local/lib/python3.7/dist-packages (from tensorboard<2.10,>=2.9->tensorflow->BLEURT==0.0.2) (2.23.0)\n",
            "Requirement already satisfied: markdown>=2.6.8 in /usr/local/lib/python3.7/dist-packages (from tensorboard<2.10,>=2.9->tensorflow->BLEURT==0.0.2) (3.4.1)\n",
            "Requirement already satisfied: rsa<5,>=3.1.4 in /usr/local/lib/python3.7/dist-packages (from google-auth<3,>=1.6.3->tensorboard<2.10,>=2.9->tensorflow->BLEURT==0.0.2) (4.9)\n",
            "Requirement already satisfied: cachetools<5.0,>=2.0.0 in /usr/local/lib/python3.7/dist-packages (from google-auth<3,>=1.6.3->tensorboard<2.10,>=2.9->tensorflow->BLEURT==0.0.2) (4.2.4)\n",
            "Requirement already satisfied: pyasn1-modules>=0.2.1 in /usr/local/lib/python3.7/dist-packages (from google-auth<3,>=1.6.3->tensorboard<2.10,>=2.9->tensorflow->BLEURT==0.0.2) (0.2.8)\n",
            "Requirement already satisfied: requests-oauthlib>=0.7.0 in /usr/local/lib/python3.7/dist-packages (from google-auth-oauthlib<0.5,>=0.4.1->tensorboard<2.10,>=2.9->tensorflow->BLEURT==0.0.2) (1.3.1)\n",
            "Requirement already satisfied: importlib-metadata>=4.4 in /usr/local/lib/python3.7/dist-packages (from markdown>=2.6.8->tensorboard<2.10,>=2.9->tensorflow->BLEURT==0.0.2) (4.13.0)\n",
            "Requirement already satisfied: zipp>=0.5 in /usr/local/lib/python3.7/dist-packages (from importlib-metadata>=4.4->markdown>=2.6.8->tensorboard<2.10,>=2.9->tensorflow->BLEURT==0.0.2) (3.10.0)\n",
            "Requirement already satisfied: pyasn1<0.5.0,>=0.4.6 in /usr/local/lib/python3.7/dist-packages (from pyasn1-modules>=0.2.1->google-auth<3,>=1.6.3->tensorboard<2.10,>=2.9->tensorflow->BLEURT==0.0.2) (0.4.8)\n",
            "Requirement already satisfied: certifi>=2017.4.17 in /usr/local/lib/python3.7/dist-packages (from requests<3,>=2.21.0->tensorboard<2.10,>=2.9->tensorflow->BLEURT==0.0.2) (2022.9.24)\n",
            "Requirement already satisfied: idna<3,>=2.5 in /usr/local/lib/python3.7/dist-packages (from requests<3,>=2.21.0->tensorboard<2.10,>=2.9->tensorflow->BLEURT==0.0.2) (2.10)\n",
            "Requirement already satisfied: chardet<4,>=3.0.2 in /usr/local/lib/python3.7/dist-packages (from requests<3,>=2.21.0->tensorboard<2.10,>=2.9->tensorflow->BLEURT==0.0.2) (3.0.4)\n",
            "Requirement already satisfied: urllib3!=1.25.0,!=1.25.1,<1.26,>=1.21.1 in /usr/local/lib/python3.7/dist-packages (from requests<3,>=2.21.0->tensorboard<2.10,>=2.9->tensorflow->BLEURT==0.0.2) (1.25.11)\n",
            "Requirement already satisfied: oauthlib>=3.0.0 in /usr/local/lib/python3.7/dist-packages (from requests-oauthlib>=0.7.0->google-auth-oauthlib<0.5,>=0.4.1->tensorboard<2.10,>=2.9->tensorflow->BLEURT==0.0.2) (3.2.2)\n",
            "Requirement already satisfied: pyparsing!=3.0.5,>=2.0.2 in /usr/local/lib/python3.7/dist-packages (from packaging->tensorflow->BLEURT==0.0.2) (3.0.9)\n",
            "Building wheels for collected packages: BLEURT\n",
            "  Building wheel for BLEURT (setup.py) ... \u001b[?25l\u001b[?25hdone\n",
            "  Created wheel for BLEURT: filename=BLEURT-0.0.2-py3-none-any.whl size=16456783 sha256=e1686891e43cb51ae3eec3f17d6cb6f06532329bfad4ef026a4c798db70e5d0f\n",
            "  Stored in directory: /tmp/pip-ephem-wheel-cache-1onnfktg/wheels/e2/2d/ea/b7a8b2424d2908d2a79d73ce8217d5ac4bd97ed3f47160a7f5\n",
            "Successfully built BLEURT\n",
            "Installing collected packages: tf-slim, sentencepiece, BLEURT\n",
            "Successfully installed BLEURT-0.0.2 sentencepiece-0.1.97 tf-slim-1.1.0\n"
          ]
        },
        {
          "output_type": "display_data",
          "data": {
            "text/plain": [
              "Downloading builder script:   0%|          | 0.00/5.20k [00:00<?, ?B/s]"
            ],
            "application/vnd.jupyter.widget-view+json": {
              "version_major": 2,
              "version_minor": 0,
              "model_id": "90d982795d634d79a1f99f6802b46caa"
            }
          },
          "metadata": {}
        },
        {
          "output_type": "stream",
          "name": "stderr",
          "text": [
            "WARNING:evaluate_modules.metrics.evaluate-metric--bleurt.98e148b2f8c4a88aba5037e4e0e90c9fd9ec35dc37a054ded8cfef0fa801ffab.bleurt:Using default BLEURT-Base checkpoint for sequence maximum length 128. You can use a bigger model for better results with e.g.: evaluate.load('bleurt', 'bleurt-large-512').\n"
          ]
        },
        {
          "output_type": "display_data",
          "data": {
            "text/plain": [
              "Downloading data:   0%|          | 0.00/405M [00:00<?, ?B/s]"
            ],
            "application/vnd.jupyter.widget-view+json": {
              "version_major": 2,
              "version_minor": 0,
              "model_id": "f89c76b3bbb2446192a3631a8872af6a"
            }
          },
          "metadata": {}
        }
      ],
      "source": [
        "!pip install git+https://github.com/google-research/bleurt.git\n",
        "\n",
        "bleurt = evaluate.load('bleurt', module_type='metric', checkpoint='BLEURT-20-D3')"
      ]
    },
    {
      "cell_type": "markdown",
      "metadata": {
        "id": "XziuT1wluJJn"
      },
      "source": [
        "### BERTScore\n",
        "🤗 [BERTScore page](https://huggingface.co/spaces/evaluate-metric/bertscore)\n",
        "- Using `distilbert-base-uncased` per 🤗 recommendation because the default model (`roberta-large`) is over 1.4GB"
      ]
    },
    {
      "cell_type": "code",
      "execution_count": 13,
      "metadata": {
        "colab": {
          "base_uri": "https://localhost:8080/",
          "height": 0,
          "referenced_widgets": [
            "38428fd39cc54b4789f2b7d2f1489330",
            "bc56d1cce59c49d79d4836fa5782ca8d",
            "14ef6a6b67074c9e9f4a62733d3cfa9b",
            "ec1fa2eea6e94ff2832d75db67b1a0e4",
            "9672b05533ca4aa6979f4de84d1b51f0",
            "af673d7ace1e4fb28c0a56f9ac7acab9",
            "5114f44d3bdf4e61b4e9fe09c38977f3",
            "f8cb501411a14cea8c30c5248b9663bc",
            "8e4dd676340a440697b1556d056dd8b5",
            "8cd7d1cdfda046c88219796235549440",
            "8633dcf602924e8487bbf696ac79813d"
          ]
        },
        "id": "ovqwrlx7ti97",
        "outputId": "bf6f6288-87ca-48a9-9a72-10d4bdd1009a"
      },
      "outputs": [
        {
          "output_type": "stream",
          "name": "stdout",
          "text": [
            "Looking in indexes: https://pypi.org/simple, https://us-python.pkg.dev/colab-wheels/public/simple/\n",
            "Collecting bert_score\n",
            "  Downloading bert_score-0.3.12-py3-none-any.whl (60 kB)\n",
            "\u001b[K     |████████████████████████████████| 60 kB 3.2 MB/s \n",
            "\u001b[?25hRequirement already satisfied: torch>=1.0.0 in /usr/local/lib/python3.7/dist-packages (from bert_score) (1.12.1+cu113)\n",
            "Collecting transformers>=3.0.0\n",
            "  Downloading transformers-4.24.0-py3-none-any.whl (5.5 MB)\n",
            "\u001b[K     |████████████████████████████████| 5.5 MB 11.0 MB/s \n",
            "\u001b[?25hRequirement already satisfied: requests in /usr/local/lib/python3.7/dist-packages (from bert_score) (2.23.0)\n",
            "Requirement already satisfied: pandas>=1.0.1 in /usr/local/lib/python3.7/dist-packages (from bert_score) (1.3.5)\n",
            "Requirement already satisfied: tqdm>=4.31.1 in /usr/local/lib/python3.7/dist-packages (from bert_score) (4.64.1)\n",
            "Requirement already satisfied: packaging>=20.9 in /usr/local/lib/python3.7/dist-packages (from bert_score) (21.3)\n",
            "Requirement already satisfied: matplotlib in /usr/local/lib/python3.7/dist-packages (from bert_score) (3.2.2)\n",
            "Requirement already satisfied: numpy in /usr/local/lib/python3.7/dist-packages (from bert_score) (1.21.6)\n",
            "Requirement already satisfied: pyparsing!=3.0.5,>=2.0.2 in /usr/local/lib/python3.7/dist-packages (from packaging>=20.9->bert_score) (3.0.9)\n",
            "Requirement already satisfied: pytz>=2017.3 in /usr/local/lib/python3.7/dist-packages (from pandas>=1.0.1->bert_score) (2022.5)\n",
            "Requirement already satisfied: python-dateutil>=2.7.3 in /usr/local/lib/python3.7/dist-packages (from pandas>=1.0.1->bert_score) (2.8.2)\n",
            "Requirement already satisfied: six>=1.5 in /usr/local/lib/python3.7/dist-packages (from python-dateutil>=2.7.3->pandas>=1.0.1->bert_score) (1.15.0)\n",
            "Requirement already satisfied: typing-extensions in /usr/local/lib/python3.7/dist-packages (from torch>=1.0.0->bert_score) (4.1.1)\n",
            "Requirement already satisfied: importlib-metadata in /usr/local/lib/python3.7/dist-packages (from transformers>=3.0.0->bert_score) (4.13.0)\n",
            "Collecting tokenizers!=0.11.3,<0.14,>=0.11.1\n",
            "  Downloading tokenizers-0.13.1-cp37-cp37m-manylinux_2_17_x86_64.manylinux2014_x86_64.whl (7.6 MB)\n",
            "\u001b[K     |████████████████████████████████| 7.6 MB 48.4 MB/s \n",
            "\u001b[?25hRequirement already satisfied: filelock in /usr/local/lib/python3.7/dist-packages (from transformers>=3.0.0->bert_score) (3.8.0)\n",
            "Requirement already satisfied: huggingface-hub<1.0,>=0.10.0 in /usr/local/lib/python3.7/dist-packages (from transformers>=3.0.0->bert_score) (0.10.1)\n",
            "Requirement already satisfied: pyyaml>=5.1 in /usr/local/lib/python3.7/dist-packages (from transformers>=3.0.0->bert_score) (6.0)\n",
            "Requirement already satisfied: regex!=2019.12.17 in /usr/local/lib/python3.7/dist-packages (from transformers>=3.0.0->bert_score) (2022.6.2)\n",
            "Requirement already satisfied: zipp>=0.5 in /usr/local/lib/python3.7/dist-packages (from importlib-metadata->transformers>=3.0.0->bert_score) (3.10.0)\n",
            "Requirement already satisfied: cycler>=0.10 in /usr/local/lib/python3.7/dist-packages (from matplotlib->bert_score) (0.11.0)\n",
            "Requirement already satisfied: kiwisolver>=1.0.1 in /usr/local/lib/python3.7/dist-packages (from matplotlib->bert_score) (1.4.4)\n",
            "Requirement already satisfied: certifi>=2017.4.17 in /usr/local/lib/python3.7/dist-packages (from requests->bert_score) (2022.9.24)\n",
            "Requirement already satisfied: idna<3,>=2.5 in /usr/local/lib/python3.7/dist-packages (from requests->bert_score) (2.10)\n",
            "Requirement already satisfied: urllib3!=1.25.0,!=1.25.1,<1.26,>=1.21.1 in /usr/local/lib/python3.7/dist-packages (from requests->bert_score) (1.25.11)\n",
            "Requirement already satisfied: chardet<4,>=3.0.2 in /usr/local/lib/python3.7/dist-packages (from requests->bert_score) (3.0.4)\n",
            "Installing collected packages: tokenizers, transformers, bert-score\n",
            "Successfully installed bert-score-0.3.12 tokenizers-0.13.1 transformers-4.24.0\n"
          ]
        },
        {
          "output_type": "display_data",
          "data": {
            "text/plain": [
              "Downloading builder script:   0%|          | 0.00/7.95k [00:00<?, ?B/s]"
            ],
            "application/vnd.jupyter.widget-view+json": {
              "version_major": 2,
              "version_minor": 0,
              "model_id": "38428fd39cc54b4789f2b7d2f1489330"
            }
          },
          "metadata": {}
        }
      ],
      "source": [
        "!pip install bert_score\n",
        "\n",
        "bertscore = evaluate.load('bertscore')"
      ]
    },
    {
      "cell_type": "markdown",
      "metadata": {
        "id": "TuQR5UsVByhb"
      },
      "source": [
        "### METEOR\n",
        "🤗 [METEOR page](https://huggingface.co/spaces/evaluate-metric/meteor)"
      ]
    },
    {
      "cell_type": "code",
      "execution_count": 14,
      "metadata": {
        "colab": {
          "base_uri": "https://localhost:8080/",
          "height": 0,
          "referenced_widgets": [
            "3a33b3d19668472bbdaab9acbce4f259",
            "e9a306d5605b4520b4a728ce2f481b3a",
            "1e7e1c62ed444f91bc439e0ccd7cfd45",
            "5a56e109ea154c7483aba37106fb9b68",
            "e0c01cb5f8414227a85ba8c9cafc8593",
            "39d0ecf13c3343fcaf856400eb690280",
            "436aff424afd466786650c9eb3718aad",
            "1b61db4ff15547b9b59a05ba2a124c06",
            "af96c12b4c5d429d995c450bc17fa0e0",
            "2d2020e1ae044e5b89413b23642128a7",
            "bd6c7fa4b94348ba8ed0ace26832c8b0"
          ]
        },
        "id": "RECwk3-JrJOM",
        "outputId": "c84128cb-9cfe-429b-f95a-214af6996263"
      },
      "outputs": [
        {
          "output_type": "display_data",
          "data": {
            "text/plain": [
              "Downloading builder script:   0%|          | 0.00/6.81k [00:00<?, ?B/s]"
            ],
            "application/vnd.jupyter.widget-view+json": {
              "version_major": 2,
              "version_minor": 0,
              "model_id": "3a33b3d19668472bbdaab9acbce4f259"
            }
          },
          "metadata": {}
        },
        {
          "output_type": "stream",
          "name": "stderr",
          "text": [
            "[nltk_data] Downloading package wordnet to /root/nltk_data...\n",
            "[nltk_data] Downloading package punkt to /root/nltk_data...\n",
            "[nltk_data]   Unzipping tokenizers/punkt.zip.\n",
            "[nltk_data] Downloading package omw-1.4 to /root/nltk_data...\n"
          ]
        }
      ],
      "source": [
        "meteor = evaluate.load('meteor')"
      ]
    },
    {
      "cell_type": "markdown",
      "metadata": {
        "id": "li2nrtfWO8k0"
      },
      "source": [
        "### Universal Sentence Encoder (USE) – PENDING"
      ]
    },
    {
      "cell_type": "markdown",
      "metadata": {
        "id": "tOwFwl_7uXse"
      },
      "source": [
        "## Calculate Metrics on Each Dataset\n",
        "\n",
        "Metrics are calculated for each `target` – `prediction` pair. These pairs are averaged for each dataset to have a single value to compare between models and datasets."
      ]
    },
    {
      "cell_type": "code",
      "execution_count": 19,
      "metadata": {
        "id": "otfo6eTfPsVQ"
      },
      "outputs": [],
      "source": [
        "# Evaluations will be stored in dictionary\n",
        "filename = join(inference_root, \"evaluation_dict.json\")\n",
        "\n",
        "if isfile(filename):\n",
        "  print('A previously saved `evaluation_dict` exists!')\n",
        "  print('Consider if you would like to load it or work with an empty dictionary.')"
      ]
    },
    {
      "cell_type": "markdown",
      "source": [
        "### Option 1: Load dict JSON"
      ],
      "metadata": {
        "id": "zEWSwwYQBWpT"
      }
    },
    {
      "cell_type": "code",
      "source": [
        "filename = join(inference_root, \"evaluation_dict.json\")\n",
        "\n",
        "with open(filename) as json_file:\n",
        "  evaluation_dict = json.load(json_file)\n",
        "  pprint.pprint(evaluation_dict.keys())"
      ],
      "metadata": {
        "colab": {
          "base_uri": "https://localhost:8080/",
          "height": 201
        },
        "id": "L3SyaJsJBWMf",
        "outputId": "ef0fb223-bf6b-42da-efb0-4ce5950a0731"
      },
      "execution_count": 20,
      "outputs": [
        {
          "output_type": "error",
          "ename": "FileNotFoundError",
          "evalue": "ignored",
          "traceback": [
            "\u001b[0;31m---------------------------------------------------------------------------\u001b[0m",
            "\u001b[0;31mFileNotFoundError\u001b[0m                         Traceback (most recent call last)",
            "\u001b[0;32m<ipython-input-20-03b37440cc3e>\u001b[0m in \u001b[0;36m<module>\u001b[0;34m\u001b[0m\n\u001b[0;32m----> 1\u001b[0;31m \u001b[0;32mwith\u001b[0m \u001b[0mopen\u001b[0m\u001b[0;34m(\u001b[0m\u001b[0;34m'evaluation_dict.json'\u001b[0m\u001b[0;34m)\u001b[0m \u001b[0;32mas\u001b[0m \u001b[0mjson_file\u001b[0m\u001b[0;34m:\u001b[0m\u001b[0;34m\u001b[0m\u001b[0;34m\u001b[0m\u001b[0m\n\u001b[0m\u001b[1;32m      2\u001b[0m   \u001b[0mevaluation_dict\u001b[0m \u001b[0;34m=\u001b[0m \u001b[0mjson\u001b[0m\u001b[0;34m.\u001b[0m\u001b[0mload\u001b[0m\u001b[0;34m(\u001b[0m\u001b[0mjson_file\u001b[0m\u001b[0;34m)\u001b[0m\u001b[0;34m\u001b[0m\u001b[0;34m\u001b[0m\u001b[0m\n\u001b[1;32m      3\u001b[0m   \u001b[0mpprint\u001b[0m\u001b[0;34m.\u001b[0m\u001b[0mpprint\u001b[0m\u001b[0;34m(\u001b[0m\u001b[0mevaluation_dict\u001b[0m\u001b[0;34m.\u001b[0m\u001b[0mkeys\u001b[0m\u001b[0;34m(\u001b[0m\u001b[0;34m)\u001b[0m\u001b[0;34m)\u001b[0m\u001b[0;34m\u001b[0m\u001b[0;34m\u001b[0m\u001b[0m\n",
            "\u001b[0;31mFileNotFoundError\u001b[0m: [Errno 2] No such file or directory: 'evaluation_dict.json'"
          ]
        }
      ]
    },
    {
      "cell_type": "markdown",
      "source": [
        "### Option 2: Create empty JSON"
      ],
      "metadata": {
        "id": "HdhXEWIwBdHK"
      }
    },
    {
      "cell_type": "code",
      "source": [
        "evaluation_dict = {}"
      ],
      "metadata": {
        "id": "fFed6EBwBV-9"
      },
      "execution_count": null,
      "outputs": []
    },
    {
      "cell_type": "markdown",
      "metadata": {
        "id": "8ZPuxr9LOcp-"
      },
      "source": [
        "### ROUGE"
      ]
    },
    {
      "cell_type": "code",
      "execution_count": 45,
      "metadata": {
        "colab": {
          "base_uri": "https://localhost:8080/"
        },
        "id": "ftr9os6pRTou",
        "outputId": "8b4b0bda-45c7-48fb-be9c-cf0783706b50"
      },
      "outputs": [
        {
          "output_type": "stream",
          "name": "stdout",
          "text": [
            "Evaluating ROUGE on predictions.T5_base_pt_long.quac.triviaqa.csv...\n",
            "Evaluating ROUGE on predictions.bart_base_pt.squad.squad.csv...\n",
            "Evaluating ROUGE on predictions.T5_base_pt_long.nq.nq.csv...\n",
            "Evaluating ROUGE on predictions.T5_base_pt_long.triviaqa.triviaqa.csv...\n",
            "Evaluating ROUGE on predictions.T5_base_pt_long.nq.squad.csv...\n",
            "Evaluating ROUGE on predictions.T5_base_pt_long.triviaqa.squad.csv...\n",
            "Evaluating ROUGE on predictions.T5_base_pt_long.nq.quac.csv...\n",
            "Evaluating ROUGE on predictions.T5_base_pt_long.nq.triviaqa.csv...\n",
            "Evaluating ROUGE on predictions.T5_base_pt_long.triviaqa.quac.csv...\n",
            "Evaluating ROUGE on predictions.T5_base_pt_long.triviaqa.nq.csv...\n",
            "Evaluating ROUGE on predictions.T5_base_pt_long.squad.squad.csv...\n",
            "Evaluating ROUGE on predictions.T5_base_pt_long.squad.nq.csv...\n",
            "Evaluating ROUGE on predictions.T5_base_pt_long.squad.triviaqa.csv...\n",
            "Evaluating ROUGE on predictions.bart_base_pt.squad.quac.csv...\n",
            "Evaluating ROUGE on predictions.T5_base_pt_long.quac.squad.csv...\n",
            "Evaluating ROUGE on predictions.T5_base_pt_long.quac.nq.csv...\n",
            "Evaluating ROUGE on predictions.T5_base_pt_long.squad.quac.csv...\n",
            "Evaluating ROUGE on predictions.T5_base_pt_long.quac.quac.csv...\n"
          ]
        }
      ],
      "source": [
        "for id, dataset in enumerate(inference_dict.keys()):\n",
        "  print(f\"Evaluating ROUGE on {dataset}...\")\n",
        "\n",
        "  targets = inference_dict[dataset]['target'].tolist()\n",
        "  predictions = inference_dict[dataset]['prediction'].tolist()\n",
        "\n",
        "  # ROUGE scores\n",
        "  # The use_aggregator argument takes the average for us\n",
        "  rouge_results = rouge.compute(predictions=predictions,\n",
        "                                references=targets,\n",
        "                                use_aggregator=True)\n",
        "  \n",
        "  for metric in rouge_results:\n",
        "    \n",
        "    # If this dataset hasn't been added to dict, add it and metric\n",
        "    if not evaluation_dict.get(dataset):\n",
        "      evaluation_dict.update(\n",
        "            {\n",
        "                dataset: {metric: rouge_results[metric]}\n",
        "            }\n",
        "        )\n",
        "      \n",
        "    # This dataset already exists as a key, so add this metric\n",
        "    else:\n",
        "      evaluation_dict[dataset].update(\n",
        "          {\n",
        "              metric: rouge_results[metric]\n",
        "          }\n",
        "      )\n"
      ]
    },
    {
      "cell_type": "code",
      "source": [
        "# `evaluation_dict` as JSON\n",
        "filename = join(inference_root, \"evaluation_dict.json\")\n",
        "with open(filename, \"w\") as outfile:\n",
        "  json.dump(evaluation_dict, outfile)\n",
        "  print(f'JSON saved at {filename}')"
      ],
      "metadata": {
        "colab": {
          "base_uri": "https://localhost:8080/"
        },
        "id": "x65_l18sFYbx",
        "outputId": "9b226c1b-78d4-4c53-d5a5-983c7c12af7e"
      },
      "execution_count": 47,
      "outputs": [
        {
          "output_type": "stream",
          "name": "stdout",
          "text": [
            "JSON saved at /content/drive/MyDrive/w266 NLP Final Project/Predictions/evaluation_dict.json\n"
          ]
        }
      ]
    },
    {
      "cell_type": "markdown",
      "metadata": {
        "id": "Bzga2-JBq8O-"
      },
      "source": [
        "### BLEU-RT"
      ]
    },
    {
      "cell_type": "code",
      "execution_count": 44,
      "metadata": {
        "colab": {
          "base_uri": "https://localhost:8080/"
        },
        "id": "X67s6wPoS9bw",
        "outputId": "83a5ec53-111c-4db1-8508-bc247f122039"
      },
      "outputs": [
        {
          "output_type": "stream",
          "name": "stdout",
          "text": [
            "All predictions to evaluate:\n",
            "    predictions.T5_base_pt_long.quac.triviaqa.csv\n",
            "    predictions.bart_base_pt.squad.squad.csv\n",
            "    predictions.T5_base_pt_long.nq.nq.csv\n",
            "    predictions.T5_base_pt_long.triviaqa.triviaqa.csv\n",
            "    predictions.T5_base_pt_long.nq.squad.csv\n",
            "    predictions.T5_base_pt_long.triviaqa.squad.csv\n",
            "    predictions.T5_base_pt_long.nq.quac.csv\n",
            "    predictions.T5_base_pt_long.nq.triviaqa.csv\n",
            "    predictions.T5_base_pt_long.triviaqa.quac.csv\n",
            "    predictions.T5_base_pt_long.triviaqa.nq.csv\n",
            "    predictions.T5_base_pt_long.squad.squad.csv\n",
            "    predictions.T5_base_pt_long.squad.nq.csv\n",
            "    predictions.T5_base_pt_long.squad.triviaqa.csv\n",
            "    predictions.bart_base_pt.squad.quac.csv\n",
            "    predictions.T5_base_pt_long.quac.squad.csv\n",
            "    predictions.T5_base_pt_long.quac.nq.csv\n",
            "    predictions.T5_base_pt_long.squad.quac.csv\n",
            "    predictions.T5_base_pt_long.quac.quac.csv\n",
            "\n",
            "Predictions with BLEU-RT evaluations:\n"
          ]
        }
      ],
      "source": [
        "# BLEU-RT takes longer, so here's an option to pick-up where\n",
        "# we left off prior if Colab terminated the session\n",
        "\n",
        "print('All predictions to evaluate:')\n",
        "for dataset in inference_dict.keys():\n",
        "  print(f'    {dataset}')\n",
        "\n",
        "print()\n",
        "print('Predictions with BLEU-RT evaluations:')\n",
        "for eval in evaluation_dict.keys():\n",
        "  if evaluation_dict[eval]['bleurt']:\n",
        "    print('    ' + eval)"
      ]
    },
    {
      "cell_type": "code",
      "execution_count": 23,
      "metadata": {
        "id": "3d1kLDM7UVSg"
      },
      "outputs": [],
      "source": [
        "# Copy a dataset name string from above and paste below\n",
        "# or set to None to evaluate all of them.\n",
        "begin_at = None"
      ]
    },
    {
      "cell_type": "code",
      "execution_count": null,
      "metadata": {
        "colab": {
          "base_uri": "https://localhost:8080/"
        },
        "id": "RTbgwIjkxH3-",
        "outputId": "676d414c-5028-421c-e9f1-874ec5340499"
      },
      "outputs": [
        {
          "output_type": "stream",
          "name": "stdout",
          "text": [
            "Evaluating BLEU-RT on predictions.T5_base_pt_long.quac.triviaqa.csv...\n"
          ]
        }
      ],
      "source": [
        "# Used to control which dataset to resume evaluation at\n",
        "play = False\n",
        "\n",
        "for id, dataset in enumerate(inference_dict.keys()):\n",
        "\n",
        "  # Do not evaluate until we reach the `begin_at` dataset\n",
        "  if dataset == begin_at or begin_at is None:\n",
        "    play = True\n",
        "  \n",
        "  # If `play` is True, we've reached the dataset and can resume evaluation\n",
        "  if play:\n",
        "    print(f\"Evaluating BLEU-RT on {dataset}...\")\n",
        "\n",
        "    targets = inference_dict[dataset]['target'].tolist()\n",
        "    predictions = inference_dict[dataset]['prediction'].tolist()\n",
        "\n",
        "    # BLEU-RT scores\n",
        "    bleurt_results = bleurt.compute(predictions=predictions,\n",
        "                                    references=targets)\n",
        "    \n",
        "    # Average over scores\n",
        "    bleurt_scores_list = bleurt_results['scores']\n",
        "    avg_bleurt = sum(bleurt_scores_list) / len(bleurt_scores_list)\n",
        "      \n",
        "    # If this dataset hasn't been added to dict, add it and metric\n",
        "    if not evaluation_dict.get(dataset):\n",
        "      evaluation_dict.update(\n",
        "            {\n",
        "                dataset: {'bleurt': avg_bleurt}\n",
        "            }\n",
        "        )\n",
        "      \n",
        "    # This dataset already exists as a key, so add this metric\n",
        "    else:\n",
        "      evaluation_dict[dataset].update(\n",
        "          {\n",
        "              'bleurt': avg_bleurt\n",
        "          }\n",
        "      )\n",
        "\n",
        "    # Save this version of `evaluation_dict` as JSON in case Colab dies out\n",
        "    filename = join(inference_root, \"evaluation_dict.json\")\n",
        "    with open(filename, \"w\") as outfile:\n",
        "      json.dump(evaluation_dict, outfile)\n",
        "      print(f'JSON saved at {filename}')\n",
        "\n",
        "  # If `play` is False, we have not reached the `begin_at` dataset yet\n",
        "  else:\n",
        "    print(f\"Skipping {dataset}.\")\n"
      ]
    },
    {
      "cell_type": "code",
      "execution_count": null,
      "metadata": {
        "id": "b84WuMymyUKW"
      },
      "outputs": [],
      "source": [
        "pprint.pprint(evaluation_dict)"
      ]
    },
    {
      "cell_type": "markdown",
      "metadata": {
        "id": "eUUWH7nTrAzS"
      },
      "source": [
        "### BERTScore"
      ]
    },
    {
      "cell_type": "code",
      "execution_count": null,
      "metadata": {
        "id": "MtikcvCx1Uw9"
      },
      "outputs": [],
      "source": [
        "for id, dataset in enumerate(inference_dict.keys()):\n",
        "  print(f\"Evaluating BERTScore on {dataset}...\")\n",
        "\n",
        "  targets = inference_dict[dataset]['target'].tolist()\n",
        "  predictions = inference_dict[dataset]['prediction'].tolist()\n",
        "\n",
        "  # BERT Scores\n",
        "  bertscore_results = bertscore.compute(predictions=predictions,\n",
        "                                        references=targets,\n",
        "                                        model_type='distilbert-base-uncased')\n",
        "  \n",
        "  # Average over scores\n",
        "  bertscore_precision_list = bertscore_results['precision']\n",
        "  bertscore_recall_list = bertscore_results['recall']\n",
        "  bertscore_f1_list = bertscore_results['f1']\n",
        "\n",
        "  avg_precision = sum(bertscore_precision_list) / len(bertscore_precision_list)\n",
        "  avg_recall = sum(bertscore_recall_list) / len(bertscore_recall_list)\n",
        "  avg_f1 = sum(bertscore_f1_list) / len(bertscore_f1_list)\n",
        "    \n",
        "  # If this dataset hasn't been added to dict, add it and metric\n",
        "  if not evaluation_dict.get(dataset):\n",
        "    evaluation_dict.update(\n",
        "          {\n",
        "              dataset: {'bertscore-precision': avg_precision,\n",
        "                        'bertscore-recall': avg_recall,\n",
        "                        'bertscore-f1': avg_f1}\n",
        "          }\n",
        "      )\n",
        "    \n",
        "  # This dataset already exists as a key, so add this metric\n",
        "  else:\n",
        "    evaluation_dict[dataset].update(\n",
        "        {\n",
        "            'bertscore-precision': avg_precision,\n",
        "            'bertscore-recall': avg_recall,\n",
        "            'bertscore-f1': avg_f1\n",
        "        }\n",
        "    )\n"
      ]
    },
    {
      "cell_type": "markdown",
      "metadata": {
        "id": "mTq3qyEjrC8y"
      },
      "source": [
        "### METEOR"
      ]
    },
    {
      "cell_type": "code",
      "execution_count": null,
      "metadata": {
        "colab": {
          "base_uri": "https://localhost:8080/"
        },
        "id": "xhFjML6rrbop",
        "outputId": "c7c3df34-36ea-4690-f951-c1b59589feef"
      },
      "outputs": [
        {
          "name": "stdout",
          "output_type": "stream",
          "text": [
            "Evaluating METEOR on predictions.T5_base_pt.squad.quac.csv...\n",
            "Evaluating METEOR on predictions.T5_base_pt.squad.squad.csv...\n",
            "Evaluating METEOR on predictions.T5_base_pt.quac.squad.csv...\n",
            "Evaluating METEOR on predictions.T5_base_pt.quac.quac.csv...\n",
            "Evaluating METEOR on predictions.T5_base_pt.squad.nq.csv...\n",
            "Evaluating METEOR on predictions.T5_base_pt.quac.nq.csv...\n",
            "Evaluating METEOR on predictions.T5_base_pt_long.squad.triviaqa.csv...\n",
            "Evaluating METEOR on predictions.T5_base_pt_long.quac.triviaqa.csv...\n",
            "Evaluating METEOR on predictions.bart_base_pt.squad.squad.csv...\n"
          ]
        }
      ],
      "source": [
        "for id, dataset in enumerate(inference_dict.keys()):\n",
        "  print(f\"Evaluating METEOR on {dataset}...\")\n",
        "\n",
        "  targets = inference_dict[dataset]['target'].tolist()\n",
        "  predictions = inference_dict[dataset]['prediction'].tolist()\n",
        "\n",
        "  meteor_results_list = []\n",
        "\n",
        "  # METEOR takes a pair of inputs at a time\n",
        "  for pair in zip(targets, predictions):\n",
        "    \n",
        "    # Calculate METEOR scores\n",
        "    results = meteor.compute(predictions=[pair[0]],\n",
        "                             references=[pair[1]])\n",
        "    \n",
        "    meteor_results_list.append(results['meteor'])\n",
        "  \n",
        "  avg_meteor = sum(meteor_results_list) / len(meteor_results_list)\n",
        "\n",
        "  # Add METEOR to dictionary\n",
        "  # If this dataset hasn't been added to dict, add it and metric\n",
        "  if not evaluation_dict.get(dataset):\n",
        "    evaluation_dict.update(\n",
        "        {\n",
        "            dataset: {'meteor': avg_meteor}\n",
        "        }\n",
        "    )\n",
        "  \n",
        "  # This dataset already exists as a key, so add this metric\n",
        "  else:\n",
        "      evaluation_dict[dataset].update(\n",
        "          {\n",
        "              'meteor': avg_meteor\n",
        "          }\n",
        "      )\n"
      ]
    },
    {
      "cell_type": "code",
      "execution_count": null,
      "metadata": {
        "colab": {
          "base_uri": "https://localhost:8080/"
        },
        "id": "0f3trYfXuebr",
        "outputId": "977ba3c1-1e5a-4e2a-8b29-b6520af355f4"
      },
      "outputs": [
        {
          "data": {
            "text/plain": [
              "{'predictions.T5_base_pt.squad.quac.csv': {'meteor': 0.15452861614981653,\n",
              "  'rouge1': 0.18246685757067002,\n",
              "  'rouge2': 0.039596756029108796,\n",
              "  'rougeL': 0.17629216493034694,\n",
              "  'rougeLsum': 0.1763863380861867},\n",
              " 'predictions.T5_base_pt.squad.squad.csv': {'rouge1': 0.4505391054758221,\n",
              "  'rouge2': 0.23630356484624362,\n",
              "  'rougeL': 0.41706970371613455,\n",
              "  'rougeLsum': 0.4169109103737757,\n",
              "  'meteor': 0.4430975371865821},\n",
              " 'predictions.T5_base_pt.quac.squad.csv': {'rouge1': 0.2995440075780461,\n",
              "  'rouge2': 0.10090232093578526,\n",
              "  'rougeL': 0.27689684166147077,\n",
              "  'rougeLsum': 0.27709570427605157,\n",
              "  'meteor': 0.32373301147608025},\n",
              " 'predictions.T5_base_pt.quac.quac.csv': {'rouge1': 0.21764427384319768,\n",
              "  'rouge2': 0.0718138922285132,\n",
              "  'rougeL': 0.21306161056965345,\n",
              "  'rougeLsum': 0.21318144470237674,\n",
              "  'meteor': 0.2247521536626319},\n",
              " 'predictions.T5_base_pt.squad.nq.csv': {'rouge1': 0.34958469648362983,\n",
              "  'rouge2': 0.1639298816200002,\n",
              "  'rougeL': 0.3276778292684154,\n",
              "  'rougeLsum': 0.32779565382724274,\n",
              "  'meteor': 0.2694306204049121},\n",
              " 'predictions.T5_base_pt.quac.nq.csv': {'rouge1': 0.25728935276041587,\n",
              "  'rouge2': 0.10031120086014222,\n",
              "  'rougeL': 0.2419926589441546,\n",
              "  'rougeLsum': 0.24207844859955746,\n",
              "  'meteor': 0.20906696581923326},\n",
              " 'predictions.T5_base_pt_long.squad.triviaqa.csv': {'rouge1': 0.31188967683275043,\n",
              "  'rouge2': 0.11144286663987,\n",
              "  'rougeL': 0.2693780310845009,\n",
              "  'rougeLsum': 0.26926004183579144,\n",
              "  'meteor': 0.31080680839927166},\n",
              " 'predictions.T5_base_pt_long.quac.triviaqa.csv': {'rouge1': 0.11572891189287132,\n",
              "  'rouge2': 0.011757222291305809,\n",
              "  'rougeL': 0.10806013642756193,\n",
              "  'rougeLsum': 0.10801181882867728,\n",
              "  'meteor': 0.15228926747532834},\n",
              " 'predictions.bart_base_pt.squad.squad.csv': {'rouge1': 0.49870305386996494,\n",
              "  'rouge2': 0.2852314571949791,\n",
              "  'rougeL': 0.4653492280175048,\n",
              "  'rougeLsum': 0.4654403396891432,\n",
              "  'meteor': 0.49918084899063064}}"
            ]
          },
          "execution_count": 48,
          "metadata": {},
          "output_type": "execute_result"
        }
      ],
      "source": [
        "evaluation_dict"
      ]
    },
    {
      "cell_type": "markdown",
      "metadata": {
        "id": "SOZSoXny2NR0"
      },
      "source": [
        "# Archive"
      ]
    },
    {
      "cell_type": "markdown",
      "metadata": {
        "id": "ZL2ecf5_yWoN"
      },
      "source": [
        "⚠️ This cell takes some time. ⚠️"
      ]
    },
    {
      "cell_type": "code",
      "execution_count": null,
      "metadata": {
        "colab": {
          "base_uri": "https://localhost:8080/",
          "height": 381
        },
        "id": "3axFb4Ihuapi",
        "outputId": "3fee34f9-fee6-48ae-eb28-56e732d8042d"
      },
      "outputs": [
        {
          "ename": "KeyboardInterrupt",
          "evalue": "ignored",
          "output_type": "error",
          "traceback": [
            "\u001b[0;31m---------------------------------------------------------------------------\u001b[0m",
            "\u001b[0;31mKeyboardInterrupt\u001b[0m                         Traceback (most recent call last)",
            "\u001b[0;32m<ipython-input-49-ac0a09b4e6fe>\u001b[0m in \u001b[0;36m<module>\u001b[0;34m\u001b[0m\n\u001b[1;32m     22\u001b[0m   \u001b[0;31m# BLEU-RT\u001b[0m\u001b[0;34m\u001b[0m\u001b[0;34m\u001b[0m\u001b[0;34m\u001b[0m\u001b[0m\n\u001b[1;32m     23\u001b[0m   bleurt_results = bleurt.compute(predictions=predictions,\n\u001b[0;32m---> 24\u001b[0;31m                                   references=targets)\n\u001b[0m\u001b[1;32m     25\u001b[0m   evaluation_dict.update(\n\u001b[1;32m     26\u001b[0m       {\n",
            "\u001b[0;32m/usr/local/lib/python3.7/dist-packages/evaluate/module.py\u001b[0m in \u001b[0;36mcompute\u001b[0;34m(self, predictions, references, **kwargs)\u001b[0m\n\u001b[1;32m    442\u001b[0m             \u001b[0minputs\u001b[0m \u001b[0;34m=\u001b[0m \u001b[0;34m{\u001b[0m\u001b[0minput_name\u001b[0m\u001b[0;34m:\u001b[0m \u001b[0mself\u001b[0m\u001b[0;34m.\u001b[0m\u001b[0mdata\u001b[0m\u001b[0;34m[\u001b[0m\u001b[0minput_name\u001b[0m\u001b[0;34m]\u001b[0m \u001b[0;32mfor\u001b[0m \u001b[0minput_name\u001b[0m \u001b[0;32min\u001b[0m \u001b[0mself\u001b[0m\u001b[0;34m.\u001b[0m\u001b[0m_feature_names\u001b[0m\u001b[0;34m(\u001b[0m\u001b[0;34m)\u001b[0m\u001b[0;34m}\u001b[0m\u001b[0;34m\u001b[0m\u001b[0;34m\u001b[0m\u001b[0m\n\u001b[1;32m    443\u001b[0m             \u001b[0;32mwith\u001b[0m \u001b[0mtemp_seed\u001b[0m\u001b[0;34m(\u001b[0m\u001b[0mself\u001b[0m\u001b[0;34m.\u001b[0m\u001b[0mseed\u001b[0m\u001b[0;34m)\u001b[0m\u001b[0;34m:\u001b[0m\u001b[0;34m\u001b[0m\u001b[0;34m\u001b[0m\u001b[0m\n\u001b[0;32m--> 444\u001b[0;31m                 \u001b[0moutput\u001b[0m \u001b[0;34m=\u001b[0m \u001b[0mself\u001b[0m\u001b[0;34m.\u001b[0m\u001b[0m_compute\u001b[0m\u001b[0;34m(\u001b[0m\u001b[0;34m**\u001b[0m\u001b[0minputs\u001b[0m\u001b[0;34m,\u001b[0m \u001b[0;34m**\u001b[0m\u001b[0mcompute_kwargs\u001b[0m\u001b[0;34m)\u001b[0m\u001b[0;34m\u001b[0m\u001b[0;34m\u001b[0m\u001b[0m\n\u001b[0m\u001b[1;32m    445\u001b[0m \u001b[0;34m\u001b[0m\u001b[0m\n\u001b[1;32m    446\u001b[0m             \u001b[0;32mif\u001b[0m \u001b[0mself\u001b[0m\u001b[0;34m.\u001b[0m\u001b[0mbuf_writer\u001b[0m \u001b[0;32mis\u001b[0m \u001b[0;32mnot\u001b[0m \u001b[0;32mNone\u001b[0m\u001b[0;34m:\u001b[0m\u001b[0;34m\u001b[0m\u001b[0;34m\u001b[0m\u001b[0m\n",
            "\u001b[0;32m~/.cache/huggingface/modules/evaluate_modules/metrics/evaluate-metric--bleurt/98e148b2f8c4a88aba5037e4e0e90c9fd9ec35dc37a054ded8cfef0fa801ffab/bleurt.py\u001b[0m in \u001b[0;36m_compute\u001b[0;34m(self, predictions, references)\u001b[0m\n\u001b[1;32m    122\u001b[0m \u001b[0;34m\u001b[0m\u001b[0m\n\u001b[1;32m    123\u001b[0m     \u001b[0;32mdef\u001b[0m \u001b[0m_compute\u001b[0m\u001b[0;34m(\u001b[0m\u001b[0mself\u001b[0m\u001b[0;34m,\u001b[0m \u001b[0mpredictions\u001b[0m\u001b[0;34m,\u001b[0m \u001b[0mreferences\u001b[0m\u001b[0;34m)\u001b[0m\u001b[0;34m:\u001b[0m\u001b[0;34m\u001b[0m\u001b[0;34m\u001b[0m\u001b[0m\n\u001b[0;32m--> 124\u001b[0;31m         \u001b[0mscores\u001b[0m \u001b[0;34m=\u001b[0m \u001b[0mself\u001b[0m\u001b[0;34m.\u001b[0m\u001b[0mscorer\u001b[0m\u001b[0;34m.\u001b[0m\u001b[0mscore\u001b[0m\u001b[0;34m(\u001b[0m\u001b[0mreferences\u001b[0m\u001b[0;34m=\u001b[0m\u001b[0mreferences\u001b[0m\u001b[0;34m,\u001b[0m \u001b[0mcandidates\u001b[0m\u001b[0;34m=\u001b[0m\u001b[0mpredictions\u001b[0m\u001b[0;34m)\u001b[0m\u001b[0;34m\u001b[0m\u001b[0;34m\u001b[0m\u001b[0m\n\u001b[0m\u001b[1;32m    125\u001b[0m         \u001b[0;32mreturn\u001b[0m \u001b[0;34m{\u001b[0m\u001b[0;34m\"scores\"\u001b[0m\u001b[0;34m:\u001b[0m \u001b[0mscores\u001b[0m\u001b[0;34m}\u001b[0m\u001b[0;34m\u001b[0m\u001b[0;34m\u001b[0m\u001b[0m\n",
            "\u001b[0;32m/usr/local/lib/python3.7/dist-packages/bleurt/score.py\u001b[0m in \u001b[0;36mscore\u001b[0;34m(self, references, candidates, batch_size, *args)\u001b[0m\n\u001b[1;32m    212\u001b[0m           \u001b[0;34m\"segment_ids\"\u001b[0m\u001b[0;34m:\u001b[0m \u001b[0msegment_ids\u001b[0m\u001b[0;34m\u001b[0m\u001b[0;34m\u001b[0m\u001b[0m\n\u001b[1;32m    213\u001b[0m       }\n\u001b[0;32m--> 214\u001b[0;31m       \u001b[0mpredict_out\u001b[0m \u001b[0;34m=\u001b[0m \u001b[0mself\u001b[0m\u001b[0;34m.\u001b[0m\u001b[0m_predictor\u001b[0m\u001b[0;34m.\u001b[0m\u001b[0mpredict\u001b[0m\u001b[0;34m(\u001b[0m\u001b[0mtf_input\u001b[0m\u001b[0;34m)\u001b[0m\u001b[0;34m\u001b[0m\u001b[0;34m\u001b[0m\u001b[0m\n\u001b[0m\u001b[1;32m    215\u001b[0m       \u001b[0mbatch_results\u001b[0m \u001b[0;34m=\u001b[0m \u001b[0mpredict_out\u001b[0m\u001b[0;34m.\u001b[0m\u001b[0mtolist\u001b[0m\u001b[0;34m(\u001b[0m\u001b[0;34m)\u001b[0m\u001b[0;34m\u001b[0m\u001b[0;34m\u001b[0m\u001b[0m\n\u001b[1;32m    216\u001b[0m       \u001b[0mall_results\u001b[0m\u001b[0;34m.\u001b[0m\u001b[0mextend\u001b[0m\u001b[0;34m(\u001b[0m\u001b[0mbatch_results\u001b[0m\u001b[0;34m)\u001b[0m\u001b[0;34m\u001b[0m\u001b[0;34m\u001b[0m\u001b[0m\n",
            "\u001b[0;32m/usr/local/lib/python3.7/dist-packages/bleurt/score.py\u001b[0m in \u001b[0;36mpredict\u001b[0;34m(self, input_dict)\u001b[0m\n\u001b[1;32m     68\u001b[0m         \u001b[0minput_mask\u001b[0m\u001b[0;34m=\u001b[0m\u001b[0mtf\u001b[0m\u001b[0;34m.\u001b[0m\u001b[0mconstant\u001b[0m\u001b[0;34m(\u001b[0m\u001b[0minput_dict\u001b[0m\u001b[0;34m[\u001b[0m\u001b[0;34m\"input_mask\"\u001b[0m\u001b[0;34m]\u001b[0m\u001b[0;34m,\u001b[0m \u001b[0mdtype\u001b[0m\u001b[0;34m=\u001b[0m\u001b[0mtf\u001b[0m\u001b[0;34m.\u001b[0m\u001b[0mint64\u001b[0m\u001b[0;34m)\u001b[0m\u001b[0;34m,\u001b[0m\u001b[0;34m\u001b[0m\u001b[0;34m\u001b[0m\u001b[0m\n\u001b[1;32m     69\u001b[0m         segment_ids=tf.constant(input_dict[\"segment_ids\"],\n\u001b[0;32m---> 70\u001b[0;31m                                 dtype=tf.int64))[\"predictions\"].numpy()\n\u001b[0m\u001b[1;32m     71\u001b[0m     \u001b[0;32mreturn\u001b[0m \u001b[0mpredictions\u001b[0m\u001b[0;34m\u001b[0m\u001b[0;34m\u001b[0m\u001b[0m\n\u001b[1;32m     72\u001b[0m \u001b[0;34m\u001b[0m\u001b[0m\n",
            "\u001b[0;32m/usr/local/lib/python3.7/dist-packages/tensorflow/python/eager/function.py\u001b[0m in \u001b[0;36m__call__\u001b[0;34m(self, *args, **kwargs)\u001b[0m\n\u001b[1;32m   1600\u001b[0m       \u001b[0mTypeError\u001b[0m\u001b[0;34m:\u001b[0m \u001b[0mIf\u001b[0m \u001b[0mthe\u001b[0m \u001b[0marguments\u001b[0m \u001b[0mdo\u001b[0m \u001b[0;32mnot\u001b[0m \u001b[0mmatch\u001b[0m \u001b[0mthe\u001b[0m \u001b[0mfunction\u001b[0m\u001b[0;31m'\u001b[0m\u001b[0ms\u001b[0m \u001b[0msignature\u001b[0m\u001b[0;34m.\u001b[0m\u001b[0;34m\u001b[0m\u001b[0;34m\u001b[0m\u001b[0m\n\u001b[1;32m   1601\u001b[0m     \"\"\"\n\u001b[0;32m-> 1602\u001b[0;31m     \u001b[0;32mreturn\u001b[0m \u001b[0mself\u001b[0m\u001b[0;34m.\u001b[0m\u001b[0m_call_impl\u001b[0m\u001b[0;34m(\u001b[0m\u001b[0margs\u001b[0m\u001b[0;34m,\u001b[0m \u001b[0mkwargs\u001b[0m\u001b[0;34m)\u001b[0m\u001b[0;34m\u001b[0m\u001b[0;34m\u001b[0m\u001b[0m\n\u001b[0m\u001b[1;32m   1603\u001b[0m \u001b[0;34m\u001b[0m\u001b[0m\n\u001b[1;32m   1604\u001b[0m   \u001b[0;32mdef\u001b[0m \u001b[0m_call_impl\u001b[0m\u001b[0;34m(\u001b[0m\u001b[0mself\u001b[0m\u001b[0;34m,\u001b[0m \u001b[0margs\u001b[0m\u001b[0;34m,\u001b[0m \u001b[0mkwargs\u001b[0m\u001b[0;34m,\u001b[0m \u001b[0mcancellation_manager\u001b[0m\u001b[0;34m=\u001b[0m\u001b[0;32mNone\u001b[0m\u001b[0;34m)\u001b[0m\u001b[0;34m:\u001b[0m\u001b[0;34m\u001b[0m\u001b[0;34m\u001b[0m\u001b[0m\n",
            "\u001b[0;32m/usr/local/lib/python3.7/dist-packages/tensorflow/python/eager/wrap_function.py\u001b[0m in \u001b[0;36m_call_impl\u001b[0;34m(self, args, kwargs, cancellation_manager)\u001b[0m\n\u001b[1;32m    242\u001b[0m     \u001b[0;32melse\u001b[0m\u001b[0;34m:\u001b[0m\u001b[0;34m\u001b[0m\u001b[0;34m\u001b[0m\u001b[0m\n\u001b[1;32m    243\u001b[0m       return super(WrappedFunction, self)._call_impl(\n\u001b[0;32m--> 244\u001b[0;31m           args, kwargs, cancellation_manager)\n\u001b[0m\u001b[1;32m    245\u001b[0m \u001b[0;34m\u001b[0m\u001b[0m\n\u001b[1;32m    246\u001b[0m   \u001b[0;32mdef\u001b[0m \u001b[0mprune\u001b[0m\u001b[0;34m(\u001b[0m\u001b[0mself\u001b[0m\u001b[0;34m,\u001b[0m \u001b[0mfeeds\u001b[0m\u001b[0;34m,\u001b[0m \u001b[0mfetches\u001b[0m\u001b[0;34m,\u001b[0m \u001b[0mname\u001b[0m\u001b[0;34m=\u001b[0m\u001b[0;32mNone\u001b[0m\u001b[0;34m,\u001b[0m \u001b[0minput_signature\u001b[0m\u001b[0;34m=\u001b[0m\u001b[0;32mNone\u001b[0m\u001b[0;34m)\u001b[0m\u001b[0;34m:\u001b[0m\u001b[0;34m\u001b[0m\u001b[0;34m\u001b[0m\u001b[0m\n",
            "\u001b[0;32m/usr/local/lib/python3.7/dist-packages/tensorflow/python/eager/function.py\u001b[0m in \u001b[0;36m_call_impl\u001b[0;34m(self, args, kwargs, cancellation_manager)\u001b[0m\n\u001b[1;32m   1618\u001b[0m             \u001b[0;32mraise\u001b[0m \u001b[0mstructured_err\u001b[0m\u001b[0;34m\u001b[0m\u001b[0;34m\u001b[0m\u001b[0m\n\u001b[1;32m   1619\u001b[0m \u001b[0;34m\u001b[0m\u001b[0m\n\u001b[0;32m-> 1620\u001b[0;31m       \u001b[0;32mreturn\u001b[0m \u001b[0mself\u001b[0m\u001b[0;34m.\u001b[0m\u001b[0m_call_with_flat_signature\u001b[0m\u001b[0;34m(\u001b[0m\u001b[0margs\u001b[0m\u001b[0;34m,\u001b[0m \u001b[0mkwargs\u001b[0m\u001b[0;34m,\u001b[0m \u001b[0mcancellation_manager\u001b[0m\u001b[0;34m)\u001b[0m\u001b[0;34m\u001b[0m\u001b[0;34m\u001b[0m\u001b[0m\n\u001b[0m\u001b[1;32m   1621\u001b[0m \u001b[0;34m\u001b[0m\u001b[0m\n\u001b[1;32m   1622\u001b[0m   \u001b[0;32mdef\u001b[0m \u001b[0m_call_with_flat_signature\u001b[0m\u001b[0;34m(\u001b[0m\u001b[0mself\u001b[0m\u001b[0;34m,\u001b[0m \u001b[0margs\u001b[0m\u001b[0;34m,\u001b[0m \u001b[0mkwargs\u001b[0m\u001b[0;34m,\u001b[0m \u001b[0mcancellation_manager\u001b[0m\u001b[0;34m)\u001b[0m\u001b[0;34m:\u001b[0m\u001b[0;34m\u001b[0m\u001b[0;34m\u001b[0m\u001b[0m\n",
            "\u001b[0;32m/usr/local/lib/python3.7/dist-packages/tensorflow/python/eager/function.py\u001b[0m in \u001b[0;36m_call_with_flat_signature\u001b[0;34m(self, args, kwargs, cancellation_manager)\u001b[0m\n\u001b[1;32m   1667\u001b[0m                         \u001b[0;34mf\"#{i}(zero-based) to be a Tensor; \"\u001b[0m\u001b[0;34m\u001b[0m\u001b[0;34m\u001b[0m\u001b[0m\n\u001b[1;32m   1668\u001b[0m                         f\"got {type(arg).__name__} ({arg}).\")\n\u001b[0;32m-> 1669\u001b[0;31m     \u001b[0;32mreturn\u001b[0m \u001b[0mself\u001b[0m\u001b[0;34m.\u001b[0m\u001b[0m_call_flat\u001b[0m\u001b[0;34m(\u001b[0m\u001b[0margs\u001b[0m\u001b[0;34m,\u001b[0m \u001b[0mself\u001b[0m\u001b[0;34m.\u001b[0m\u001b[0mcaptured_inputs\u001b[0m\u001b[0;34m,\u001b[0m \u001b[0mcancellation_manager\u001b[0m\u001b[0;34m)\u001b[0m\u001b[0;34m\u001b[0m\u001b[0;34m\u001b[0m\u001b[0m\n\u001b[0m\u001b[1;32m   1670\u001b[0m \u001b[0;34m\u001b[0m\u001b[0m\n\u001b[1;32m   1671\u001b[0m   \u001b[0;32mdef\u001b[0m \u001b[0m_call_with_structured_signature\u001b[0m\u001b[0;34m(\u001b[0m\u001b[0mself\u001b[0m\u001b[0;34m,\u001b[0m \u001b[0margs\u001b[0m\u001b[0;34m,\u001b[0m \u001b[0mkwargs\u001b[0m\u001b[0;34m,\u001b[0m \u001b[0mcancellation_manager\u001b[0m\u001b[0;34m)\u001b[0m\u001b[0;34m:\u001b[0m\u001b[0;34m\u001b[0m\u001b[0;34m\u001b[0m\u001b[0m\n",
            "\u001b[0;32m/usr/local/lib/python3.7/dist-packages/tensorflow/python/eager/function.py\u001b[0m in \u001b[0;36m_call_flat\u001b[0;34m(self, args, captured_inputs, cancellation_manager)\u001b[0m\n\u001b[1;32m   1859\u001b[0m       \u001b[0;31m# No tape is watching; skip to running the function.\u001b[0m\u001b[0;34m\u001b[0m\u001b[0;34m\u001b[0m\u001b[0;34m\u001b[0m\u001b[0m\n\u001b[1;32m   1860\u001b[0m       return self._build_call_outputs(self._inference_function.call(\n\u001b[0;32m-> 1861\u001b[0;31m           ctx, args, cancellation_manager=cancellation_manager))\n\u001b[0m\u001b[1;32m   1862\u001b[0m     forward_backward = self._select_forward_and_backward_functions(\n\u001b[1;32m   1863\u001b[0m         \u001b[0margs\u001b[0m\u001b[0;34m,\u001b[0m\u001b[0;34m\u001b[0m\u001b[0;34m\u001b[0m\u001b[0m\n",
            "\u001b[0;32m/usr/local/lib/python3.7/dist-packages/tensorflow/python/eager/function.py\u001b[0m in \u001b[0;36mcall\u001b[0;34m(self, ctx, args, cancellation_manager)\u001b[0m\n\u001b[1;32m    500\u001b[0m               \u001b[0minputs\u001b[0m\u001b[0;34m=\u001b[0m\u001b[0margs\u001b[0m\u001b[0;34m,\u001b[0m\u001b[0;34m\u001b[0m\u001b[0;34m\u001b[0m\u001b[0m\n\u001b[1;32m    501\u001b[0m               \u001b[0mattrs\u001b[0m\u001b[0;34m=\u001b[0m\u001b[0mattrs\u001b[0m\u001b[0;34m,\u001b[0m\u001b[0;34m\u001b[0m\u001b[0;34m\u001b[0m\u001b[0m\n\u001b[0;32m--> 502\u001b[0;31m               ctx=ctx)\n\u001b[0m\u001b[1;32m    503\u001b[0m         \u001b[0;32melse\u001b[0m\u001b[0;34m:\u001b[0m\u001b[0;34m\u001b[0m\u001b[0;34m\u001b[0m\u001b[0m\n\u001b[1;32m    504\u001b[0m           outputs = execute.execute_with_cancellation(\n",
            "\u001b[0;32m/usr/local/lib/python3.7/dist-packages/tensorflow/python/eager/execute.py\u001b[0m in \u001b[0;36mquick_execute\u001b[0;34m(op_name, num_outputs, inputs, attrs, ctx, name)\u001b[0m\n\u001b[1;32m     53\u001b[0m     \u001b[0mctx\u001b[0m\u001b[0;34m.\u001b[0m\u001b[0mensure_initialized\u001b[0m\u001b[0;34m(\u001b[0m\u001b[0;34m)\u001b[0m\u001b[0;34m\u001b[0m\u001b[0;34m\u001b[0m\u001b[0m\n\u001b[1;32m     54\u001b[0m     tensors = pywrap_tfe.TFE_Py_Execute(ctx._handle, device_name, op_name,\n\u001b[0;32m---> 55\u001b[0;31m                                         inputs, attrs, num_outputs)\n\u001b[0m\u001b[1;32m     56\u001b[0m   \u001b[0;32mexcept\u001b[0m \u001b[0mcore\u001b[0m\u001b[0;34m.\u001b[0m\u001b[0m_NotOkStatusException\u001b[0m \u001b[0;32mas\u001b[0m \u001b[0me\u001b[0m\u001b[0;34m:\u001b[0m\u001b[0;34m\u001b[0m\u001b[0;34m\u001b[0m\u001b[0m\n\u001b[1;32m     57\u001b[0m     \u001b[0;32mif\u001b[0m \u001b[0mname\u001b[0m \u001b[0;32mis\u001b[0m \u001b[0;32mnot\u001b[0m \u001b[0;32mNone\u001b[0m\u001b[0;34m:\u001b[0m\u001b[0;34m\u001b[0m\u001b[0;34m\u001b[0m\u001b[0m\n",
            "\u001b[0;31mKeyboardInterrupt\u001b[0m: "
          ]
        }
      ],
      "source": [
        "evaluation_dict = {}\n",
        "\n",
        "for id, dataset in enumerate(inference_dict.keys()):\n",
        "\n",
        "  # Get this dataset's `target` and `prediction` values\n",
        "  targets = inference_dict[dataset]['target'].tolist()\n",
        "  predictions = inference_dict[dataset]['prediction'].tolist()\n",
        "\n",
        "  \n",
        "  # Evaluations\n",
        "\n",
        "  # ROUGE\n",
        "  rouge_results = rouge.compute(predictions=predictions,\n",
        "                                references=targets,\n",
        "                                use_aggregator=False)\n",
        "  evaluation_dict.update(\n",
        "      {\n",
        "          dataset: {'rouge': rouge_results}\n",
        "      }\n",
        "  )\n",
        "\n",
        "  # BLEU-RT\n",
        "  bleurt_results = bleurt.compute(predictions=predictions,\n",
        "                                  references=targets)\n",
        "  evaluation_dict.update(\n",
        "      {\n",
        "          dataset: {'bleurt': bleurt_results}\n",
        "      }\n",
        "  )\n",
        "\n",
        "  # BERTScore\n",
        "  bertscore_results = bertscore.compute(predictions=predictions,\n",
        "                                        references=targets,\n",
        "                                        model_type='distilbert-base-uncased')\n",
        "  evaluation_dict.update(\n",
        "      {\n",
        "          dataset: {'bertscore': bleurt_results}\n",
        "      }\n",
        "  )\n",
        "\n",
        "  print(f\"Dataset {dataset} evaluated.\")"
      ]
    }
  ],
  "metadata": {
    "colab": {
      "collapsed_sections": [
        "XziuT1wluJJn",
        "TuQR5UsVByhb"
      ],
      "toc_visible": true,
      "provenance": [],
      "authorship_tag": "ABX9TyNgYT+iMTjsyYoEja7FvTzU",
      "include_colab_link": true
    },
    "kernelspec": {
      "display_name": "Python 3",
      "name": "python3"
    },
    "language_info": {
      "name": "python"
    },
    "widgets": {
      "application/vnd.jupyter.widget-state+json": {
        "d6e14af3c5254876abc94fdafbadac87": {
          "model_module": "@jupyter-widgets/controls",
          "model_name": "HBoxModel",
          "model_module_version": "1.5.0",
          "state": {
            "_dom_classes": [],
            "_model_module": "@jupyter-widgets/controls",
            "_model_module_version": "1.5.0",
            "_model_name": "HBoxModel",
            "_view_count": null,
            "_view_module": "@jupyter-widgets/controls",
            "_view_module_version": "1.5.0",
            "_view_name": "HBoxView",
            "box_style": "",
            "children": [
              "IPY_MODEL_a1d417e8bc4e4cfd98d374619754f7a9",
              "IPY_MODEL_b7ccd378f759461e861e3f4bdeb883af",
              "IPY_MODEL_4e8d27aa06b04a03972d1c00f0bd9200"
            ],
            "layout": "IPY_MODEL_13f5081530f64c40848be505516760d0"
          }
        },
        "a1d417e8bc4e4cfd98d374619754f7a9": {
          "model_module": "@jupyter-widgets/controls",
          "model_name": "HTMLModel",
          "model_module_version": "1.5.0",
          "state": {
            "_dom_classes": [],
            "_model_module": "@jupyter-widgets/controls",
            "_model_module_version": "1.5.0",
            "_model_name": "HTMLModel",
            "_view_count": null,
            "_view_module": "@jupyter-widgets/controls",
            "_view_module_version": "1.5.0",
            "_view_name": "HTMLView",
            "description": "",
            "description_tooltip": null,
            "layout": "IPY_MODEL_f074f3ed971749078c63a09e14b95130",
            "placeholder": "​",
            "style": "IPY_MODEL_9ea4cdab89e84fcfae798fcbeb29570f",
            "value": "Downloading builder script: 100%"
          }
        },
        "b7ccd378f759461e861e3f4bdeb883af": {
          "model_module": "@jupyter-widgets/controls",
          "model_name": "FloatProgressModel",
          "model_module_version": "1.5.0",
          "state": {
            "_dom_classes": [],
            "_model_module": "@jupyter-widgets/controls",
            "_model_module_version": "1.5.0",
            "_model_name": "FloatProgressModel",
            "_view_count": null,
            "_view_module": "@jupyter-widgets/controls",
            "_view_module_version": "1.5.0",
            "_view_name": "ProgressView",
            "bar_style": "success",
            "description": "",
            "description_tooltip": null,
            "layout": "IPY_MODEL_e74ff8971bb94e2889efc27ab04c9fd9",
            "max": 6270,
            "min": 0,
            "orientation": "horizontal",
            "style": "IPY_MODEL_84a13f307e7e4e8f9453970c55e61b88",
            "value": 6270
          }
        },
        "4e8d27aa06b04a03972d1c00f0bd9200": {
          "model_module": "@jupyter-widgets/controls",
          "model_name": "HTMLModel",
          "model_module_version": "1.5.0",
          "state": {
            "_dom_classes": [],
            "_model_module": "@jupyter-widgets/controls",
            "_model_module_version": "1.5.0",
            "_model_name": "HTMLModel",
            "_view_count": null,
            "_view_module": "@jupyter-widgets/controls",
            "_view_module_version": "1.5.0",
            "_view_name": "HTMLView",
            "description": "",
            "description_tooltip": null,
            "layout": "IPY_MODEL_e337de5d2012460892cca98085addb76",
            "placeholder": "​",
            "style": "IPY_MODEL_2080222463e948b48b941bbc6579b6fd",
            "value": " 6.27k/6.27k [00:00&lt;00:00, 5.66kB/s]"
          }
        },
        "13f5081530f64c40848be505516760d0": {
          "model_module": "@jupyter-widgets/base",
          "model_name": "LayoutModel",
          "model_module_version": "1.2.0",
          "state": {
            "_model_module": "@jupyter-widgets/base",
            "_model_module_version": "1.2.0",
            "_model_name": "LayoutModel",
            "_view_count": null,
            "_view_module": "@jupyter-widgets/base",
            "_view_module_version": "1.2.0",
            "_view_name": "LayoutView",
            "align_content": null,
            "align_items": null,
            "align_self": null,
            "border": null,
            "bottom": null,
            "display": null,
            "flex": null,
            "flex_flow": null,
            "grid_area": null,
            "grid_auto_columns": null,
            "grid_auto_flow": null,
            "grid_auto_rows": null,
            "grid_column": null,
            "grid_gap": null,
            "grid_row": null,
            "grid_template_areas": null,
            "grid_template_columns": null,
            "grid_template_rows": null,
            "height": null,
            "justify_content": null,
            "justify_items": null,
            "left": null,
            "margin": null,
            "max_height": null,
            "max_width": null,
            "min_height": null,
            "min_width": null,
            "object_fit": null,
            "object_position": null,
            "order": null,
            "overflow": null,
            "overflow_x": null,
            "overflow_y": null,
            "padding": null,
            "right": null,
            "top": null,
            "visibility": null,
            "width": null
          }
        },
        "f074f3ed971749078c63a09e14b95130": {
          "model_module": "@jupyter-widgets/base",
          "model_name": "LayoutModel",
          "model_module_version": "1.2.0",
          "state": {
            "_model_module": "@jupyter-widgets/base",
            "_model_module_version": "1.2.0",
            "_model_name": "LayoutModel",
            "_view_count": null,
            "_view_module": "@jupyter-widgets/base",
            "_view_module_version": "1.2.0",
            "_view_name": "LayoutView",
            "align_content": null,
            "align_items": null,
            "align_self": null,
            "border": null,
            "bottom": null,
            "display": null,
            "flex": null,
            "flex_flow": null,
            "grid_area": null,
            "grid_auto_columns": null,
            "grid_auto_flow": null,
            "grid_auto_rows": null,
            "grid_column": null,
            "grid_gap": null,
            "grid_row": null,
            "grid_template_areas": null,
            "grid_template_columns": null,
            "grid_template_rows": null,
            "height": null,
            "justify_content": null,
            "justify_items": null,
            "left": null,
            "margin": null,
            "max_height": null,
            "max_width": null,
            "min_height": null,
            "min_width": null,
            "object_fit": null,
            "object_position": null,
            "order": null,
            "overflow": null,
            "overflow_x": null,
            "overflow_y": null,
            "padding": null,
            "right": null,
            "top": null,
            "visibility": null,
            "width": null
          }
        },
        "9ea4cdab89e84fcfae798fcbeb29570f": {
          "model_module": "@jupyter-widgets/controls",
          "model_name": "DescriptionStyleModel",
          "model_module_version": "1.5.0",
          "state": {
            "_model_module": "@jupyter-widgets/controls",
            "_model_module_version": "1.5.0",
            "_model_name": "DescriptionStyleModel",
            "_view_count": null,
            "_view_module": "@jupyter-widgets/base",
            "_view_module_version": "1.2.0",
            "_view_name": "StyleView",
            "description_width": ""
          }
        },
        "e74ff8971bb94e2889efc27ab04c9fd9": {
          "model_module": "@jupyter-widgets/base",
          "model_name": "LayoutModel",
          "model_module_version": "1.2.0",
          "state": {
            "_model_module": "@jupyter-widgets/base",
            "_model_module_version": "1.2.0",
            "_model_name": "LayoutModel",
            "_view_count": null,
            "_view_module": "@jupyter-widgets/base",
            "_view_module_version": "1.2.0",
            "_view_name": "LayoutView",
            "align_content": null,
            "align_items": null,
            "align_self": null,
            "border": null,
            "bottom": null,
            "display": null,
            "flex": null,
            "flex_flow": null,
            "grid_area": null,
            "grid_auto_columns": null,
            "grid_auto_flow": null,
            "grid_auto_rows": null,
            "grid_column": null,
            "grid_gap": null,
            "grid_row": null,
            "grid_template_areas": null,
            "grid_template_columns": null,
            "grid_template_rows": null,
            "height": null,
            "justify_content": null,
            "justify_items": null,
            "left": null,
            "margin": null,
            "max_height": null,
            "max_width": null,
            "min_height": null,
            "min_width": null,
            "object_fit": null,
            "object_position": null,
            "order": null,
            "overflow": null,
            "overflow_x": null,
            "overflow_y": null,
            "padding": null,
            "right": null,
            "top": null,
            "visibility": null,
            "width": null
          }
        },
        "84a13f307e7e4e8f9453970c55e61b88": {
          "model_module": "@jupyter-widgets/controls",
          "model_name": "ProgressStyleModel",
          "model_module_version": "1.5.0",
          "state": {
            "_model_module": "@jupyter-widgets/controls",
            "_model_module_version": "1.5.0",
            "_model_name": "ProgressStyleModel",
            "_view_count": null,
            "_view_module": "@jupyter-widgets/base",
            "_view_module_version": "1.2.0",
            "_view_name": "StyleView",
            "bar_color": null,
            "description_width": ""
          }
        },
        "e337de5d2012460892cca98085addb76": {
          "model_module": "@jupyter-widgets/base",
          "model_name": "LayoutModel",
          "model_module_version": "1.2.0",
          "state": {
            "_model_module": "@jupyter-widgets/base",
            "_model_module_version": "1.2.0",
            "_model_name": "LayoutModel",
            "_view_count": null,
            "_view_module": "@jupyter-widgets/base",
            "_view_module_version": "1.2.0",
            "_view_name": "LayoutView",
            "align_content": null,
            "align_items": null,
            "align_self": null,
            "border": null,
            "bottom": null,
            "display": null,
            "flex": null,
            "flex_flow": null,
            "grid_area": null,
            "grid_auto_columns": null,
            "grid_auto_flow": null,
            "grid_auto_rows": null,
            "grid_column": null,
            "grid_gap": null,
            "grid_row": null,
            "grid_template_areas": null,
            "grid_template_columns": null,
            "grid_template_rows": null,
            "height": null,
            "justify_content": null,
            "justify_items": null,
            "left": null,
            "margin": null,
            "max_height": null,
            "max_width": null,
            "min_height": null,
            "min_width": null,
            "object_fit": null,
            "object_position": null,
            "order": null,
            "overflow": null,
            "overflow_x": null,
            "overflow_y": null,
            "padding": null,
            "right": null,
            "top": null,
            "visibility": null,
            "width": null
          }
        },
        "2080222463e948b48b941bbc6579b6fd": {
          "model_module": "@jupyter-widgets/controls",
          "model_name": "DescriptionStyleModel",
          "model_module_version": "1.5.0",
          "state": {
            "_model_module": "@jupyter-widgets/controls",
            "_model_module_version": "1.5.0",
            "_model_name": "DescriptionStyleModel",
            "_view_count": null,
            "_view_module": "@jupyter-widgets/base",
            "_view_module_version": "1.2.0",
            "_view_name": "StyleView",
            "description_width": ""
          }
        },
        "90d982795d634d79a1f99f6802b46caa": {
          "model_module": "@jupyter-widgets/controls",
          "model_name": "HBoxModel",
          "model_module_version": "1.5.0",
          "state": {
            "_dom_classes": [],
            "_model_module": "@jupyter-widgets/controls",
            "_model_module_version": "1.5.0",
            "_model_name": "HBoxModel",
            "_view_count": null,
            "_view_module": "@jupyter-widgets/controls",
            "_view_module_version": "1.5.0",
            "_view_name": "HBoxView",
            "box_style": "",
            "children": [
              "IPY_MODEL_48a399a32d5743f2ba683fae21876d6e",
              "IPY_MODEL_e5439a7ebe324094a323d52923f49c8e",
              "IPY_MODEL_004585068a28499c9bd3c3cbf1499dbc"
            ],
            "layout": "IPY_MODEL_49d9926b15ba45b386ad6bee72d5d03d"
          }
        },
        "48a399a32d5743f2ba683fae21876d6e": {
          "model_module": "@jupyter-widgets/controls",
          "model_name": "HTMLModel",
          "model_module_version": "1.5.0",
          "state": {
            "_dom_classes": [],
            "_model_module": "@jupyter-widgets/controls",
            "_model_module_version": "1.5.0",
            "_model_name": "HTMLModel",
            "_view_count": null,
            "_view_module": "@jupyter-widgets/controls",
            "_view_module_version": "1.5.0",
            "_view_name": "HTMLView",
            "description": "",
            "description_tooltip": null,
            "layout": "IPY_MODEL_3fcc399118414cd7b79808c7de99b60d",
            "placeholder": "​",
            "style": "IPY_MODEL_4e8195c4b5414b79bd9e6a4d1911e804",
            "value": "Downloading builder script: 100%"
          }
        },
        "e5439a7ebe324094a323d52923f49c8e": {
          "model_module": "@jupyter-widgets/controls",
          "model_name": "FloatProgressModel",
          "model_module_version": "1.5.0",
          "state": {
            "_dom_classes": [],
            "_model_module": "@jupyter-widgets/controls",
            "_model_module_version": "1.5.0",
            "_model_name": "FloatProgressModel",
            "_view_count": null,
            "_view_module": "@jupyter-widgets/controls",
            "_view_module_version": "1.5.0",
            "_view_name": "ProgressView",
            "bar_style": "success",
            "description": "",
            "description_tooltip": null,
            "layout": "IPY_MODEL_bb1cf1fba51b4c64a74dcf2b15ae651e",
            "max": 5195,
            "min": 0,
            "orientation": "horizontal",
            "style": "IPY_MODEL_5eb05342309e413a947ed6c47abd1c85",
            "value": 5195
          }
        },
        "004585068a28499c9bd3c3cbf1499dbc": {
          "model_module": "@jupyter-widgets/controls",
          "model_name": "HTMLModel",
          "model_module_version": "1.5.0",
          "state": {
            "_dom_classes": [],
            "_model_module": "@jupyter-widgets/controls",
            "_model_module_version": "1.5.0",
            "_model_name": "HTMLModel",
            "_view_count": null,
            "_view_module": "@jupyter-widgets/controls",
            "_view_module_version": "1.5.0",
            "_view_name": "HTMLView",
            "description": "",
            "description_tooltip": null,
            "layout": "IPY_MODEL_b106f9e4df144358ac84e818919a7f59",
            "placeholder": "​",
            "style": "IPY_MODEL_6d5430186c7248d68537ef7c98894327",
            "value": " 5.20k/5.20k [00:00&lt;00:00, 4.98kB/s]"
          }
        },
        "49d9926b15ba45b386ad6bee72d5d03d": {
          "model_module": "@jupyter-widgets/base",
          "model_name": "LayoutModel",
          "model_module_version": "1.2.0",
          "state": {
            "_model_module": "@jupyter-widgets/base",
            "_model_module_version": "1.2.0",
            "_model_name": "LayoutModel",
            "_view_count": null,
            "_view_module": "@jupyter-widgets/base",
            "_view_module_version": "1.2.0",
            "_view_name": "LayoutView",
            "align_content": null,
            "align_items": null,
            "align_self": null,
            "border": null,
            "bottom": null,
            "display": null,
            "flex": null,
            "flex_flow": null,
            "grid_area": null,
            "grid_auto_columns": null,
            "grid_auto_flow": null,
            "grid_auto_rows": null,
            "grid_column": null,
            "grid_gap": null,
            "grid_row": null,
            "grid_template_areas": null,
            "grid_template_columns": null,
            "grid_template_rows": null,
            "height": null,
            "justify_content": null,
            "justify_items": null,
            "left": null,
            "margin": null,
            "max_height": null,
            "max_width": null,
            "min_height": null,
            "min_width": null,
            "object_fit": null,
            "object_position": null,
            "order": null,
            "overflow": null,
            "overflow_x": null,
            "overflow_y": null,
            "padding": null,
            "right": null,
            "top": null,
            "visibility": null,
            "width": null
          }
        },
        "3fcc399118414cd7b79808c7de99b60d": {
          "model_module": "@jupyter-widgets/base",
          "model_name": "LayoutModel",
          "model_module_version": "1.2.0",
          "state": {
            "_model_module": "@jupyter-widgets/base",
            "_model_module_version": "1.2.0",
            "_model_name": "LayoutModel",
            "_view_count": null,
            "_view_module": "@jupyter-widgets/base",
            "_view_module_version": "1.2.0",
            "_view_name": "LayoutView",
            "align_content": null,
            "align_items": null,
            "align_self": null,
            "border": null,
            "bottom": null,
            "display": null,
            "flex": null,
            "flex_flow": null,
            "grid_area": null,
            "grid_auto_columns": null,
            "grid_auto_flow": null,
            "grid_auto_rows": null,
            "grid_column": null,
            "grid_gap": null,
            "grid_row": null,
            "grid_template_areas": null,
            "grid_template_columns": null,
            "grid_template_rows": null,
            "height": null,
            "justify_content": null,
            "justify_items": null,
            "left": null,
            "margin": null,
            "max_height": null,
            "max_width": null,
            "min_height": null,
            "min_width": null,
            "object_fit": null,
            "object_position": null,
            "order": null,
            "overflow": null,
            "overflow_x": null,
            "overflow_y": null,
            "padding": null,
            "right": null,
            "top": null,
            "visibility": null,
            "width": null
          }
        },
        "4e8195c4b5414b79bd9e6a4d1911e804": {
          "model_module": "@jupyter-widgets/controls",
          "model_name": "DescriptionStyleModel",
          "model_module_version": "1.5.0",
          "state": {
            "_model_module": "@jupyter-widgets/controls",
            "_model_module_version": "1.5.0",
            "_model_name": "DescriptionStyleModel",
            "_view_count": null,
            "_view_module": "@jupyter-widgets/base",
            "_view_module_version": "1.2.0",
            "_view_name": "StyleView",
            "description_width": ""
          }
        },
        "bb1cf1fba51b4c64a74dcf2b15ae651e": {
          "model_module": "@jupyter-widgets/base",
          "model_name": "LayoutModel",
          "model_module_version": "1.2.0",
          "state": {
            "_model_module": "@jupyter-widgets/base",
            "_model_module_version": "1.2.0",
            "_model_name": "LayoutModel",
            "_view_count": null,
            "_view_module": "@jupyter-widgets/base",
            "_view_module_version": "1.2.0",
            "_view_name": "LayoutView",
            "align_content": null,
            "align_items": null,
            "align_self": null,
            "border": null,
            "bottom": null,
            "display": null,
            "flex": null,
            "flex_flow": null,
            "grid_area": null,
            "grid_auto_columns": null,
            "grid_auto_flow": null,
            "grid_auto_rows": null,
            "grid_column": null,
            "grid_gap": null,
            "grid_row": null,
            "grid_template_areas": null,
            "grid_template_columns": null,
            "grid_template_rows": null,
            "height": null,
            "justify_content": null,
            "justify_items": null,
            "left": null,
            "margin": null,
            "max_height": null,
            "max_width": null,
            "min_height": null,
            "min_width": null,
            "object_fit": null,
            "object_position": null,
            "order": null,
            "overflow": null,
            "overflow_x": null,
            "overflow_y": null,
            "padding": null,
            "right": null,
            "top": null,
            "visibility": null,
            "width": null
          }
        },
        "5eb05342309e413a947ed6c47abd1c85": {
          "model_module": "@jupyter-widgets/controls",
          "model_name": "ProgressStyleModel",
          "model_module_version": "1.5.0",
          "state": {
            "_model_module": "@jupyter-widgets/controls",
            "_model_module_version": "1.5.0",
            "_model_name": "ProgressStyleModel",
            "_view_count": null,
            "_view_module": "@jupyter-widgets/base",
            "_view_module_version": "1.2.0",
            "_view_name": "StyleView",
            "bar_color": null,
            "description_width": ""
          }
        },
        "b106f9e4df144358ac84e818919a7f59": {
          "model_module": "@jupyter-widgets/base",
          "model_name": "LayoutModel",
          "model_module_version": "1.2.0",
          "state": {
            "_model_module": "@jupyter-widgets/base",
            "_model_module_version": "1.2.0",
            "_model_name": "LayoutModel",
            "_view_count": null,
            "_view_module": "@jupyter-widgets/base",
            "_view_module_version": "1.2.0",
            "_view_name": "LayoutView",
            "align_content": null,
            "align_items": null,
            "align_self": null,
            "border": null,
            "bottom": null,
            "display": null,
            "flex": null,
            "flex_flow": null,
            "grid_area": null,
            "grid_auto_columns": null,
            "grid_auto_flow": null,
            "grid_auto_rows": null,
            "grid_column": null,
            "grid_gap": null,
            "grid_row": null,
            "grid_template_areas": null,
            "grid_template_columns": null,
            "grid_template_rows": null,
            "height": null,
            "justify_content": null,
            "justify_items": null,
            "left": null,
            "margin": null,
            "max_height": null,
            "max_width": null,
            "min_height": null,
            "min_width": null,
            "object_fit": null,
            "object_position": null,
            "order": null,
            "overflow": null,
            "overflow_x": null,
            "overflow_y": null,
            "padding": null,
            "right": null,
            "top": null,
            "visibility": null,
            "width": null
          }
        },
        "6d5430186c7248d68537ef7c98894327": {
          "model_module": "@jupyter-widgets/controls",
          "model_name": "DescriptionStyleModel",
          "model_module_version": "1.5.0",
          "state": {
            "_model_module": "@jupyter-widgets/controls",
            "_model_module_version": "1.5.0",
            "_model_name": "DescriptionStyleModel",
            "_view_count": null,
            "_view_module": "@jupyter-widgets/base",
            "_view_module_version": "1.2.0",
            "_view_name": "StyleView",
            "description_width": ""
          }
        },
        "f89c76b3bbb2446192a3631a8872af6a": {
          "model_module": "@jupyter-widgets/controls",
          "model_name": "HBoxModel",
          "model_module_version": "1.5.0",
          "state": {
            "_dom_classes": [],
            "_model_module": "@jupyter-widgets/controls",
            "_model_module_version": "1.5.0",
            "_model_name": "HBoxModel",
            "_view_count": null,
            "_view_module": "@jupyter-widgets/controls",
            "_view_module_version": "1.5.0",
            "_view_name": "HBoxView",
            "box_style": "",
            "children": [
              "IPY_MODEL_00a5da01d41e491daddc70bed5ad1b26",
              "IPY_MODEL_5d6d63af56be426bb6dae5e8c4f5f883",
              "IPY_MODEL_e3f0f42dc9e244f99be78d1bd957f7bd"
            ],
            "layout": "IPY_MODEL_569125619d4643649800080dd024d29e"
          }
        },
        "00a5da01d41e491daddc70bed5ad1b26": {
          "model_module": "@jupyter-widgets/controls",
          "model_name": "HTMLModel",
          "model_module_version": "1.5.0",
          "state": {
            "_dom_classes": [],
            "_model_module": "@jupyter-widgets/controls",
            "_model_module_version": "1.5.0",
            "_model_name": "HTMLModel",
            "_view_count": null,
            "_view_module": "@jupyter-widgets/controls",
            "_view_module_version": "1.5.0",
            "_view_name": "HTMLView",
            "description": "",
            "description_tooltip": null,
            "layout": "IPY_MODEL_611b16ed8e564cd29ccc629c2ce1e1e5",
            "placeholder": "​",
            "style": "IPY_MODEL_87c67376328d4949844c63074620100e",
            "value": "Downloading data: 100%"
          }
        },
        "5d6d63af56be426bb6dae5e8c4f5f883": {
          "model_module": "@jupyter-widgets/controls",
          "model_name": "FloatProgressModel",
          "model_module_version": "1.5.0",
          "state": {
            "_dom_classes": [],
            "_model_module": "@jupyter-widgets/controls",
            "_model_module_version": "1.5.0",
            "_model_name": "FloatProgressModel",
            "_view_count": null,
            "_view_module": "@jupyter-widgets/controls",
            "_view_module_version": "1.5.0",
            "_view_name": "ProgressView",
            "bar_style": "success",
            "description": "",
            "description_tooltip": null,
            "layout": "IPY_MODEL_d6a8a1809122455fbf347e12d6dce88d",
            "max": 405489453,
            "min": 0,
            "orientation": "horizontal",
            "style": "IPY_MODEL_63efa9d163514faca27083be100f94e2",
            "value": 405489453
          }
        },
        "e3f0f42dc9e244f99be78d1bd957f7bd": {
          "model_module": "@jupyter-widgets/controls",
          "model_name": "HTMLModel",
          "model_module_version": "1.5.0",
          "state": {
            "_dom_classes": [],
            "_model_module": "@jupyter-widgets/controls",
            "_model_module_version": "1.5.0",
            "_model_name": "HTMLModel",
            "_view_count": null,
            "_view_module": "@jupyter-widgets/controls",
            "_view_module_version": "1.5.0",
            "_view_name": "HTMLView",
            "description": "",
            "description_tooltip": null,
            "layout": "IPY_MODEL_aed323c35fc7432e82c1980d8a0253f7",
            "placeholder": "​",
            "style": "IPY_MODEL_402832e6a1674a79bc78cb7e1468c10d",
            "value": " 405M/405M [00:15&lt;00:00, 26.2MB/s]"
          }
        },
        "569125619d4643649800080dd024d29e": {
          "model_module": "@jupyter-widgets/base",
          "model_name": "LayoutModel",
          "model_module_version": "1.2.0",
          "state": {
            "_model_module": "@jupyter-widgets/base",
            "_model_module_version": "1.2.0",
            "_model_name": "LayoutModel",
            "_view_count": null,
            "_view_module": "@jupyter-widgets/base",
            "_view_module_version": "1.2.0",
            "_view_name": "LayoutView",
            "align_content": null,
            "align_items": null,
            "align_self": null,
            "border": null,
            "bottom": null,
            "display": null,
            "flex": null,
            "flex_flow": null,
            "grid_area": null,
            "grid_auto_columns": null,
            "grid_auto_flow": null,
            "grid_auto_rows": null,
            "grid_column": null,
            "grid_gap": null,
            "grid_row": null,
            "grid_template_areas": null,
            "grid_template_columns": null,
            "grid_template_rows": null,
            "height": null,
            "justify_content": null,
            "justify_items": null,
            "left": null,
            "margin": null,
            "max_height": null,
            "max_width": null,
            "min_height": null,
            "min_width": null,
            "object_fit": null,
            "object_position": null,
            "order": null,
            "overflow": null,
            "overflow_x": null,
            "overflow_y": null,
            "padding": null,
            "right": null,
            "top": null,
            "visibility": null,
            "width": null
          }
        },
        "611b16ed8e564cd29ccc629c2ce1e1e5": {
          "model_module": "@jupyter-widgets/base",
          "model_name": "LayoutModel",
          "model_module_version": "1.2.0",
          "state": {
            "_model_module": "@jupyter-widgets/base",
            "_model_module_version": "1.2.0",
            "_model_name": "LayoutModel",
            "_view_count": null,
            "_view_module": "@jupyter-widgets/base",
            "_view_module_version": "1.2.0",
            "_view_name": "LayoutView",
            "align_content": null,
            "align_items": null,
            "align_self": null,
            "border": null,
            "bottom": null,
            "display": null,
            "flex": null,
            "flex_flow": null,
            "grid_area": null,
            "grid_auto_columns": null,
            "grid_auto_flow": null,
            "grid_auto_rows": null,
            "grid_column": null,
            "grid_gap": null,
            "grid_row": null,
            "grid_template_areas": null,
            "grid_template_columns": null,
            "grid_template_rows": null,
            "height": null,
            "justify_content": null,
            "justify_items": null,
            "left": null,
            "margin": null,
            "max_height": null,
            "max_width": null,
            "min_height": null,
            "min_width": null,
            "object_fit": null,
            "object_position": null,
            "order": null,
            "overflow": null,
            "overflow_x": null,
            "overflow_y": null,
            "padding": null,
            "right": null,
            "top": null,
            "visibility": null,
            "width": null
          }
        },
        "87c67376328d4949844c63074620100e": {
          "model_module": "@jupyter-widgets/controls",
          "model_name": "DescriptionStyleModel",
          "model_module_version": "1.5.0",
          "state": {
            "_model_module": "@jupyter-widgets/controls",
            "_model_module_version": "1.5.0",
            "_model_name": "DescriptionStyleModel",
            "_view_count": null,
            "_view_module": "@jupyter-widgets/base",
            "_view_module_version": "1.2.0",
            "_view_name": "StyleView",
            "description_width": ""
          }
        },
        "d6a8a1809122455fbf347e12d6dce88d": {
          "model_module": "@jupyter-widgets/base",
          "model_name": "LayoutModel",
          "model_module_version": "1.2.0",
          "state": {
            "_model_module": "@jupyter-widgets/base",
            "_model_module_version": "1.2.0",
            "_model_name": "LayoutModel",
            "_view_count": null,
            "_view_module": "@jupyter-widgets/base",
            "_view_module_version": "1.2.0",
            "_view_name": "LayoutView",
            "align_content": null,
            "align_items": null,
            "align_self": null,
            "border": null,
            "bottom": null,
            "display": null,
            "flex": null,
            "flex_flow": null,
            "grid_area": null,
            "grid_auto_columns": null,
            "grid_auto_flow": null,
            "grid_auto_rows": null,
            "grid_column": null,
            "grid_gap": null,
            "grid_row": null,
            "grid_template_areas": null,
            "grid_template_columns": null,
            "grid_template_rows": null,
            "height": null,
            "justify_content": null,
            "justify_items": null,
            "left": null,
            "margin": null,
            "max_height": null,
            "max_width": null,
            "min_height": null,
            "min_width": null,
            "object_fit": null,
            "object_position": null,
            "order": null,
            "overflow": null,
            "overflow_x": null,
            "overflow_y": null,
            "padding": null,
            "right": null,
            "top": null,
            "visibility": null,
            "width": null
          }
        },
        "63efa9d163514faca27083be100f94e2": {
          "model_module": "@jupyter-widgets/controls",
          "model_name": "ProgressStyleModel",
          "model_module_version": "1.5.0",
          "state": {
            "_model_module": "@jupyter-widgets/controls",
            "_model_module_version": "1.5.0",
            "_model_name": "ProgressStyleModel",
            "_view_count": null,
            "_view_module": "@jupyter-widgets/base",
            "_view_module_version": "1.2.0",
            "_view_name": "StyleView",
            "bar_color": null,
            "description_width": ""
          }
        },
        "aed323c35fc7432e82c1980d8a0253f7": {
          "model_module": "@jupyter-widgets/base",
          "model_name": "LayoutModel",
          "model_module_version": "1.2.0",
          "state": {
            "_model_module": "@jupyter-widgets/base",
            "_model_module_version": "1.2.0",
            "_model_name": "LayoutModel",
            "_view_count": null,
            "_view_module": "@jupyter-widgets/base",
            "_view_module_version": "1.2.0",
            "_view_name": "LayoutView",
            "align_content": null,
            "align_items": null,
            "align_self": null,
            "border": null,
            "bottom": null,
            "display": null,
            "flex": null,
            "flex_flow": null,
            "grid_area": null,
            "grid_auto_columns": null,
            "grid_auto_flow": null,
            "grid_auto_rows": null,
            "grid_column": null,
            "grid_gap": null,
            "grid_row": null,
            "grid_template_areas": null,
            "grid_template_columns": null,
            "grid_template_rows": null,
            "height": null,
            "justify_content": null,
            "justify_items": null,
            "left": null,
            "margin": null,
            "max_height": null,
            "max_width": null,
            "min_height": null,
            "min_width": null,
            "object_fit": null,
            "object_position": null,
            "order": null,
            "overflow": null,
            "overflow_x": null,
            "overflow_y": null,
            "padding": null,
            "right": null,
            "top": null,
            "visibility": null,
            "width": null
          }
        },
        "402832e6a1674a79bc78cb7e1468c10d": {
          "model_module": "@jupyter-widgets/controls",
          "model_name": "DescriptionStyleModel",
          "model_module_version": "1.5.0",
          "state": {
            "_model_module": "@jupyter-widgets/controls",
            "_model_module_version": "1.5.0",
            "_model_name": "DescriptionStyleModel",
            "_view_count": null,
            "_view_module": "@jupyter-widgets/base",
            "_view_module_version": "1.2.0",
            "_view_name": "StyleView",
            "description_width": ""
          }
        },
        "38428fd39cc54b4789f2b7d2f1489330": {
          "model_module": "@jupyter-widgets/controls",
          "model_name": "HBoxModel",
          "model_module_version": "1.5.0",
          "state": {
            "_dom_classes": [],
            "_model_module": "@jupyter-widgets/controls",
            "_model_module_version": "1.5.0",
            "_model_name": "HBoxModel",
            "_view_count": null,
            "_view_module": "@jupyter-widgets/controls",
            "_view_module_version": "1.5.0",
            "_view_name": "HBoxView",
            "box_style": "",
            "children": [
              "IPY_MODEL_bc56d1cce59c49d79d4836fa5782ca8d",
              "IPY_MODEL_14ef6a6b67074c9e9f4a62733d3cfa9b",
              "IPY_MODEL_ec1fa2eea6e94ff2832d75db67b1a0e4"
            ],
            "layout": "IPY_MODEL_9672b05533ca4aa6979f4de84d1b51f0"
          }
        },
        "bc56d1cce59c49d79d4836fa5782ca8d": {
          "model_module": "@jupyter-widgets/controls",
          "model_name": "HTMLModel",
          "model_module_version": "1.5.0",
          "state": {
            "_dom_classes": [],
            "_model_module": "@jupyter-widgets/controls",
            "_model_module_version": "1.5.0",
            "_model_name": "HTMLModel",
            "_view_count": null,
            "_view_module": "@jupyter-widgets/controls",
            "_view_module_version": "1.5.0",
            "_view_name": "HTMLView",
            "description": "",
            "description_tooltip": null,
            "layout": "IPY_MODEL_af673d7ace1e4fb28c0a56f9ac7acab9",
            "placeholder": "​",
            "style": "IPY_MODEL_5114f44d3bdf4e61b4e9fe09c38977f3",
            "value": "Downloading builder script: 100%"
          }
        },
        "14ef6a6b67074c9e9f4a62733d3cfa9b": {
          "model_module": "@jupyter-widgets/controls",
          "model_name": "FloatProgressModel",
          "model_module_version": "1.5.0",
          "state": {
            "_dom_classes": [],
            "_model_module": "@jupyter-widgets/controls",
            "_model_module_version": "1.5.0",
            "_model_name": "FloatProgressModel",
            "_view_count": null,
            "_view_module": "@jupyter-widgets/controls",
            "_view_module_version": "1.5.0",
            "_view_name": "ProgressView",
            "bar_style": "success",
            "description": "",
            "description_tooltip": null,
            "layout": "IPY_MODEL_f8cb501411a14cea8c30c5248b9663bc",
            "max": 7950,
            "min": 0,
            "orientation": "horizontal",
            "style": "IPY_MODEL_8e4dd676340a440697b1556d056dd8b5",
            "value": 7950
          }
        },
        "ec1fa2eea6e94ff2832d75db67b1a0e4": {
          "model_module": "@jupyter-widgets/controls",
          "model_name": "HTMLModel",
          "model_module_version": "1.5.0",
          "state": {
            "_dom_classes": [],
            "_model_module": "@jupyter-widgets/controls",
            "_model_module_version": "1.5.0",
            "_model_name": "HTMLModel",
            "_view_count": null,
            "_view_module": "@jupyter-widgets/controls",
            "_view_module_version": "1.5.0",
            "_view_name": "HTMLView",
            "description": "",
            "description_tooltip": null,
            "layout": "IPY_MODEL_8cd7d1cdfda046c88219796235549440",
            "placeholder": "​",
            "style": "IPY_MODEL_8633dcf602924e8487bbf696ac79813d",
            "value": " 7.95k/7.95k [00:00&lt;00:00, 5.59kB/s]"
          }
        },
        "9672b05533ca4aa6979f4de84d1b51f0": {
          "model_module": "@jupyter-widgets/base",
          "model_name": "LayoutModel",
          "model_module_version": "1.2.0",
          "state": {
            "_model_module": "@jupyter-widgets/base",
            "_model_module_version": "1.2.0",
            "_model_name": "LayoutModel",
            "_view_count": null,
            "_view_module": "@jupyter-widgets/base",
            "_view_module_version": "1.2.0",
            "_view_name": "LayoutView",
            "align_content": null,
            "align_items": null,
            "align_self": null,
            "border": null,
            "bottom": null,
            "display": null,
            "flex": null,
            "flex_flow": null,
            "grid_area": null,
            "grid_auto_columns": null,
            "grid_auto_flow": null,
            "grid_auto_rows": null,
            "grid_column": null,
            "grid_gap": null,
            "grid_row": null,
            "grid_template_areas": null,
            "grid_template_columns": null,
            "grid_template_rows": null,
            "height": null,
            "justify_content": null,
            "justify_items": null,
            "left": null,
            "margin": null,
            "max_height": null,
            "max_width": null,
            "min_height": null,
            "min_width": null,
            "object_fit": null,
            "object_position": null,
            "order": null,
            "overflow": null,
            "overflow_x": null,
            "overflow_y": null,
            "padding": null,
            "right": null,
            "top": null,
            "visibility": null,
            "width": null
          }
        },
        "af673d7ace1e4fb28c0a56f9ac7acab9": {
          "model_module": "@jupyter-widgets/base",
          "model_name": "LayoutModel",
          "model_module_version": "1.2.0",
          "state": {
            "_model_module": "@jupyter-widgets/base",
            "_model_module_version": "1.2.0",
            "_model_name": "LayoutModel",
            "_view_count": null,
            "_view_module": "@jupyter-widgets/base",
            "_view_module_version": "1.2.0",
            "_view_name": "LayoutView",
            "align_content": null,
            "align_items": null,
            "align_self": null,
            "border": null,
            "bottom": null,
            "display": null,
            "flex": null,
            "flex_flow": null,
            "grid_area": null,
            "grid_auto_columns": null,
            "grid_auto_flow": null,
            "grid_auto_rows": null,
            "grid_column": null,
            "grid_gap": null,
            "grid_row": null,
            "grid_template_areas": null,
            "grid_template_columns": null,
            "grid_template_rows": null,
            "height": null,
            "justify_content": null,
            "justify_items": null,
            "left": null,
            "margin": null,
            "max_height": null,
            "max_width": null,
            "min_height": null,
            "min_width": null,
            "object_fit": null,
            "object_position": null,
            "order": null,
            "overflow": null,
            "overflow_x": null,
            "overflow_y": null,
            "padding": null,
            "right": null,
            "top": null,
            "visibility": null,
            "width": null
          }
        },
        "5114f44d3bdf4e61b4e9fe09c38977f3": {
          "model_module": "@jupyter-widgets/controls",
          "model_name": "DescriptionStyleModel",
          "model_module_version": "1.5.0",
          "state": {
            "_model_module": "@jupyter-widgets/controls",
            "_model_module_version": "1.5.0",
            "_model_name": "DescriptionStyleModel",
            "_view_count": null,
            "_view_module": "@jupyter-widgets/base",
            "_view_module_version": "1.2.0",
            "_view_name": "StyleView",
            "description_width": ""
          }
        },
        "f8cb501411a14cea8c30c5248b9663bc": {
          "model_module": "@jupyter-widgets/base",
          "model_name": "LayoutModel",
          "model_module_version": "1.2.0",
          "state": {
            "_model_module": "@jupyter-widgets/base",
            "_model_module_version": "1.2.0",
            "_model_name": "LayoutModel",
            "_view_count": null,
            "_view_module": "@jupyter-widgets/base",
            "_view_module_version": "1.2.0",
            "_view_name": "LayoutView",
            "align_content": null,
            "align_items": null,
            "align_self": null,
            "border": null,
            "bottom": null,
            "display": null,
            "flex": null,
            "flex_flow": null,
            "grid_area": null,
            "grid_auto_columns": null,
            "grid_auto_flow": null,
            "grid_auto_rows": null,
            "grid_column": null,
            "grid_gap": null,
            "grid_row": null,
            "grid_template_areas": null,
            "grid_template_columns": null,
            "grid_template_rows": null,
            "height": null,
            "justify_content": null,
            "justify_items": null,
            "left": null,
            "margin": null,
            "max_height": null,
            "max_width": null,
            "min_height": null,
            "min_width": null,
            "object_fit": null,
            "object_position": null,
            "order": null,
            "overflow": null,
            "overflow_x": null,
            "overflow_y": null,
            "padding": null,
            "right": null,
            "top": null,
            "visibility": null,
            "width": null
          }
        },
        "8e4dd676340a440697b1556d056dd8b5": {
          "model_module": "@jupyter-widgets/controls",
          "model_name": "ProgressStyleModel",
          "model_module_version": "1.5.0",
          "state": {
            "_model_module": "@jupyter-widgets/controls",
            "_model_module_version": "1.5.0",
            "_model_name": "ProgressStyleModel",
            "_view_count": null,
            "_view_module": "@jupyter-widgets/base",
            "_view_module_version": "1.2.0",
            "_view_name": "StyleView",
            "bar_color": null,
            "description_width": ""
          }
        },
        "8cd7d1cdfda046c88219796235549440": {
          "model_module": "@jupyter-widgets/base",
          "model_name": "LayoutModel",
          "model_module_version": "1.2.0",
          "state": {
            "_model_module": "@jupyter-widgets/base",
            "_model_module_version": "1.2.0",
            "_model_name": "LayoutModel",
            "_view_count": null,
            "_view_module": "@jupyter-widgets/base",
            "_view_module_version": "1.2.0",
            "_view_name": "LayoutView",
            "align_content": null,
            "align_items": null,
            "align_self": null,
            "border": null,
            "bottom": null,
            "display": null,
            "flex": null,
            "flex_flow": null,
            "grid_area": null,
            "grid_auto_columns": null,
            "grid_auto_flow": null,
            "grid_auto_rows": null,
            "grid_column": null,
            "grid_gap": null,
            "grid_row": null,
            "grid_template_areas": null,
            "grid_template_columns": null,
            "grid_template_rows": null,
            "height": null,
            "justify_content": null,
            "justify_items": null,
            "left": null,
            "margin": null,
            "max_height": null,
            "max_width": null,
            "min_height": null,
            "min_width": null,
            "object_fit": null,
            "object_position": null,
            "order": null,
            "overflow": null,
            "overflow_x": null,
            "overflow_y": null,
            "padding": null,
            "right": null,
            "top": null,
            "visibility": null,
            "width": null
          }
        },
        "8633dcf602924e8487bbf696ac79813d": {
          "model_module": "@jupyter-widgets/controls",
          "model_name": "DescriptionStyleModel",
          "model_module_version": "1.5.0",
          "state": {
            "_model_module": "@jupyter-widgets/controls",
            "_model_module_version": "1.5.0",
            "_model_name": "DescriptionStyleModel",
            "_view_count": null,
            "_view_module": "@jupyter-widgets/base",
            "_view_module_version": "1.2.0",
            "_view_name": "StyleView",
            "description_width": ""
          }
        },
        "3a33b3d19668472bbdaab9acbce4f259": {
          "model_module": "@jupyter-widgets/controls",
          "model_name": "HBoxModel",
          "model_module_version": "1.5.0",
          "state": {
            "_dom_classes": [],
            "_model_module": "@jupyter-widgets/controls",
            "_model_module_version": "1.5.0",
            "_model_name": "HBoxModel",
            "_view_count": null,
            "_view_module": "@jupyter-widgets/controls",
            "_view_module_version": "1.5.0",
            "_view_name": "HBoxView",
            "box_style": "",
            "children": [
              "IPY_MODEL_e9a306d5605b4520b4a728ce2f481b3a",
              "IPY_MODEL_1e7e1c62ed444f91bc439e0ccd7cfd45",
              "IPY_MODEL_5a56e109ea154c7483aba37106fb9b68"
            ],
            "layout": "IPY_MODEL_e0c01cb5f8414227a85ba8c9cafc8593"
          }
        },
        "e9a306d5605b4520b4a728ce2f481b3a": {
          "model_module": "@jupyter-widgets/controls",
          "model_name": "HTMLModel",
          "model_module_version": "1.5.0",
          "state": {
            "_dom_classes": [],
            "_model_module": "@jupyter-widgets/controls",
            "_model_module_version": "1.5.0",
            "_model_name": "HTMLModel",
            "_view_count": null,
            "_view_module": "@jupyter-widgets/controls",
            "_view_module_version": "1.5.0",
            "_view_name": "HTMLView",
            "description": "",
            "description_tooltip": null,
            "layout": "IPY_MODEL_39d0ecf13c3343fcaf856400eb690280",
            "placeholder": "​",
            "style": "IPY_MODEL_436aff424afd466786650c9eb3718aad",
            "value": "Downloading builder script: 100%"
          }
        },
        "1e7e1c62ed444f91bc439e0ccd7cfd45": {
          "model_module": "@jupyter-widgets/controls",
          "model_name": "FloatProgressModel",
          "model_module_version": "1.5.0",
          "state": {
            "_dom_classes": [],
            "_model_module": "@jupyter-widgets/controls",
            "_model_module_version": "1.5.0",
            "_model_name": "FloatProgressModel",
            "_view_count": null,
            "_view_module": "@jupyter-widgets/controls",
            "_view_module_version": "1.5.0",
            "_view_name": "ProgressView",
            "bar_style": "success",
            "description": "",
            "description_tooltip": null,
            "layout": "IPY_MODEL_1b61db4ff15547b9b59a05ba2a124c06",
            "max": 6809,
            "min": 0,
            "orientation": "horizontal",
            "style": "IPY_MODEL_af96c12b4c5d429d995c450bc17fa0e0",
            "value": 6809
          }
        },
        "5a56e109ea154c7483aba37106fb9b68": {
          "model_module": "@jupyter-widgets/controls",
          "model_name": "HTMLModel",
          "model_module_version": "1.5.0",
          "state": {
            "_dom_classes": [],
            "_model_module": "@jupyter-widgets/controls",
            "_model_module_version": "1.5.0",
            "_model_name": "HTMLModel",
            "_view_count": null,
            "_view_module": "@jupyter-widgets/controls",
            "_view_module_version": "1.5.0",
            "_view_name": "HTMLView",
            "description": "",
            "description_tooltip": null,
            "layout": "IPY_MODEL_2d2020e1ae044e5b89413b23642128a7",
            "placeholder": "​",
            "style": "IPY_MODEL_bd6c7fa4b94348ba8ed0ace26832c8b0",
            "value": " 6.81k/6.81k [00:00&lt;00:00, 107kB/s]"
          }
        },
        "e0c01cb5f8414227a85ba8c9cafc8593": {
          "model_module": "@jupyter-widgets/base",
          "model_name": "LayoutModel",
          "model_module_version": "1.2.0",
          "state": {
            "_model_module": "@jupyter-widgets/base",
            "_model_module_version": "1.2.0",
            "_model_name": "LayoutModel",
            "_view_count": null,
            "_view_module": "@jupyter-widgets/base",
            "_view_module_version": "1.2.0",
            "_view_name": "LayoutView",
            "align_content": null,
            "align_items": null,
            "align_self": null,
            "border": null,
            "bottom": null,
            "display": null,
            "flex": null,
            "flex_flow": null,
            "grid_area": null,
            "grid_auto_columns": null,
            "grid_auto_flow": null,
            "grid_auto_rows": null,
            "grid_column": null,
            "grid_gap": null,
            "grid_row": null,
            "grid_template_areas": null,
            "grid_template_columns": null,
            "grid_template_rows": null,
            "height": null,
            "justify_content": null,
            "justify_items": null,
            "left": null,
            "margin": null,
            "max_height": null,
            "max_width": null,
            "min_height": null,
            "min_width": null,
            "object_fit": null,
            "object_position": null,
            "order": null,
            "overflow": null,
            "overflow_x": null,
            "overflow_y": null,
            "padding": null,
            "right": null,
            "top": null,
            "visibility": null,
            "width": null
          }
        },
        "39d0ecf13c3343fcaf856400eb690280": {
          "model_module": "@jupyter-widgets/base",
          "model_name": "LayoutModel",
          "model_module_version": "1.2.0",
          "state": {
            "_model_module": "@jupyter-widgets/base",
            "_model_module_version": "1.2.0",
            "_model_name": "LayoutModel",
            "_view_count": null,
            "_view_module": "@jupyter-widgets/base",
            "_view_module_version": "1.2.0",
            "_view_name": "LayoutView",
            "align_content": null,
            "align_items": null,
            "align_self": null,
            "border": null,
            "bottom": null,
            "display": null,
            "flex": null,
            "flex_flow": null,
            "grid_area": null,
            "grid_auto_columns": null,
            "grid_auto_flow": null,
            "grid_auto_rows": null,
            "grid_column": null,
            "grid_gap": null,
            "grid_row": null,
            "grid_template_areas": null,
            "grid_template_columns": null,
            "grid_template_rows": null,
            "height": null,
            "justify_content": null,
            "justify_items": null,
            "left": null,
            "margin": null,
            "max_height": null,
            "max_width": null,
            "min_height": null,
            "min_width": null,
            "object_fit": null,
            "object_position": null,
            "order": null,
            "overflow": null,
            "overflow_x": null,
            "overflow_y": null,
            "padding": null,
            "right": null,
            "top": null,
            "visibility": null,
            "width": null
          }
        },
        "436aff424afd466786650c9eb3718aad": {
          "model_module": "@jupyter-widgets/controls",
          "model_name": "DescriptionStyleModel",
          "model_module_version": "1.5.0",
          "state": {
            "_model_module": "@jupyter-widgets/controls",
            "_model_module_version": "1.5.0",
            "_model_name": "DescriptionStyleModel",
            "_view_count": null,
            "_view_module": "@jupyter-widgets/base",
            "_view_module_version": "1.2.0",
            "_view_name": "StyleView",
            "description_width": ""
          }
        },
        "1b61db4ff15547b9b59a05ba2a124c06": {
          "model_module": "@jupyter-widgets/base",
          "model_name": "LayoutModel",
          "model_module_version": "1.2.0",
          "state": {
            "_model_module": "@jupyter-widgets/base",
            "_model_module_version": "1.2.0",
            "_model_name": "LayoutModel",
            "_view_count": null,
            "_view_module": "@jupyter-widgets/base",
            "_view_module_version": "1.2.0",
            "_view_name": "LayoutView",
            "align_content": null,
            "align_items": null,
            "align_self": null,
            "border": null,
            "bottom": null,
            "display": null,
            "flex": null,
            "flex_flow": null,
            "grid_area": null,
            "grid_auto_columns": null,
            "grid_auto_flow": null,
            "grid_auto_rows": null,
            "grid_column": null,
            "grid_gap": null,
            "grid_row": null,
            "grid_template_areas": null,
            "grid_template_columns": null,
            "grid_template_rows": null,
            "height": null,
            "justify_content": null,
            "justify_items": null,
            "left": null,
            "margin": null,
            "max_height": null,
            "max_width": null,
            "min_height": null,
            "min_width": null,
            "object_fit": null,
            "object_position": null,
            "order": null,
            "overflow": null,
            "overflow_x": null,
            "overflow_y": null,
            "padding": null,
            "right": null,
            "top": null,
            "visibility": null,
            "width": null
          }
        },
        "af96c12b4c5d429d995c450bc17fa0e0": {
          "model_module": "@jupyter-widgets/controls",
          "model_name": "ProgressStyleModel",
          "model_module_version": "1.5.0",
          "state": {
            "_model_module": "@jupyter-widgets/controls",
            "_model_module_version": "1.5.0",
            "_model_name": "ProgressStyleModel",
            "_view_count": null,
            "_view_module": "@jupyter-widgets/base",
            "_view_module_version": "1.2.0",
            "_view_name": "StyleView",
            "bar_color": null,
            "description_width": ""
          }
        },
        "2d2020e1ae044e5b89413b23642128a7": {
          "model_module": "@jupyter-widgets/base",
          "model_name": "LayoutModel",
          "model_module_version": "1.2.0",
          "state": {
            "_model_module": "@jupyter-widgets/base",
            "_model_module_version": "1.2.0",
            "_model_name": "LayoutModel",
            "_view_count": null,
            "_view_module": "@jupyter-widgets/base",
            "_view_module_version": "1.2.0",
            "_view_name": "LayoutView",
            "align_content": null,
            "align_items": null,
            "align_self": null,
            "border": null,
            "bottom": null,
            "display": null,
            "flex": null,
            "flex_flow": null,
            "grid_area": null,
            "grid_auto_columns": null,
            "grid_auto_flow": null,
            "grid_auto_rows": null,
            "grid_column": null,
            "grid_gap": null,
            "grid_row": null,
            "grid_template_areas": null,
            "grid_template_columns": null,
            "grid_template_rows": null,
            "height": null,
            "justify_content": null,
            "justify_items": null,
            "left": null,
            "margin": null,
            "max_height": null,
            "max_width": null,
            "min_height": null,
            "min_width": null,
            "object_fit": null,
            "object_position": null,
            "order": null,
            "overflow": null,
            "overflow_x": null,
            "overflow_y": null,
            "padding": null,
            "right": null,
            "top": null,
            "visibility": null,
            "width": null
          }
        },
        "bd6c7fa4b94348ba8ed0ace26832c8b0": {
          "model_module": "@jupyter-widgets/controls",
          "model_name": "DescriptionStyleModel",
          "model_module_version": "1.5.0",
          "state": {
            "_model_module": "@jupyter-widgets/controls",
            "_model_module_version": "1.5.0",
            "_model_name": "DescriptionStyleModel",
            "_view_count": null,
            "_view_module": "@jupyter-widgets/base",
            "_view_module_version": "1.2.0",
            "_view_name": "StyleView",
            "description_width": ""
          }
        }
      }
    }
  },
  "nbformat": 4,
  "nbformat_minor": 0
}