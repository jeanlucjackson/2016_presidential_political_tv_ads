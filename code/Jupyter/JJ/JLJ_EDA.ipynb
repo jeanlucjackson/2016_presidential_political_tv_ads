{
 "cells": [
  {
   "cell_type": "code",
   "execution_count": 1,
   "id": "b98f2c69",
   "metadata": {},
   "outputs": [
    {
     "ename": "ModuleNotFoundError",
     "evalue": "No module named 'pandas'",
     "output_type": "error",
     "traceback": [
      "\u001b[0;31m---------------------------------------------------------------------------\u001b[0m",
      "\u001b[0;31mModuleNotFoundError\u001b[0m                       Traceback (most recent call last)",
      "\u001b[0;32m<ipython-input-1-a79dafef8d37>\u001b[0m in \u001b[0;36m<module>\u001b[0;34m\u001b[0m\n\u001b[1;32m      1\u001b[0m \u001b[0;31m# Imports\u001b[0m\u001b[0;34m\u001b[0m\u001b[0;34m\u001b[0m\u001b[0;34m\u001b[0m\u001b[0m\n\u001b[1;32m      2\u001b[0m \u001b[0;32mimport\u001b[0m \u001b[0mnumpy\u001b[0m \u001b[0;32mas\u001b[0m \u001b[0mnp\u001b[0m\u001b[0;34m\u001b[0m\u001b[0;34m\u001b[0m\u001b[0m\n\u001b[0;32m----> 3\u001b[0;31m \u001b[0;32mimport\u001b[0m \u001b[0mpandas\u001b[0m \u001b[0;32mas\u001b[0m \u001b[0mpd\u001b[0m\u001b[0;34m\u001b[0m\u001b[0;34m\u001b[0m\u001b[0m\n\u001b[0m\u001b[1;32m      4\u001b[0m \u001b[0;32mimport\u001b[0m \u001b[0mmatplotlib\u001b[0m\u001b[0;34m.\u001b[0m\u001b[0mpyplot\u001b[0m \u001b[0;32mas\u001b[0m \u001b[0mplt\u001b[0m\u001b[0;34m\u001b[0m\u001b[0;34m\u001b[0m\u001b[0m\n\u001b[1;32m      5\u001b[0m \u001b[0;32mimport\u001b[0m \u001b[0mseaborn\u001b[0m \u001b[0;32mas\u001b[0m \u001b[0msns\u001b[0m\u001b[0;34m\u001b[0m\u001b[0;34m\u001b[0m\u001b[0m\n",
      "\u001b[0;31mModuleNotFoundError\u001b[0m: No module named 'pandas'"
     ]
    }
   ],
   "source": [
    "# Imports\n",
    "import numpy as np\n",
    "import pandas as pd\n",
    "import matplotlib.pyplot as plt\n",
    "import seaborn as sns\n",
    "\n",
    "%matplotlib inline\n",
    "\n",
    "sns.set_theme(style=\"ticks\", color_codes=True)"
   ]
  },
  {
   "cell_type": "code",
   "execution_count": 2,
   "id": "5e04ae76",
   "metadata": {},
   "outputs": [
    {
     "name": "stdout",
     "output_type": "stream",
     "text": [
      "/Users/jljackson/github/Project2_Baer_Jackson_Montecillo_Robbins/code/Python\n"
     ]
    },
    {
     "ename": "ModuleNotFoundError",
     "evalue": "No module named 'pandas'",
     "output_type": "error",
     "traceback": [
      "\u001b[0;31m---------------------------------------------------------------------------\u001b[0m",
      "\u001b[0;31mModuleNotFoundError\u001b[0m                       Traceback (most recent call last)",
      "\u001b[0;32m<ipython-input-2-b1e5f5ae6735>\u001b[0m in \u001b[0;36m<module>\u001b[0;34m\u001b[0m\n\u001b[1;32m      3\u001b[0m \u001b[0;31m# ad_data = pd.read_csv(ads_direct + 'political_ad_pres_airing_from_july.gz', compression='gzip', parse_dates=['start_time', 'end_time', 'date_created'])\u001b[0m\u001b[0;34m\u001b[0m\u001b[0;34m\u001b[0m\u001b[0;34m\u001b[0m\u001b[0m\n\u001b[1;32m      4\u001b[0m \u001b[0mget_ipython\u001b[0m\u001b[0;34m(\u001b[0m\u001b[0;34m)\u001b[0m\u001b[0;34m.\u001b[0m\u001b[0msystem\u001b[0m\u001b[0;34m(\u001b[0m\u001b[0;34m' echo $PYTHONPATH'\u001b[0m\u001b[0;34m)\u001b[0m\u001b[0;34m\u001b[0m\u001b[0;34m\u001b[0m\u001b[0m\n\u001b[0;32m----> 5\u001b[0;31m \u001b[0;32mfrom\u001b[0m \u001b[0mawesome_puppies\u001b[0m \u001b[0;32mimport\u001b[0m \u001b[0mads_df\u001b[0m\u001b[0;34m,\u001b[0m \u001b[0mvotes_df\u001b[0m\u001b[0;34m\u001b[0m\u001b[0;34m\u001b[0m\u001b[0m\n\u001b[0m",
      "\u001b[0;32m~/github/Project2_Baer_Jackson_Montecillo_Robbins/code/Python/awesome_puppies.py\u001b[0m in \u001b[0;36m<module>\u001b[0;34m\u001b[0m\n\u001b[1;32m      9\u001b[0m \u001b[0;32mimport\u001b[0m \u001b[0mos\u001b[0m\u001b[0;34m.\u001b[0m\u001b[0mpath\u001b[0m\u001b[0;34m\u001b[0m\u001b[0;34m\u001b[0m\u001b[0m\n\u001b[1;32m     10\u001b[0m \u001b[0;32mimport\u001b[0m \u001b[0mre\u001b[0m\u001b[0;34m\u001b[0m\u001b[0;34m\u001b[0m\u001b[0m\n\u001b[0;32m---> 11\u001b[0;31m \u001b[0;32mimport\u001b[0m \u001b[0mpandas\u001b[0m \u001b[0;32mas\u001b[0m \u001b[0mpd\u001b[0m\u001b[0;34m\u001b[0m\u001b[0;34m\u001b[0m\u001b[0m\n\u001b[0m\u001b[1;32m     12\u001b[0m \u001b[0;34m\u001b[0m\u001b[0m\n\u001b[1;32m     13\u001b[0m \u001b[0;34m\u001b[0m\u001b[0m\n",
      "\u001b[0;31mModuleNotFoundError\u001b[0m: No module named 'pandas'"
     ]
    }
   ],
   "source": [
    "ads_direct = \"../../../datasets/Political_TV_Ad_Archive/\"\n",
    "mit_direct = \"../../datasets/MIT_Election_Lab/\"\n",
    "# ad_data = pd.read_csv(ads_direct + 'political_ad_pres_airing_from_july.gz', compression='gzip', parse_dates=['start_time', 'end_time', 'date_created'])\n",
    "! echo $PYTHONPATH\n",
    "from awesome_puppies import ads_df, votes_df"
   ]
  },
  {
   "cell_type": "code",
   "execution_count": null,
   "id": "75ee8f87",
   "metadata": {},
   "outputs": [
    {
     "data": {
      "text/plain": [
       "(85487, 19)"
      ]
     },
     "execution_count": 3,
     "metadata": {},
     "output_type": "execute_result"
    }
   ],
   "source": [
    "ads_df.shape"
   ]
  },
  {
   "cell_type": "code",
   "execution_count": null,
   "id": "e46e33f6",
   "metadata": {},
   "outputs": [
    {
     "data": {
      "text/plain": [
       "(804, 13)"
      ]
     },
     "execution_count": 4,
     "metadata": {},
     "output_type": "execute_result"
    }
   ],
   "source": [
    "votes_df.shape"
   ]
  },
  {
   "cell_type": "code",
   "execution_count": null,
   "id": "e033f242",
   "metadata": {},
   "outputs": [
    {
     "data": {
      "text/html": [
       "<div>\n",
       "<style scoped>\n",
       "    .dataframe tbody tr th:only-of-type {\n",
       "        vertical-align: middle;\n",
       "    }\n",
       "\n",
       "    .dataframe tbody tr th {\n",
       "        vertical-align: top;\n",
       "    }\n",
       "\n",
       "    .dataframe thead th {\n",
       "        text-align: right;\n",
       "    }\n",
       "</style>\n",
       "<table border=\"1\" class=\"dataframe\">\n",
       "  <thead>\n",
       "    <tr style=\"text-align: right;\">\n",
       "      <th></th>\n",
       "      <th>network</th>\n",
       "      <th>location</th>\n",
       "      <th>program</th>\n",
       "      <th>program_type</th>\n",
       "      <th>start_time</th>\n",
       "      <th>end_time</th>\n",
       "      <th>archive_id</th>\n",
       "      <th>embed_url</th>\n",
       "      <th>sponsors</th>\n",
       "      <th>sponsor_types</th>\n",
       "      <th>subjects</th>\n",
       "      <th>candidates</th>\n",
       "      <th>message</th>\n",
       "      <th>date_created</th>\n",
       "      <th>beneficiary</th>\n",
       "      <th>date</th>\n",
       "      <th>day_of_week</th>\n",
       "      <th>air_time</th>\n",
       "      <th>duration</th>\n",
       "    </tr>\n",
       "  </thead>\n",
       "  <tbody>\n",
       "    <tr>\n",
       "      <th>0</th>\n",
       "      <td>KLAS</td>\n",
       "      <td>Las Vegas Region</td>\n",
       "      <td>8 News Now at 5 PM</td>\n",
       "      <td>news</td>\n",
       "      <td>2016-09-09 00:12:59+00:00</td>\n",
       "      <td>2016-09-09 00:13:29+00:00</td>\n",
       "      <td>PolAd_HillaryClinton_f1h3j</td>\n",
       "      <td>https://archive.org/embed/PolAd_HillaryClinton...</td>\n",
       "      <td>Hillary for America</td>\n",
       "      <td>Multiple</td>\n",
       "      <td>Energy, China, Jobs</td>\n",
       "      <td>Hillary Clinton</td>\n",
       "      <td>pro</td>\n",
       "      <td>2016-09-12 14:49:32</td>\n",
       "      <td>Clinton</td>\n",
       "      <td>2016-09-09</td>\n",
       "      <td>Friday</td>\n",
       "      <td>00:12:59</td>\n",
       "      <td>0 days 00:00:30</td>\n",
       "    </tr>\n",
       "    <tr>\n",
       "      <th>1</th>\n",
       "      <td>WNCN</td>\n",
       "      <td>Raleigh-Durham-Fayetteville Region</td>\n",
       "      <td>North Carolina News at 500PM</td>\n",
       "      <td>news</td>\n",
       "      <td>2016-09-06 21:58:25+00:00</td>\n",
       "      <td>2016-09-06 21:58:55+00:00</td>\n",
       "      <td>PolAd_HillaryClinton_f1h3j</td>\n",
       "      <td>https://archive.org/embed/PolAd_HillaryClinton...</td>\n",
       "      <td>Hillary for America</td>\n",
       "      <td>Multiple</td>\n",
       "      <td>Energy, China, Jobs</td>\n",
       "      <td>Hillary Clinton</td>\n",
       "      <td>pro</td>\n",
       "      <td>2016-09-12 14:49:32</td>\n",
       "      <td>Clinton</td>\n",
       "      <td>2016-09-06</td>\n",
       "      <td>Tuesday</td>\n",
       "      <td>21:58:25</td>\n",
       "      <td>0 days 00:00:30</td>\n",
       "    </tr>\n",
       "    <tr>\n",
       "      <th>2</th>\n",
       "      <td>KLAS</td>\n",
       "      <td>Las Vegas Region</td>\n",
       "      <td>Face the Nation</td>\n",
       "      <td>news</td>\n",
       "      <td>2016-09-04 16:24:25+00:00</td>\n",
       "      <td>2016-09-04 16:24:55+00:00</td>\n",
       "      <td>PolAd_HillaryClinton_f1h3j</td>\n",
       "      <td>https://archive.org/embed/PolAd_HillaryClinton...</td>\n",
       "      <td>Hillary for America</td>\n",
       "      <td>Multiple</td>\n",
       "      <td>Energy, China, Jobs</td>\n",
       "      <td>Hillary Clinton</td>\n",
       "      <td>pro</td>\n",
       "      <td>2016-09-12 14:49:32</td>\n",
       "      <td>Clinton</td>\n",
       "      <td>2016-09-04</td>\n",
       "      <td>Sunday</td>\n",
       "      <td>16:24:25</td>\n",
       "      <td>0 days 00:00:30</td>\n",
       "    </tr>\n",
       "    <tr>\n",
       "      <th>3</th>\n",
       "      <td>WFLA</td>\n",
       "      <td>Tampa-St. Petersburg Region</td>\n",
       "      <td>Days of Our Lives</td>\n",
       "      <td>not news</td>\n",
       "      <td>2016-08-30 17:59:20+00:00</td>\n",
       "      <td>2016-08-30 17:59:50+00:00</td>\n",
       "      <td>PolAd_HillaryClinton_f1h3j</td>\n",
       "      <td>https://archive.org/embed/PolAd_HillaryClinton...</td>\n",
       "      <td>Hillary for America</td>\n",
       "      <td>Multiple</td>\n",
       "      <td>Energy, China, Jobs</td>\n",
       "      <td>Hillary Clinton</td>\n",
       "      <td>pro</td>\n",
       "      <td>2016-09-12 14:49:32</td>\n",
       "      <td>Clinton</td>\n",
       "      <td>2016-08-30</td>\n",
       "      <td>Tuesday</td>\n",
       "      <td>17:59:20</td>\n",
       "      <td>0 days 00:00:30</td>\n",
       "    </tr>\n",
       "    <tr>\n",
       "      <th>4</th>\n",
       "      <td>KSNV</td>\n",
       "      <td>Las Vegas Region</td>\n",
       "      <td>The Tonight Show Starring Jimmy Fallon</td>\n",
       "      <td>news</td>\n",
       "      <td>2016-09-06 07:02:22+00:00</td>\n",
       "      <td>2016-09-06 07:02:52+00:00</td>\n",
       "      <td>PolAd_HillaryClinton_f1h3j</td>\n",
       "      <td>https://archive.org/embed/PolAd_HillaryClinton...</td>\n",
       "      <td>Hillary for America</td>\n",
       "      <td>Multiple</td>\n",
       "      <td>Energy, China, Jobs</td>\n",
       "      <td>Hillary Clinton</td>\n",
       "      <td>pro</td>\n",
       "      <td>2016-09-12 14:49:32</td>\n",
       "      <td>Clinton</td>\n",
       "      <td>2016-09-06</td>\n",
       "      <td>Tuesday</td>\n",
       "      <td>07:02:22</td>\n",
       "      <td>0 days 00:00:30</td>\n",
       "    </tr>\n",
       "  </tbody>\n",
       "</table>\n",
       "</div>"
      ],
      "text/plain": [
       "  network                            location  \\\n",
       "0    KLAS                    Las Vegas Region   \n",
       "1    WNCN  Raleigh-Durham-Fayetteville Region   \n",
       "2    KLAS                    Las Vegas Region   \n",
       "3    WFLA         Tampa-St. Petersburg Region   \n",
       "4    KSNV                    Las Vegas Region   \n",
       "\n",
       "                                  program program_type  \\\n",
       "0                      8 News Now at 5 PM         news   \n",
       "1            North Carolina News at 500PM         news   \n",
       "2                         Face the Nation         news   \n",
       "3                       Days of Our Lives     not news   \n",
       "4  The Tonight Show Starring Jimmy Fallon         news   \n",
       "\n",
       "                 start_time                  end_time  \\\n",
       "0 2016-09-09 00:12:59+00:00 2016-09-09 00:13:29+00:00   \n",
       "1 2016-09-06 21:58:25+00:00 2016-09-06 21:58:55+00:00   \n",
       "2 2016-09-04 16:24:25+00:00 2016-09-04 16:24:55+00:00   \n",
       "3 2016-08-30 17:59:20+00:00 2016-08-30 17:59:50+00:00   \n",
       "4 2016-09-06 07:02:22+00:00 2016-09-06 07:02:52+00:00   \n",
       "\n",
       "                   archive_id  \\\n",
       "0  PolAd_HillaryClinton_f1h3j   \n",
       "1  PolAd_HillaryClinton_f1h3j   \n",
       "2  PolAd_HillaryClinton_f1h3j   \n",
       "3  PolAd_HillaryClinton_f1h3j   \n",
       "4  PolAd_HillaryClinton_f1h3j   \n",
       "\n",
       "                                           embed_url             sponsors  \\\n",
       "0  https://archive.org/embed/PolAd_HillaryClinton...  Hillary for America   \n",
       "1  https://archive.org/embed/PolAd_HillaryClinton...  Hillary for America   \n",
       "2  https://archive.org/embed/PolAd_HillaryClinton...  Hillary for America   \n",
       "3  https://archive.org/embed/PolAd_HillaryClinton...  Hillary for America   \n",
       "4  https://archive.org/embed/PolAd_HillaryClinton...  Hillary for America   \n",
       "\n",
       "  sponsor_types             subjects       candidates message  \\\n",
       "0      Multiple  Energy, China, Jobs  Hillary Clinton     pro   \n",
       "1      Multiple  Energy, China, Jobs  Hillary Clinton     pro   \n",
       "2      Multiple  Energy, China, Jobs  Hillary Clinton     pro   \n",
       "3      Multiple  Energy, China, Jobs  Hillary Clinton     pro   \n",
       "4      Multiple  Energy, China, Jobs  Hillary Clinton     pro   \n",
       "\n",
       "         date_created beneficiary        date day_of_week  air_time  \\\n",
       "0 2016-09-12 14:49:32     Clinton  2016-09-09      Friday  00:12:59   \n",
       "1 2016-09-12 14:49:32     Clinton  2016-09-06     Tuesday  21:58:25   \n",
       "2 2016-09-12 14:49:32     Clinton  2016-09-04      Sunday  16:24:25   \n",
       "3 2016-09-12 14:49:32     Clinton  2016-08-30     Tuesday  17:59:20   \n",
       "4 2016-09-12 14:49:32     Clinton  2016-09-06     Tuesday  07:02:22   \n",
       "\n",
       "         duration  \n",
       "0 0 days 00:00:30  \n",
       "1 0 days 00:00:30  \n",
       "2 0 days 00:00:30  \n",
       "3 0 days 00:00:30  \n",
       "4 0 days 00:00:30  "
      ]
     },
     "execution_count": 5,
     "metadata": {},
     "output_type": "execute_result"
    }
   ],
   "source": [
    "ads_df.head()"
   ]
  },
  {
   "cell_type": "code",
   "execution_count": null,
   "id": "0552917e",
   "metadata": {},
   "outputs": [
    {
     "data": {
      "text/html": [
       "<div>\n",
       "<style scoped>\n",
       "    .dataframe tbody tr th:only-of-type {\n",
       "        vertical-align: middle;\n",
       "    }\n",
       "\n",
       "    .dataframe tbody tr th {\n",
       "        vertical-align: top;\n",
       "    }\n",
       "\n",
       "    .dataframe thead th {\n",
       "        text-align: right;\n",
       "    }\n",
       "</style>\n",
       "<table border=\"1\" class=\"dataframe\">\n",
       "  <thead>\n",
       "    <tr style=\"text-align: right;\">\n",
       "      <th></th>\n",
       "      <th>year</th>\n",
       "      <th>state</th>\n",
       "      <th>state_po</th>\n",
       "      <th>county_name</th>\n",
       "      <th>county_fips</th>\n",
       "      <th>office</th>\n",
       "      <th>candidate</th>\n",
       "      <th>party</th>\n",
       "      <th>candidatevotes</th>\n",
       "      <th>totalvotes</th>\n",
       "      <th>version</th>\n",
       "      <th>mode</th>\n",
       "      <th>location</th>\n",
       "    </tr>\n",
       "  </thead>\n",
       "  <tbody>\n",
       "    <tr>\n",
       "      <th>0</th>\n",
       "      <td>2016</td>\n",
       "      <td>ARIZONA</td>\n",
       "      <td>AZ</td>\n",
       "      <td>APACHE</td>\n",
       "      <td>04001</td>\n",
       "      <td>PRESIDENT</td>\n",
       "      <td>HILLARY CLINTON</td>\n",
       "      <td>DEMOCRAT</td>\n",
       "      <td>17083</td>\n",
       "      <td>27661</td>\n",
       "      <td>20191203</td>\n",
       "      <td>TOTAL</td>\n",
       "      <td>Phoenix-Prescott Region</td>\n",
       "    </tr>\n",
       "    <tr>\n",
       "      <th>1</th>\n",
       "      <td>2016</td>\n",
       "      <td>ARIZONA</td>\n",
       "      <td>AZ</td>\n",
       "      <td>APACHE</td>\n",
       "      <td>04001</td>\n",
       "      <td>PRESIDENT</td>\n",
       "      <td>DONALD TRUMP</td>\n",
       "      <td>REPUBLICAN</td>\n",
       "      <td>8240</td>\n",
       "      <td>27661</td>\n",
       "      <td>20191203</td>\n",
       "      <td>TOTAL</td>\n",
       "      <td>Phoenix-Prescott Region</td>\n",
       "    </tr>\n",
       "    <tr>\n",
       "      <th>2</th>\n",
       "      <td>2016</td>\n",
       "      <td>ARIZONA</td>\n",
       "      <td>AZ</td>\n",
       "      <td>APACHE</td>\n",
       "      <td>04001</td>\n",
       "      <td>PRESIDENT</td>\n",
       "      <td>OTHER</td>\n",
       "      <td>OTHER</td>\n",
       "      <td>2338</td>\n",
       "      <td>27661</td>\n",
       "      <td>20191203</td>\n",
       "      <td>TOTAL</td>\n",
       "      <td>Phoenix-Prescott Region</td>\n",
       "    </tr>\n",
       "    <tr>\n",
       "      <th>3</th>\n",
       "      <td>2016</td>\n",
       "      <td>ARIZONA</td>\n",
       "      <td>AZ</td>\n",
       "      <td>COCONINO</td>\n",
       "      <td>04005</td>\n",
       "      <td>PRESIDENT</td>\n",
       "      <td>HILLARY CLINTON</td>\n",
       "      <td>DEMOCRAT</td>\n",
       "      <td>32404</td>\n",
       "      <td>59784</td>\n",
       "      <td>20191203</td>\n",
       "      <td>TOTAL</td>\n",
       "      <td>Phoenix-Prescott Region</td>\n",
       "    </tr>\n",
       "    <tr>\n",
       "      <th>4</th>\n",
       "      <td>2016</td>\n",
       "      <td>ARIZONA</td>\n",
       "      <td>AZ</td>\n",
       "      <td>COCONINO</td>\n",
       "      <td>04005</td>\n",
       "      <td>PRESIDENT</td>\n",
       "      <td>DONALD TRUMP</td>\n",
       "      <td>REPUBLICAN</td>\n",
       "      <td>21108</td>\n",
       "      <td>59784</td>\n",
       "      <td>20191203</td>\n",
       "      <td>TOTAL</td>\n",
       "      <td>Phoenix-Prescott Region</td>\n",
       "    </tr>\n",
       "  </tbody>\n",
       "</table>\n",
       "</div>"
      ],
      "text/plain": [
       "   year    state state_po county_name county_fips     office        candidate  \\\n",
       "0  2016  ARIZONA       AZ      APACHE       04001  PRESIDENT  HILLARY CLINTON   \n",
       "1  2016  ARIZONA       AZ      APACHE       04001  PRESIDENT     DONALD TRUMP   \n",
       "2  2016  ARIZONA       AZ      APACHE       04001  PRESIDENT            OTHER   \n",
       "3  2016  ARIZONA       AZ    COCONINO       04005  PRESIDENT  HILLARY CLINTON   \n",
       "4  2016  ARIZONA       AZ    COCONINO       04005  PRESIDENT     DONALD TRUMP   \n",
       "\n",
       "        party  candidatevotes  totalvotes   version   mode  \\\n",
       "0    DEMOCRAT           17083       27661  20191203  TOTAL   \n",
       "1  REPUBLICAN            8240       27661  20191203  TOTAL   \n",
       "2       OTHER            2338       27661  20191203  TOTAL   \n",
       "3    DEMOCRAT           32404       59784  20191203  TOTAL   \n",
       "4  REPUBLICAN           21108       59784  20191203  TOTAL   \n",
       "\n",
       "                  location  \n",
       "0  Phoenix-Prescott Region  \n",
       "1  Phoenix-Prescott Region  \n",
       "2  Phoenix-Prescott Region  \n",
       "3  Phoenix-Prescott Region  \n",
       "4  Phoenix-Prescott Region  "
      ]
     },
     "execution_count": 6,
     "metadata": {},
     "output_type": "execute_result"
    }
   ],
   "source": [
    "votes_df.head()"
   ]
  },
  {
   "cell_type": "code",
   "execution_count": null,
   "id": "7e853f3b",
   "metadata": {},
   "outputs": [
    {
     "data": {
      "text/plain": [
       "Index(['network', 'location', 'program', 'program_type', 'start_time',\n",
       "       'end_time', 'archive_id', 'embed_url', 'sponsors', 'sponsor_types',\n",
       "       'subjects', 'candidates', 'message', 'date_created', 'beneficiary',\n",
       "       'date', 'day_of_week', 'air_time', 'duration'],\n",
       "      dtype='object')"
      ]
     },
     "execution_count": 7,
     "metadata": {},
     "output_type": "execute_result"
    }
   ],
   "source": [
    "ads_df.columns"
   ]
  },
  {
   "cell_type": "code",
   "execution_count": null,
   "id": "bdafa770",
   "metadata": {},
   "outputs": [
    {
     "data": {
      "text/plain": [
       "Index(['year', 'state', 'state_po', 'county_name', 'county_fips', 'office',\n",
       "       'candidate', 'party', 'candidatevotes', 'totalvotes', 'version', 'mode',\n",
       "       'location'],\n",
       "      dtype='object')"
      ]
     },
     "execution_count": 8,
     "metadata": {},
     "output_type": "execute_result"
    }
   ],
   "source": [
    "votes_df.columns"
   ]
  },
  {
   "cell_type": "code",
   "execution_count": null,
   "id": "f7fabbf3",
   "metadata": {},
   "outputs": [
    {
     "data": {
      "text/plain": [
       "network                       object\n",
       "location                      object\n",
       "program                       object\n",
       "program_type                  object\n",
       "start_time       datetime64[ns, UTC]\n",
       "end_time         datetime64[ns, UTC]\n",
       "archive_id                    object\n",
       "embed_url                     object\n",
       "sponsors                      object\n",
       "sponsor_types                 object\n",
       "subjects                      object\n",
       "candidates                    object\n",
       "message                       object\n",
       "date_created          datetime64[ns]\n",
       "beneficiary                   object\n",
       "date                          object\n",
       "day_of_week                   object\n",
       "air_time                      object\n",
       "duration             timedelta64[ns]\n",
       "dtype: object"
      ]
     },
     "execution_count": 9,
     "metadata": {},
     "output_type": "execute_result"
    }
   ],
   "source": [
    "ads_df.dtypes"
   ]
  },
  {
   "cell_type": "code",
   "execution_count": null,
   "id": "f2423983",
   "metadata": {},
   "outputs": [
    {
     "data": {
      "text/html": [
       "<div>\n",
       "<style scoped>\n",
       "    .dataframe tbody tr th:only-of-type {\n",
       "        vertical-align: middle;\n",
       "    }\n",
       "\n",
       "    .dataframe tbody tr th {\n",
       "        vertical-align: top;\n",
       "    }\n",
       "\n",
       "    .dataframe thead th {\n",
       "        text-align: right;\n",
       "    }\n",
       "</style>\n",
       "<table border=\"1\" class=\"dataframe\">\n",
       "  <thead>\n",
       "    <tr style=\"text-align: right;\">\n",
       "      <th></th>\n",
       "      <th>year</th>\n",
       "      <th>candidatevotes</th>\n",
       "      <th>totalvotes</th>\n",
       "      <th>version</th>\n",
       "    </tr>\n",
       "  </thead>\n",
       "  <tbody>\n",
       "    <tr>\n",
       "      <th>count</th>\n",
       "      <td>804.0</td>\n",
       "      <td>804.000000</td>\n",
       "      <td>8.040000e+02</td>\n",
       "      <td>804.0</td>\n",
       "    </tr>\n",
       "    <tr>\n",
       "      <th>mean</th>\n",
       "      <td>2016.0</td>\n",
       "      <td>42674.652985</td>\n",
       "      <td>1.281153e+05</td>\n",
       "      <td>20191203.0</td>\n",
       "    </tr>\n",
       "    <tr>\n",
       "      <th>std</th>\n",
       "      <td>0.0</td>\n",
       "      <td>87909.919166</td>\n",
       "      <td>1.940928e+05</td>\n",
       "      <td>0.0</td>\n",
       "    </tr>\n",
       "    <tr>\n",
       "      <th>min</th>\n",
       "      <td>2016.0</td>\n",
       "      <td>26.000000</td>\n",
       "      <td>5.060000e+02</td>\n",
       "      <td>20191203.0</td>\n",
       "    </tr>\n",
       "    <tr>\n",
       "      <th>25%</th>\n",
       "      <td>2016.0</td>\n",
       "      <td>2252.750000</td>\n",
       "      <td>1.037575e+04</td>\n",
       "      <td>20191203.0</td>\n",
       "    </tr>\n",
       "    <tr>\n",
       "      <th>50%</th>\n",
       "      <td>2016.0</td>\n",
       "      <td>8865.500000</td>\n",
       "      <td>4.441600e+04</td>\n",
       "      <td>20191203.0</td>\n",
       "    </tr>\n",
       "    <tr>\n",
       "      <th>75%</th>\n",
       "      <td>2016.0</td>\n",
       "      <td>37161.750000</td>\n",
       "      <td>1.761688e+05</td>\n",
       "      <td>20191203.0</td>\n",
       "    </tr>\n",
       "    <tr>\n",
       "      <th>max</th>\n",
       "      <td>2016.0</td>\n",
       "      <td>747361.000000</td>\n",
       "      <td>1.567834e+06</td>\n",
       "      <td>20191203.0</td>\n",
       "    </tr>\n",
       "  </tbody>\n",
       "</table>\n",
       "</div>"
      ],
      "text/plain": [
       "         year  candidatevotes    totalvotes     version\n",
       "count   804.0      804.000000  8.040000e+02       804.0\n",
       "mean   2016.0    42674.652985  1.281153e+05  20191203.0\n",
       "std       0.0    87909.919166  1.940928e+05         0.0\n",
       "min    2016.0       26.000000  5.060000e+02  20191203.0\n",
       "25%    2016.0     2252.750000  1.037575e+04  20191203.0\n",
       "50%    2016.0     8865.500000  4.441600e+04  20191203.0\n",
       "75%    2016.0    37161.750000  1.761688e+05  20191203.0\n",
       "max    2016.0   747361.000000  1.567834e+06  20191203.0"
      ]
     },
     "execution_count": 10,
     "metadata": {},
     "output_type": "execute_result"
    }
   ],
   "source": [
    "votes_df.describe()"
   ]
  },
  {
   "cell_type": "code",
   "execution_count": null,
   "id": "67d85c06",
   "metadata": {},
   "outputs": [
    {
     "data": {
      "text/plain": [
       "Donald Trump                                                                                               42302\n",
       "Hillary Clinton                                                                                            22259\n",
       "Donald Trump, Hillary Clinton                                                                              20899\n",
       "Donald Trump, John McCain, Kelly Ayotte, Marco Rubio, Richard Burr, Rob Portman, Ron Johnson, Roy Blunt       20\n",
       "Bernie Sanders, Donald Trump, Hillary Clinton                                                                  4\n",
       "Hillary Clinton, Tim Kaine                                                                                     3\n",
       "Name: candidates, dtype: int64"
      ]
     },
     "execution_count": 11,
     "metadata": {},
     "output_type": "execute_result"
    }
   ],
   "source": [
    "ads_df.candidates.value_counts().head(20)"
   ]
  },
  {
   "cell_type": "code",
   "execution_count": null,
   "id": "b67b5a63",
   "metadata": {},
   "outputs": [
    {
     "data": {
      "text/plain": [
       "0        Hillary Clinton\n",
       "1        Hillary Clinton\n",
       "2        Hillary Clinton\n",
       "3        Hillary Clinton\n",
       "4        Hillary Clinton\n",
       "              ...       \n",
       "85482    Hillary Clinton\n",
       "85483    Hillary Clinton\n",
       "85484    Hillary Clinton\n",
       "85485    Hillary Clinton\n",
       "85486    Hillary Clinton\n",
       "Name: candidates, Length: 85487, dtype: object"
      ]
     },
     "execution_count": 12,
     "metadata": {},
     "output_type": "execute_result"
    }
   ],
   "source": [
    "ads_df.candidates[ads_df.candidates.str.contains('Donald Trump') | ads_df.candidates.str.contains('Hillary Clinton')]"
   ]
  },
  {
   "cell_type": "code",
   "execution_count": null,
   "id": "c14a68b1",
   "metadata": {},
   "outputs": [
    {
     "data": {
      "text/plain": [
       "Text(0.5, 1.0, 'Number of TV Ads')"
      ]
     },
     "execution_count": 13,
     "metadata": {},
     "output_type": "execute_result"
    },
    {
     "data": {
      "image/png": "[encoded data removed]",
      "text/plain": [
       "<Figure size 432x288 with 1 Axes>"
      ]
     },
     "metadata": {},
     "output_type": "display_data"
    }
   ],
   "source": [
    "ads_df.candidates[(ads_df.candidates == 'Donald Trump') | (ads_df.candidates == 'Hillary Clinton')].value_counts().plot(kind='bar')\n",
    "plt.title('Number of TV Ads')\n",
    "# plt.savefig('../../output/Proposal/num_of_ads_Clinton_Trump.png', bbox_inches='tight')"
   ]
  },
  {
   "cell_type": "code",
   "execution_count": null,
   "id": "6b573c7f",
   "metadata": {},
   "outputs": [
    {
     "data": {
      "text/plain": [
       "news        55421\n",
       "not news    30066\n",
       "Name: program_type, dtype: int64"
      ]
     },
     "execution_count": 14,
     "metadata": {},
     "output_type": "execute_result"
    }
   ],
   "source": [
    "ads_df.program_type.value_counts()"
   ]
  },
  {
   "cell_type": "code",
   "execution_count": null,
   "id": "704ac0ad",
   "metadata": {},
   "outputs": [
    {
     "data": {
      "text/plain": [
       "Hillary for America                       38232\n",
       "Donald J Trump For President              22610\n",
       "Priorities USA Action                     11224\n",
       "Rebuilding America Now                     2600\n",
       "NextGen California Action Committee        2358\n",
       "Women Vote!                                1110\n",
       "Future45                                    960\n",
       "Reform America Fund                         803\n",
       "NRA Institute for Legislative Action        791\n",
       "45 Committee                                766\n",
       "National Rifle Assn                         661\n",
       "Donald J. Trump For President               524\n",
       "Internet Archive                            511\n",
       "Stop Hillary PAC                            483\n",
       "Great America PAC                           465\n",
       "MoveOn.org                                  425\n",
       "Democratic National Cmte                    210\n",
       "Correct The Record                          137\n",
       "Reclaim America PAC                         110\n",
       "Republican National Cmte                     98\n",
       "American Bridge 21st Century                 97\n",
       "America Rising PAC                           64\n",
       "iAmerica Action                              58\n",
       "Ready for Hillary                            49\n",
       "Hillary Victory Fund                         29\n",
       "NextGen Climate Action                       23\n",
       "Democratic Senatorial Campaign Cmte          20\n",
       "Make America Number One                      20\n",
       "Democratic Congressional Campaign Cmte       20\n",
       "Fifty Second Street Fund                      7\n",
       "Our Principles PAC                            6\n",
       "Victory 2016 Committee                        5\n",
       "Club for Growth Action                        4\n",
       "American Crossroads                           3\n",
       "Local Voices                                  3\n",
       "Fenton Communications Inc                     1\n",
       "Name: sponsors, dtype: int64"
      ]
     },
     "execution_count": 15,
     "metadata": {},
     "output_type": "execute_result"
    }
   ],
   "source": [
    "ads_df.sponsors.value_counts()"
   ]
  },
  {
   "cell_type": "code",
   "execution_count": null,
   "id": "48612b08",
   "metadata": {},
   "outputs": [
    {
     "data": {
      "text/html": [
       "<div>\n",
       "<style scoped>\n",
       "    .dataframe tbody tr th:only-of-type {\n",
       "        vertical-align: middle;\n",
       "    }\n",
       "\n",
       "    .dataframe tbody tr th {\n",
       "        vertical-align: top;\n",
       "    }\n",
       "\n",
       "    .dataframe thead th {\n",
       "        text-align: right;\n",
       "    }\n",
       "</style>\n",
       "<table border=\"1\" class=\"dataframe\">\n",
       "  <thead>\n",
       "    <tr style=\"text-align: right;\">\n",
       "      <th></th>\n",
       "      <th>candidates</th>\n",
       "      <th>duration</th>\n",
       "      <th>seconds</th>\n",
       "    </tr>\n",
       "  </thead>\n",
       "  <tbody>\n",
       "    <tr>\n",
       "      <th>0</th>\n",
       "      <td>Hillary Clinton</td>\n",
       "      <td>0 days 00:00:30</td>\n",
       "      <td>30.0</td>\n",
       "    </tr>\n",
       "    <tr>\n",
       "      <th>1</th>\n",
       "      <td>Hillary Clinton</td>\n",
       "      <td>0 days 00:00:30</td>\n",
       "      <td>30.0</td>\n",
       "    </tr>\n",
       "    <tr>\n",
       "      <th>2</th>\n",
       "      <td>Hillary Clinton</td>\n",
       "      <td>0 days 00:00:30</td>\n",
       "      <td>30.0</td>\n",
       "    </tr>\n",
       "    <tr>\n",
       "      <th>3</th>\n",
       "      <td>Hillary Clinton</td>\n",
       "      <td>0 days 00:00:30</td>\n",
       "      <td>30.0</td>\n",
       "    </tr>\n",
       "    <tr>\n",
       "      <th>4</th>\n",
       "      <td>Hillary Clinton</td>\n",
       "      <td>0 days 00:00:30</td>\n",
       "      <td>30.0</td>\n",
       "    </tr>\n",
       "    <tr>\n",
       "      <th>...</th>\n",
       "      <td>...</td>\n",
       "      <td>...</td>\n",
       "      <td>...</td>\n",
       "    </tr>\n",
       "    <tr>\n",
       "      <th>85482</th>\n",
       "      <td>Hillary Clinton</td>\n",
       "      <td>0 days 00:01:00</td>\n",
       "      <td>60.0</td>\n",
       "    </tr>\n",
       "    <tr>\n",
       "      <th>85483</th>\n",
       "      <td>Hillary Clinton</td>\n",
       "      <td>0 days 00:01:00</td>\n",
       "      <td>60.0</td>\n",
       "    </tr>\n",
       "    <tr>\n",
       "      <th>85484</th>\n",
       "      <td>Hillary Clinton</td>\n",
       "      <td>0 days 00:01:00</td>\n",
       "      <td>60.0</td>\n",
       "    </tr>\n",
       "    <tr>\n",
       "      <th>85485</th>\n",
       "      <td>Hillary Clinton</td>\n",
       "      <td>0 days 00:01:00</td>\n",
       "      <td>60.0</td>\n",
       "    </tr>\n",
       "    <tr>\n",
       "      <th>85486</th>\n",
       "      <td>Hillary Clinton</td>\n",
       "      <td>0 days 00:01:00</td>\n",
       "      <td>60.0</td>\n",
       "    </tr>\n",
       "  </tbody>\n",
       "</table>\n",
       "<p>64561 rows × 3 columns</p>\n",
       "</div>"
      ],
      "text/plain": [
       "            candidates        duration  seconds\n",
       "0      Hillary Clinton 0 days 00:00:30     30.0\n",
       "1      Hillary Clinton 0 days 00:00:30     30.0\n",
       "2      Hillary Clinton 0 days 00:00:30     30.0\n",
       "3      Hillary Clinton 0 days 00:00:30     30.0\n",
       "4      Hillary Clinton 0 days 00:00:30     30.0\n",
       "...                ...             ...      ...\n",
       "85482  Hillary Clinton 0 days 00:01:00     60.0\n",
       "85483  Hillary Clinton 0 days 00:01:00     60.0\n",
       "85484  Hillary Clinton 0 days 00:01:00     60.0\n",
       "85485  Hillary Clinton 0 days 00:01:00     60.0\n",
       "85486  Hillary Clinton 0 days 00:01:00     60.0\n",
       "\n",
       "[64561 rows x 3 columns]"
      ]
     },
     "execution_count": 16,
     "metadata": {},
     "output_type": "execute_result"
    }
   ],
   "source": [
    "# Filter to only Hillary and Drumpf\n",
    "ads_df_duration = ads_df[['candidates', 'duration']][(ads_df.candidates == 'Donald Trump') | (ads_df.candidates == 'Hillary Clinton')]\n",
    "ads_df_duration['seconds'] = ads_df_duration.duration.dt.total_seconds()\n",
    "ads_df_duration"
   ]
  },
  {
   "cell_type": "code",
   "execution_count": null,
   "id": "b785f047",
   "metadata": {},
   "outputs": [
    {
     "data": {
      "image/png": "[encoded data removed]",
      "text/plain": [
       "<Figure size 360x360 with 1 Axes>"
      ]
     },
     "metadata": {},
     "output_type": "display_data"
    }
   ],
   "source": [
    "sns_plot = sns.catplot(data=ads_df_duration,\n",
    "           x=\"candidates\",\n",
    "           y=\"seconds\",\n",
    "           jitter=False)\n",
    "\n",
    "# sns_plot.figure.savefig('../../../output/Proposal/ad_duration_Clinton_Trump.png', bbox_inches='tight')"
   ]
  },
  {
   "cell_type": "code",
   "execution_count": null,
   "id": "7368826d",
   "metadata": {},
   "outputs": [
    {
     "data": {
      "image/png": "[encoded data removed]",
      "text/plain": [
       "<Figure size 360x360 with 1 Axes>"
      ]
     },
     "metadata": {},
     "output_type": "display_data"
    }
   ],
   "source": [
    "sns.set_theme(style=\"whitegrid\")\n",
    "sns_plot = sns.catplot(data=ads_df_duration,\n",
    "           x=\"candidates\",\n",
    "           y=\"seconds\",\n",
    "           kind=\"violin\",\n",
    "           cut=0,\n",
    "           scale=\"width\",\n",
    "           palette=\"Set1\",\n",
    "           order=[\"Donald Trump\", \"Hillary Clinton\"])\n",
    "\n",
    "# sns_plot.figure.savefig('../../../output/Proposal/ad_duration_violin_Clinton_Trump.png', bbox_inches='tight')"
   ]
  }
 ],
 "metadata": {
  "kernelspec": {
   "display_name": "Python 3 (ipykernel)",
   "language": "python",
   "name": "python3"
  },
  "language_info": {
   "codemirror_mode": {
    "name": "ipython",
    "version": 3
   },
   "file_extension": ".py",
   "mimetype": "text/x-python",
   "name": "python",
   "nbconvert_exporter": "python",
   "pygments_lexer": "ipython3",
   "version": "3.6.13"
  }
 },
 "nbformat": 4,
 "nbformat_minor": 5
}
