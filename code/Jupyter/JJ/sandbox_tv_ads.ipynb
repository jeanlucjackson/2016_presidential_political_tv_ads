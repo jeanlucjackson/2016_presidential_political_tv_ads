{
 "cells": [
  {
   "cell_type": "code",
   "execution_count": 1,
   "id": "bdd73602",
   "metadata": {},
   "outputs": [],
   "source": [
    "# Imports\n",
    "import numpy as np\n",
    "import pandas as pd\n",
    "import matplotlib.pyplot as plt\n",
    "\n",
    "%matplotlib inline"
   ]
  },
  {
   "cell_type": "code",
   "execution_count": 2,
   "id": "1594fb4d",
   "metadata": {},
   "outputs": [
    {
     "name": "stdout",
     "output_type": "stream",
     "text": [
      "/Users/jljackson/github/Project2_Baer_Jackson_Montecillo_Robbins/code/Python\r\n"
     ]
    }
   ],
   "source": [
    "ads_direct = \"../../../datasets/Political_TV_Ad_Archive/\"\n",
    "\n",
    "! echo $PYTHONPATH\n",
    "\n",
    "import awesome_puppies as ap\n",
    "ads_df = ap.ads_df\n",
    "votes_df = ap.votes_df"
   ]
  },
  {
   "cell_type": "code",
   "execution_count": 3,
   "id": "956b2ffa",
   "metadata": {},
   "outputs": [
    {
     "data": {
      "text/html": [
       "<div>\n",
       "<style scoped>\n",
       "    .dataframe tbody tr th:only-of-type {\n",
       "        vertical-align: middle;\n",
       "    }\n",
       "\n",
       "    .dataframe tbody tr th {\n",
       "        vertical-align: top;\n",
       "    }\n",
       "\n",
       "    .dataframe thead th {\n",
       "        text-align: right;\n",
       "    }\n",
       "</style>\n",
       "<table border=\"1\" class=\"dataframe\">\n",
       "  <thead>\n",
       "    <tr style=\"text-align: right;\">\n",
       "      <th></th>\n",
       "      <th>network</th>\n",
       "      <th>region_id</th>\n",
       "      <th>program</th>\n",
       "      <th>program_type</th>\n",
       "      <th>start_time</th>\n",
       "      <th>end_time</th>\n",
       "      <th>archive_id</th>\n",
       "      <th>embed_url</th>\n",
       "      <th>sponsors</th>\n",
       "      <th>sponsor_types</th>\n",
       "      <th>subjects</th>\n",
       "      <th>candidates</th>\n",
       "      <th>message</th>\n",
       "      <th>date_created</th>\n",
       "      <th>beneficiary</th>\n",
       "      <th>date</th>\n",
       "      <th>day_of_week</th>\n",
       "      <th>air_time</th>\n",
       "      <th>duration</th>\n",
       "    </tr>\n",
       "  </thead>\n",
       "  <tbody>\n",
       "    <tr>\n",
       "      <th>0</th>\n",
       "      <td>KLAS</td>\n",
       "      <td>las_vegas_region</td>\n",
       "      <td>8 News Now at 5 PM</td>\n",
       "      <td>news</td>\n",
       "      <td>2016-09-09 00:12:59+00:00</td>\n",
       "      <td>2016-09-09 00:13:29+00:00</td>\n",
       "      <td>PolAd_HillaryClinton_f1h3j</td>\n",
       "      <td>https://archive.org/embed/PolAd_HillaryClinton...</td>\n",
       "      <td>Hillary for America</td>\n",
       "      <td>Multiple</td>\n",
       "      <td>Energy, China, Jobs</td>\n",
       "      <td>Hillary Clinton</td>\n",
       "      <td>pro</td>\n",
       "      <td>2016-09-12 14:49:32</td>\n",
       "      <td>Clinton</td>\n",
       "      <td>2016-09-09</td>\n",
       "      <td>Friday</td>\n",
       "      <td>00:12:59</td>\n",
       "      <td>0 days 00:00:30</td>\n",
       "    </tr>\n",
       "    <tr>\n",
       "      <th>1</th>\n",
       "      <td>WNCN</td>\n",
       "      <td>raleigh_region</td>\n",
       "      <td>North Carolina News at 500PM</td>\n",
       "      <td>news</td>\n",
       "      <td>2016-09-06 21:58:25+00:00</td>\n",
       "      <td>2016-09-06 21:58:55+00:00</td>\n",
       "      <td>PolAd_HillaryClinton_f1h3j</td>\n",
       "      <td>https://archive.org/embed/PolAd_HillaryClinton...</td>\n",
       "      <td>Hillary for America</td>\n",
       "      <td>Multiple</td>\n",
       "      <td>Energy, China, Jobs</td>\n",
       "      <td>Hillary Clinton</td>\n",
       "      <td>pro</td>\n",
       "      <td>2016-09-12 14:49:32</td>\n",
       "      <td>Clinton</td>\n",
       "      <td>2016-09-06</td>\n",
       "      <td>Tuesday</td>\n",
       "      <td>21:58:25</td>\n",
       "      <td>0 days 00:00:30</td>\n",
       "    </tr>\n",
       "    <tr>\n",
       "      <th>2</th>\n",
       "      <td>KLAS</td>\n",
       "      <td>las_vegas_region</td>\n",
       "      <td>Face the Nation</td>\n",
       "      <td>news</td>\n",
       "      <td>2016-09-04 16:24:25+00:00</td>\n",
       "      <td>2016-09-04 16:24:55+00:00</td>\n",
       "      <td>PolAd_HillaryClinton_f1h3j</td>\n",
       "      <td>https://archive.org/embed/PolAd_HillaryClinton...</td>\n",
       "      <td>Hillary for America</td>\n",
       "      <td>Multiple</td>\n",
       "      <td>Energy, China, Jobs</td>\n",
       "      <td>Hillary Clinton</td>\n",
       "      <td>pro</td>\n",
       "      <td>2016-09-12 14:49:32</td>\n",
       "      <td>Clinton</td>\n",
       "      <td>2016-09-04</td>\n",
       "      <td>Sunday</td>\n",
       "      <td>16:24:25</td>\n",
       "      <td>0 days 00:00:30</td>\n",
       "    </tr>\n",
       "    <tr>\n",
       "      <th>3</th>\n",
       "      <td>WFLA</td>\n",
       "      <td>tampa_region</td>\n",
       "      <td>Days of Our Lives</td>\n",
       "      <td>not news</td>\n",
       "      <td>2016-08-30 17:59:20+00:00</td>\n",
       "      <td>2016-08-30 17:59:50+00:00</td>\n",
       "      <td>PolAd_HillaryClinton_f1h3j</td>\n",
       "      <td>https://archive.org/embed/PolAd_HillaryClinton...</td>\n",
       "      <td>Hillary for America</td>\n",
       "      <td>Multiple</td>\n",
       "      <td>Energy, China, Jobs</td>\n",
       "      <td>Hillary Clinton</td>\n",
       "      <td>pro</td>\n",
       "      <td>2016-09-12 14:49:32</td>\n",
       "      <td>Clinton</td>\n",
       "      <td>2016-08-30</td>\n",
       "      <td>Tuesday</td>\n",
       "      <td>17:59:20</td>\n",
       "      <td>0 days 00:00:30</td>\n",
       "    </tr>\n",
       "    <tr>\n",
       "      <th>4</th>\n",
       "      <td>KSNV</td>\n",
       "      <td>las_vegas_region</td>\n",
       "      <td>The Tonight Show Starring Jimmy Fallon</td>\n",
       "      <td>news</td>\n",
       "      <td>2016-09-06 07:02:22+00:00</td>\n",
       "      <td>2016-09-06 07:02:52+00:00</td>\n",
       "      <td>PolAd_HillaryClinton_f1h3j</td>\n",
       "      <td>https://archive.org/embed/PolAd_HillaryClinton...</td>\n",
       "      <td>Hillary for America</td>\n",
       "      <td>Multiple</td>\n",
       "      <td>Energy, China, Jobs</td>\n",
       "      <td>Hillary Clinton</td>\n",
       "      <td>pro</td>\n",
       "      <td>2016-09-12 14:49:32</td>\n",
       "      <td>Clinton</td>\n",
       "      <td>2016-09-06</td>\n",
       "      <td>Tuesday</td>\n",
       "      <td>07:02:22</td>\n",
       "      <td>0 days 00:00:30</td>\n",
       "    </tr>\n",
       "  </tbody>\n",
       "</table>\n",
       "</div>"
      ],
      "text/plain": [
       "  network         region_id                                 program  \\\n",
       "0    KLAS  las_vegas_region                      8 News Now at 5 PM   \n",
       "1    WNCN    raleigh_region            North Carolina News at 500PM   \n",
       "2    KLAS  las_vegas_region                         Face the Nation   \n",
       "3    WFLA      tampa_region                       Days of Our Lives   \n",
       "4    KSNV  las_vegas_region  The Tonight Show Starring Jimmy Fallon   \n",
       "\n",
       "  program_type                start_time                  end_time  \\\n",
       "0         news 2016-09-09 00:12:59+00:00 2016-09-09 00:13:29+00:00   \n",
       "1         news 2016-09-06 21:58:25+00:00 2016-09-06 21:58:55+00:00   \n",
       "2         news 2016-09-04 16:24:25+00:00 2016-09-04 16:24:55+00:00   \n",
       "3     not news 2016-08-30 17:59:20+00:00 2016-08-30 17:59:50+00:00   \n",
       "4         news 2016-09-06 07:02:22+00:00 2016-09-06 07:02:52+00:00   \n",
       "\n",
       "                   archive_id  \\\n",
       "0  PolAd_HillaryClinton_f1h3j   \n",
       "1  PolAd_HillaryClinton_f1h3j   \n",
       "2  PolAd_HillaryClinton_f1h3j   \n",
       "3  PolAd_HillaryClinton_f1h3j   \n",
       "4  PolAd_HillaryClinton_f1h3j   \n",
       "\n",
       "                                           embed_url             sponsors  \\\n",
       "0  https://archive.org/embed/PolAd_HillaryClinton...  Hillary for America   \n",
       "1  https://archive.org/embed/PolAd_HillaryClinton...  Hillary for America   \n",
       "2  https://archive.org/embed/PolAd_HillaryClinton...  Hillary for America   \n",
       "3  https://archive.org/embed/PolAd_HillaryClinton...  Hillary for America   \n",
       "4  https://archive.org/embed/PolAd_HillaryClinton...  Hillary for America   \n",
       "\n",
       "  sponsor_types             subjects       candidates message  \\\n",
       "0      Multiple  Energy, China, Jobs  Hillary Clinton     pro   \n",
       "1      Multiple  Energy, China, Jobs  Hillary Clinton     pro   \n",
       "2      Multiple  Energy, China, Jobs  Hillary Clinton     pro   \n",
       "3      Multiple  Energy, China, Jobs  Hillary Clinton     pro   \n",
       "4      Multiple  Energy, China, Jobs  Hillary Clinton     pro   \n",
       "\n",
       "         date_created beneficiary        date day_of_week  air_time  \\\n",
       "0 2016-09-12 14:49:32     Clinton  2016-09-09      Friday  00:12:59   \n",
       "1 2016-09-12 14:49:32     Clinton  2016-09-06     Tuesday  21:58:25   \n",
       "2 2016-09-12 14:49:32     Clinton  2016-09-04      Sunday  16:24:25   \n",
       "3 2016-09-12 14:49:32     Clinton  2016-08-30     Tuesday  17:59:20   \n",
       "4 2016-09-12 14:49:32     Clinton  2016-09-06     Tuesday  07:02:22   \n",
       "\n",
       "         duration  \n",
       "0 0 days 00:00:30  \n",
       "1 0 days 00:00:30  \n",
       "2 0 days 00:00:30  \n",
       "3 0 days 00:00:30  \n",
       "4 0 days 00:00:30  "
      ]
     },
     "execution_count": 3,
     "metadata": {},
     "output_type": "execute_result"
    }
   ],
   "source": [
    "ads_df.head()"
   ]
  },
  {
   "cell_type": "code",
   "execution_count": 4,
   "id": "f9df293f",
   "metadata": {},
   "outputs": [
    {
     "data": {
      "text/plain": [
       "Index(['network', 'region_id', 'program', 'program_type', 'start_time',\n",
       "       'end_time', 'archive_id', 'embed_url', 'sponsors', 'sponsor_types',\n",
       "       'subjects', 'candidates', 'message', 'date_created', 'beneficiary',\n",
       "       'date', 'day_of_week', 'air_time', 'duration'],\n",
       "      dtype='object')"
      ]
     },
     "execution_count": 4,
     "metadata": {},
     "output_type": "execute_result"
    }
   ],
   "source": [
    "ads_df.columns"
   ]
  },
  {
   "cell_type": "code",
   "execution_count": 5,
   "id": "0fb70766",
   "metadata": {},
   "outputs": [
    {
     "data": {
      "text/plain": [
       "Clinton    54239\n",
       "Trump      31248\n",
       "Name: beneficiary, dtype: int64"
      ]
     },
     "execution_count": 5,
     "metadata": {},
     "output_type": "execute_result"
    }
   ],
   "source": [
    "ads_df.beneficiary.value_counts()"
   ]
  },
  {
   "cell_type": "code",
   "execution_count": null,
   "id": "392de2d2",
   "metadata": {},
   "outputs": [],
   "source": [
    "ads_df.head"
   ]
  },
  {
   "cell_type": "code",
   "execution_count": 6,
   "id": "f672e816",
   "metadata": {},
   "outputs": [
    {
     "ename": "KeyError",
     "evalue": "'location'",
     "output_type": "error",
     "traceback": [
      "\u001b[0;31m---------------------------------------------------------------------------\u001b[0m",
      "\u001b[0;31mKeyError\u001b[0m                                  Traceback (most recent call last)",
      "\u001b[0;32m/var/folders/31/90742r550bgg33_k6yzk4c9m0000gn/T/ipykernel_26393/676449281.py\u001b[0m in \u001b[0;36m<module>\u001b[0;34m\u001b[0m\n\u001b[0;32m----> 1\u001b[0;31m \u001b[0mad_counts_by_region\u001b[0m \u001b[0;34m=\u001b[0m \u001b[0mads_df\u001b[0m\u001b[0;34m.\u001b[0m\u001b[0mgroupby\u001b[0m\u001b[0;34m(\u001b[0m\u001b[0;34m[\u001b[0m\u001b[0;34m'location'\u001b[0m\u001b[0;34m,\u001b[0m \u001b[0;34m'beneficiary'\u001b[0m\u001b[0;34m]\u001b[0m\u001b[0;34m)\u001b[0m\u001b[0;34m.\u001b[0m\u001b[0msize\u001b[0m\u001b[0;34m(\u001b[0m\u001b[0;34m)\u001b[0m\u001b[0;34m.\u001b[0m\u001b[0munstack\u001b[0m\u001b[0;34m(\u001b[0m\u001b[0mlevel\u001b[0m\u001b[0;34m=\u001b[0m\u001b[0;36m1\u001b[0m\u001b[0;34m)\u001b[0m\u001b[0;34m\u001b[0m\u001b[0;34m\u001b[0m\u001b[0m\n\u001b[0m\u001b[1;32m      2\u001b[0m \u001b[0mad_counts_by_region\u001b[0m\u001b[0;34m\u001b[0m\u001b[0;34m\u001b[0m\u001b[0m\n",
      "\u001b[0;32m/opt/anaconda3/lib/python3.8/site-packages/pandas/core/frame.py\u001b[0m in \u001b[0;36mgroupby\u001b[0;34m(self, by, axis, level, as_index, sort, group_keys, squeeze, observed, dropna)\u001b[0m\n\u001b[1;32m   7624\u001b[0m         \u001b[0;31m# error: Argument \"squeeze\" to \"DataFrameGroupBy\" has incompatible type\u001b[0m\u001b[0;34m\u001b[0m\u001b[0;34m\u001b[0m\u001b[0;34m\u001b[0m\u001b[0m\n\u001b[1;32m   7625\u001b[0m         \u001b[0;31m# \"Union[bool, NoDefault]\"; expected \"bool\"\u001b[0m\u001b[0;34m\u001b[0m\u001b[0;34m\u001b[0m\u001b[0;34m\u001b[0m\u001b[0m\n\u001b[0;32m-> 7626\u001b[0;31m         return DataFrameGroupBy(\n\u001b[0m\u001b[1;32m   7627\u001b[0m             \u001b[0mobj\u001b[0m\u001b[0;34m=\u001b[0m\u001b[0mself\u001b[0m\u001b[0;34m,\u001b[0m\u001b[0;34m\u001b[0m\u001b[0;34m\u001b[0m\u001b[0m\n\u001b[1;32m   7628\u001b[0m             \u001b[0mkeys\u001b[0m\u001b[0;34m=\u001b[0m\u001b[0mby\u001b[0m\u001b[0;34m,\u001b[0m\u001b[0;34m\u001b[0m\u001b[0;34m\u001b[0m\u001b[0m\n",
      "\u001b[0;32m/opt/anaconda3/lib/python3.8/site-packages/pandas/core/groupby/groupby.py\u001b[0m in \u001b[0;36m__init__\u001b[0;34m(self, obj, keys, axis, level, grouper, exclusions, selection, as_index, sort, group_keys, squeeze, observed, mutated, dropna)\u001b[0m\n\u001b[1;32m    886\u001b[0m             \u001b[0;32mfrom\u001b[0m \u001b[0mpandas\u001b[0m\u001b[0;34m.\u001b[0m\u001b[0mcore\u001b[0m\u001b[0;34m.\u001b[0m\u001b[0mgroupby\u001b[0m\u001b[0;34m.\u001b[0m\u001b[0mgrouper\u001b[0m \u001b[0;32mimport\u001b[0m \u001b[0mget_grouper\u001b[0m\u001b[0;34m\u001b[0m\u001b[0;34m\u001b[0m\u001b[0m\n\u001b[1;32m    887\u001b[0m \u001b[0;34m\u001b[0m\u001b[0m\n\u001b[0;32m--> 888\u001b[0;31m             grouper, exclusions, obj = get_grouper(\n\u001b[0m\u001b[1;32m    889\u001b[0m                 \u001b[0mobj\u001b[0m\u001b[0;34m,\u001b[0m\u001b[0;34m\u001b[0m\u001b[0;34m\u001b[0m\u001b[0m\n\u001b[1;32m    890\u001b[0m                 \u001b[0mkeys\u001b[0m\u001b[0;34m,\u001b[0m\u001b[0;34m\u001b[0m\u001b[0;34m\u001b[0m\u001b[0m\n",
      "\u001b[0;32m/opt/anaconda3/lib/python3.8/site-packages/pandas/core/groupby/grouper.py\u001b[0m in \u001b[0;36mget_grouper\u001b[0;34m(obj, key, axis, level, sort, observed, mutated, validate, dropna)\u001b[0m\n\u001b[1;32m    858\u001b[0m                 \u001b[0min_axis\u001b[0m\u001b[0;34m,\u001b[0m \u001b[0mlevel\u001b[0m\u001b[0;34m,\u001b[0m \u001b[0mgpr\u001b[0m \u001b[0;34m=\u001b[0m \u001b[0;32mFalse\u001b[0m\u001b[0;34m,\u001b[0m \u001b[0mgpr\u001b[0m\u001b[0;34m,\u001b[0m \u001b[0;32mNone\u001b[0m\u001b[0;34m\u001b[0m\u001b[0;34m\u001b[0m\u001b[0m\n\u001b[1;32m    859\u001b[0m             \u001b[0;32melse\u001b[0m\u001b[0;34m:\u001b[0m\u001b[0;34m\u001b[0m\u001b[0;34m\u001b[0m\u001b[0m\n\u001b[0;32m--> 860\u001b[0;31m                 \u001b[0;32mraise\u001b[0m \u001b[0mKeyError\u001b[0m\u001b[0;34m(\u001b[0m\u001b[0mgpr\u001b[0m\u001b[0;34m)\u001b[0m\u001b[0;34m\u001b[0m\u001b[0;34m\u001b[0m\u001b[0m\n\u001b[0m\u001b[1;32m    861\u001b[0m         \u001b[0;32melif\u001b[0m \u001b[0misinstance\u001b[0m\u001b[0;34m(\u001b[0m\u001b[0mgpr\u001b[0m\u001b[0;34m,\u001b[0m \u001b[0mGrouper\u001b[0m\u001b[0;34m)\u001b[0m \u001b[0;32mand\u001b[0m \u001b[0mgpr\u001b[0m\u001b[0;34m.\u001b[0m\u001b[0mkey\u001b[0m \u001b[0;32mis\u001b[0m \u001b[0;32mnot\u001b[0m \u001b[0;32mNone\u001b[0m\u001b[0;34m:\u001b[0m\u001b[0;34m\u001b[0m\u001b[0;34m\u001b[0m\u001b[0m\n\u001b[1;32m    862\u001b[0m             \u001b[0;31m# Add key to exclusions\u001b[0m\u001b[0;34m\u001b[0m\u001b[0;34m\u001b[0m\u001b[0;34m\u001b[0m\u001b[0m\n",
      "\u001b[0;31mKeyError\u001b[0m: 'location'"
     ]
    }
   ],
   "source": [
    "ad_counts_by_region = ads_df.groupby(['location', 'beneficiary']).size().unstack(level=1)\n",
    "ad_counts_by_region"
   ]
  },
  {
   "cell_type": "code",
   "execution_count": null,
   "id": "5ae68a01",
   "metadata": {},
   "outputs": [],
   "source": [
    "ad_counts_by_region.loc[\"Boston-Manchester Region\"].Clinton"
   ]
  },
  {
   "cell_type": "code",
   "execution_count": null,
   "id": "d656fdd1",
   "metadata": {},
   "outputs": [],
   "source": [
    "ad_counts_by_region.index"
   ]
  },
  {
   "cell_type": "code",
   "execution_count": null,
   "id": "170c7645",
   "metadata": {},
   "outputs": [],
   "source": [
    "ad_counts_by_region.loc[\"Boston-Manchester Region\"]"
   ]
  },
  {
   "cell_type": "code",
   "execution_count": null,
   "id": "45c99137",
   "metadata": {},
   "outputs": [],
   "source": [
    "help(votes_df.groupby)"
   ]
  },
  {
   "cell_type": "code",
   "execution_count": null,
   "id": "c922e7ac",
   "metadata": {},
   "outputs": [],
   "source": [
    "ads_df.groupby(by=['location', 'beneficiary']).size().unstack(level=1)"
   ]
  },
  {
   "cell_type": "code",
   "execution_count": null,
   "id": "383a7059",
   "metadata": {},
   "outputs": [],
   "source": [
    "ads_df.groupby(['location', 'beneficiary']).agg('size').unstack(level=1)"
   ]
  },
  {
   "cell_type": "code",
   "execution_count": null,
   "id": "b1e621c7",
   "metadata": {},
   "outputs": [],
   "source": [
    "ads_df.groupby(['beneficiary']).agg('size')"
   ]
  },
  {
   "cell_type": "code",
   "execution_count": null,
   "id": "7b2c64bf",
   "metadata": {},
   "outputs": [],
   "source": [
    "ads_df.groupby(['location', 'beneficiary', 'day_of_week']).agg('size').unstack(level=2)"
   ]
  },
  {
   "cell_type": "code",
   "execution_count": null,
   "id": "f92db946",
   "metadata": {},
   "outputs": [],
   "source": [
    "help(pd.DataFrame.agg)"
   ]
  },
  {
   "cell_type": "code",
   "execution_count": null,
   "id": "9d2db2f1",
   "metadata": {},
   "outputs": [],
   "source": [
    "ap.groupby_agg(ads_df, ['location', 'beneficiary'], 'size')"
   ]
  },
  {
   "cell_type": "code",
   "execution_count": null,
   "id": "16a99e29",
   "metadata": {},
   "outputs": [],
   "source": [
    "ap.votes_by_region_and_candidate()"
   ]
  },
  {
   "cell_type": "code",
   "execution_count": null,
   "id": "d41cdb66",
   "metadata": {},
   "outputs": [],
   "source": [
    "ap.groupby_agg(votes_df.drop(['year', 'version'], axis=1), ['location', 'candidate'], 'sum')"
   ]
  },
  {
   "cell_type": "code",
   "execution_count": null,
   "id": "b6729d96",
   "metadata": {},
   "outputs": [],
   "source": [
    "ap.groupby_agg(votes_df.drop(['year', 'version'], axis=1), ['location', 'candidate'], 'sum').loc['Denver Region']"
   ]
  },
  {
   "cell_type": "code",
   "execution_count": null,
   "id": "1f1c50dd",
   "metadata": {},
   "outputs": [],
   "source": [
    "df = ap.votes_by_region_and_candidate()\n",
    "df.loc['Denver Region']"
   ]
  },
  {
   "cell_type": "code",
   "execution_count": null,
   "id": "aecc8f25",
   "metadata": {},
   "outputs": [],
   "source": [
    "df.loc['Denver Region'] == ap.groupby_agg(votes_df.drop(['year', 'version'], axis=1), ['location', 'candidate'], 'sum').loc['Denver Region']"
   ]
  },
  {
   "cell_type": "code",
   "execution_count": null,
   "id": "befc4db6",
   "metadata": {},
   "outputs": [],
   "source": [
    "ap.votes_by_region_and_candidate() == ap.groupby_agg(votes_df.drop(['year', 'version'], axis=1), ['location', 'candidate'], 'sum')"
   ]
  },
  {
   "cell_type": "code",
   "execution_count": null,
   "id": "b0a6abde",
   "metadata": {},
   "outputs": [],
   "source": [
    "help(ap.groupby_agg)"
   ]
  },
  {
   "cell_type": "code",
   "execution_count": null,
   "id": "23e52133",
   "metadata": {},
   "outputs": [],
   "source": []
  }
 ],
 "metadata": {
  "kernelspec": {
   "display_name": "Python 3 (ipykernel)",
   "language": "python",
   "name": "python3"
  },
  "language_info": {
   "codemirror_mode": {
    "name": "ipython",
    "version": 3
   },
   "file_extension": ".py",
   "mimetype": "text/x-python",
   "name": "python",
   "nbconvert_exporter": "python",
   "pygments_lexer": "ipython3",
   "version": "3.8.11"
  }
 },
 "nbformat": 4,
 "nbformat_minor": 5
}
