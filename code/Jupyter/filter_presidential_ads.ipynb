{
 "cells": [
  {
   "cell_type": "markdown",
   "id": "f19facfa-34c3-4d88-aa7d-db5b496bd36b",
   "metadata": {},
   "source": [
    "## Load Master Data Sets and Filter Down to Working Data Sets\n",
    "\n",
    "The master data sets can be found at https://drive.google.com/drive/u/2/folders/1Ag39uw9kKCKqlEOUkCxcezAutJI6mWyC\n",
    "\n",
    "This notebook assumes that the datasets it needs are stored locally in the Political_TV_Ad_Archive folder of the\n",
    "project repository.  The master datasets are not present in the github repository for our project."
   ]
  },
  {
   "cell_type": "code",
   "execution_count": 1,
   "id": "708c11dc",
   "metadata": {},
   "outputs": [],
   "source": [
    "# Source datasets are located at https://drive.google.com/drive/u/2/folders/1Ag39uw9kKCKqlEOUkCxcezAutJI6mWyC\n",
    "\n",
    "import pandas as pd\n",
    "\n",
    "ads_direct = \"../../datasets/Political_TV_Ad_Archive/\"\n",
    "\n",
    "# Read start_time and end_time columns as dates, infer format.\n",
    "# Drop rows without a location when we read the source advertising dataset.\n",
    "\n",
    "df = pd.read_csv(ads_direct + \"political_ad_entire_dataset.csv\").dropna(subset=['location'])\n",
    "\n",
    "df_sponsors = pd.read_csv(ads_direct + \"sponsor_correlation.csv\")"
   ]
  },
  {
   "cell_type": "code",
   "execution_count": 2,
   "id": "91202d17-33f4-40f0-bda4-87f89cf93ef1",
   "metadata": {},
   "outputs": [],
   "source": [
    "# Rename a few columns\n",
    "\n",
    "df = df.rename({'location': 'region_id',\n",
    "                'start_time': 'start_utc',\n",
    "                'end_time': 'end_utc',\n",
    "               }, \n",
    "               axis=1\n",
    "              )"
   ]
  },
  {
   "cell_type": "code",
   "execution_count": 3,
   "id": "c0d2e0c0-8c64-4b0b-9a93-6506ca1fffc1",
   "metadata": {},
   "outputs": [],
   "source": [
    "# We shorten and simplify the region_id values.\n",
    "# We limit the dataset to rows with the region_ids of interest.\n",
    "\n",
    "region_ids = [\"boston_region\",\n",
    "              \"cedar_rapids_region\",\n",
    "              \"cleveland_region\",\n",
    "              \"denver_region\",\n",
    "              \"las_vegas_region\",\n",
    "              \"milwaukee_region\",\n",
    "              \"new_york_city_region\",\n",
    "              \"philadelphia_region\",\n",
    "              \"phoenix_region\",\n",
    "              \"raleigh_region\",\n",
    "              \"san_francisco_region\",\n",
    "              \"tampa_region\",\n",
    "              \"washington_dc_region\",\n",
    "              ]\n",
    "\n",
    "df['region_id'] = df['region_id'].str.replace(\n",
    "    \"^Ceder Rapids\", \"Cedar_Rapids\", regex=True)\n",
    "df['region_id'] = df['region_id'].str.replace(\n",
    "    \"^Las Vegas\", \"Las_Vegas\", regex=True)\n",
    "df['region_id'] = df['region_id'].str.replace(\n",
    "    \"^New York City\", \"New_York_City\", regex=True)\n",
    "df['region_id'] = df['region_id'].str.replace(\n",
    "    \"^San Francisco\", \"San_Francisco\", regex=True)\n",
    "df['region_id'] = df['region_id'].str.replace(\n",
    "    \"^Washington, DC\", \"Washington_DC\", regex=True)\n",
    "df['region_id'] = df['region_id'].str.replace(\n",
    "    \"[,/ -].*\", \"_region\", regex=True)\n",
    "df['region_id'] = df['region_id'].str.lower()\n",
    "\n",
    "df = df[df.region_id.isin(region_ids)]"
   ]
  },
  {
   "cell_type": "code",
   "execution_count": 4,
   "id": "57c4d649-6299-4183-b4fb-3af0f284bc79",
   "metadata": {},
   "outputs": [],
   "source": [
    "# We are only looking at the presidential race.\n",
    "df = df[df.race == \"PRES\"]\n",
    "\n",
    "# We are only considering ads that mention Trump or Clinton.\n",
    "df = df[df.candidates.str.contains(\"Trump|Clinton\", case=False, regex=True)]\n",
    "\n",
    "# Eliminate that are redundant or otherwise not relevant to our project.\n",
    "df = df.drop(columns=[\"id\",\n",
    "                      \"wp_identifier\",\n",
    "                      \"race\",\n",
    "                      \"cycle\",\n",
    "                      \"type\",\n",
    "                      \"date_created\"])"
   ]
  },
  {
   "cell_type": "code",
   "execution_count": 5,
   "id": "c2a34ec8-bf81-4d80-923b-9bd6492d65ee",
   "metadata": {},
   "outputs": [
    {
     "data": {
      "text/plain": [
       "network          object\n",
       "region_id        object\n",
       "program          object\n",
       "program_type     object\n",
       "start_utc        object\n",
       "end_utc          object\n",
       "archive_id       object\n",
       "embed_url        object\n",
       "sponsors         object\n",
       "sponsor_types    object\n",
       "subjects         object\n",
       "candidates       object\n",
       "message          object\n",
       "dtype: object"
      ]
     },
     "execution_count": 5,
     "metadata": {},
     "output_type": "execute_result"
    }
   ],
   "source": [
    "df.dtypes"
   ]
  },
  {
   "cell_type": "code",
   "execution_count": 6,
   "id": "e77d4db1-8b16-4214-aeb7-144e5018e635",
   "metadata": {},
   "outputs": [],
   "source": [
    "df['start_utc'] = pd.to_datetime(df['start_utc'])\n",
    "df['end_utc'] = pd.to_datetime(df['end_utc'])"
   ]
  },
  {
   "cell_type": "code",
   "execution_count": 7,
   "id": "942a52f9-8c3b-49ad-89b6-636b57fb8708",
   "metadata": {},
   "outputs": [
    {
     "data": {
      "text/plain": [
       "network                       object\n",
       "region_id                     object\n",
       "program                       object\n",
       "program_type                  object\n",
       "start_utc        datetime64[ns, UTC]\n",
       "end_utc          datetime64[ns, UTC]\n",
       "archive_id                    object\n",
       "embed_url                     object\n",
       "sponsors                      object\n",
       "sponsor_types                 object\n",
       "subjects                      object\n",
       "candidates                    object\n",
       "message                       object\n",
       "dtype: object"
      ]
     },
     "execution_count": 7,
     "metadata": {},
     "output_type": "execute_result"
    }
   ],
   "source": [
    "df.dtypes"
   ]
  },
  {
   "cell_type": "code",
   "execution_count": 8,
   "id": "9971fd2b-23e4-4705-bc75-d6d3f15f03fb",
   "metadata": {},
   "outputs": [
    {
     "data": {
      "text/plain": [
       "(116616, 13)"
      ]
     },
     "execution_count": 8,
     "metadata": {},
     "output_type": "execute_result"
    }
   ],
   "source": [
    "df.shape"
   ]
  },
  {
   "cell_type": "code",
   "execution_count": 9,
   "id": "72e39b9d-4825-4b50-8cf9-f2548164a98c",
   "metadata": {},
   "outputs": [
    {
     "data": {
      "text/plain": [
       "Index(['sponsors', 'beneficiary', 'ads_count', 'reference', 'note'], dtype='object')"
      ]
     },
     "execution_count": 9,
     "metadata": {},
     "output_type": "execute_result"
    }
   ],
   "source": [
    "df_sponsors.columns"
   ]
  },
  {
   "cell_type": "code",
   "execution_count": 10,
   "id": "d971bde2-4d94-4059-95fb-c6400d154f7d",
   "metadata": {},
   "outputs": [
    {
     "data": {
      "text/plain": [
       "Clinton    19\n",
       "Trump      17\n",
       "Other       4\n",
       "Split       1\n",
       "Name: beneficiary, dtype: int64"
      ]
     },
     "execution_count": 10,
     "metadata": {},
     "output_type": "execute_result"
    }
   ],
   "source": [
    "# The df_sponsor_correlation dataframe identifies the assumed beneficiary for\n",
    "# each ad that a given sponsor sponsors.  The values are Trump, Clinton, Other\n",
    "# and Split.  We use that information to identify a beneficiary for each ad and\n",
    "# also to remove ads where we have no basis for identifying which candidate\n",
    "# is the beneficiary.  In other words, we will drop ads where the beneficiary\n",
    "# is not Trump, Clinton or Split.\n",
    "\n",
    "df_sponsors.beneficiary.value_counts()"
   ]
  },
  {
   "cell_type": "code",
   "execution_count": 11,
   "id": "c8a526d3-7e1b-4a7d-820a-1b313024d751",
   "metadata": {},
   "outputs": [],
   "source": [
    "# Remove sponsors where the beneficiary is not Trump, CLinton or Split.\n",
    "# These are the sponsors identified with \"Other\" as the beneficiary.\n",
    "\n",
    "df_sponsors = df_sponsors[df_sponsors.beneficiary != \"Other\"]"
   ]
  },
  {
   "cell_type": "code",
   "execution_count": 12,
   "id": "f61cef54-3475-41a4-92a5-9cfe9ee46d66",
   "metadata": {},
   "outputs": [
    {
     "data": {
      "text/plain": [
       "Clinton    19\n",
       "Trump      17\n",
       "Split       1\n",
       "Name: beneficiary, dtype: int64"
      ]
     },
     "execution_count": 12,
     "metadata": {},
     "output_type": "execute_result"
    }
   ],
   "source": [
    "df_sponsors.beneficiary.value_counts()"
   ]
  },
  {
   "cell_type": "code",
   "execution_count": 13,
   "id": "51283889-9643-4159-a627-b0a2a6b8cf3f",
   "metadata": {},
   "outputs": [],
   "source": [
    "# An inner merge on the sponsors column will allow us to add a beneficiary for\n",
    "# each ad where we believe we can identify an intended beneficiary and also,\n",
    "# as a side effect, will remove ads where we are unable to associate a\n",
    "# beneficiary\n",
    "\n",
    "df = pd.merge(df, df_sponsors[['sponsors', 'beneficiary']],\n",
    "              on='sponsors',\n",
    "              how='inner')"
   ]
  },
  {
   "cell_type": "code",
   "execution_count": 14,
   "id": "a2c69333-c4ed-4ed8-b117-7356e77e139a",
   "metadata": {},
   "outputs": [
    {
     "data": {
      "text/plain": [
       "Clinton    70796\n",
       "Trump      36021\n",
       "Split        511\n",
       "Name: beneficiary, dtype: int64"
      ]
     },
     "execution_count": 14,
     "metadata": {},
     "output_type": "execute_result"
    }
   ],
   "source": [
    "df.beneficiary.value_counts()"
   ]
  },
  {
   "cell_type": "code",
   "execution_count": 15,
   "id": "793b4f2d",
   "metadata": {},
   "outputs": [
    {
     "data": {
      "text/plain": [
       "Clinton    71119\n",
       "Trump      36209\n",
       "Name: beneficiary, dtype: int64"
      ]
     },
     "execution_count": 15,
     "metadata": {},
     "output_type": "execute_result"
    }
   ],
   "source": [
    "# Internet Archive is the only sponsor where one group of ads benefits Clinton\n",
    "# and the other Trump.\n",
    "\n",
    "# id PolAd_DonaldTrump_z40lb benefits Clinton\n",
    "\n",
    "df.loc[df.archive_id == \"PolAd_DonaldTrump_z40lb\", \"beneficiary\"] = \"Clinton\"\n",
    "\n",
    "# id PolAd_DonaldTrump_HillaryClinton_xz04u benefits Trump\n",
    "\n",
    "df.loc[df.archive_id == \"PolAd_DonaldTrump_HillaryClinton_xz04u\",\n",
    "       \"beneficiary\"] = \"Trump\"\n",
    "\n",
    "df.beneficiary.value_counts()"
   ]
  },
  {
   "cell_type": "code",
   "execution_count": 16,
   "id": "6dc3b714",
   "metadata": {},
   "outputs": [
    {
     "data": {
      "text/plain": [
       "philadelphia_region     13710\n",
       "las_vegas_region        13550\n",
       "tampa_region            12982\n",
       "cleveland_region        12149\n",
       "san_francisco_region    11285\n",
       "cedar_rapids_region     10331\n",
       "boston_region           10276\n",
       "raleigh_region           7310\n",
       "denver_region            5581\n",
       "milwaukee_region         4098\n",
       "phoenix_region           3242\n",
       "washington_dc_region     1819\n",
       "new_york_city_region      995\n",
       "Name: region_id, dtype: int64"
      ]
     },
     "execution_count": 16,
     "metadata": {},
     "output_type": "execute_result"
    }
   ],
   "source": [
    "df.region_id.value_counts()"
   ]
  },
  {
   "cell_type": "code",
   "execution_count": 17,
   "id": "e2791e7a-ccc3-4acc-8cf9-8e86f01e4aa0",
   "metadata": {},
   "outputs": [],
   "source": [
    "# Cluster regions into time zones.\n",
    "\n",
    "eastern_tz_regions = [\"boston_region\",\n",
    "                      \"cleveland_region\",\n",
    "                      \"new_york_city_region\",\n",
    "                      \"philadelphia_region\",\n",
    "                      \"raleigh_region\",\n",
    "                      \"tampa_region\",\n",
    "                      \"washington_dc_region\",\n",
    "                      ]\n",
    "\n",
    "central_tz_regions = [\"cedar_rapids_region\",\n",
    "                      \"milwaukee_region\",\n",
    "                      ]\n",
    "\n",
    "mountain_tz_regions = [\"denver_region\",\n",
    "                       \"phoenix_region\"\n",
    "                       ]\n",
    "\n",
    "pacific_tz_regions = [\"las_vegas_region\",\n",
    "                      \"san_francisco_region\"\n",
    "                      ]\n",
    "\n",
    "# Create time zone boolean arrays.\n",
    "\n",
    "e = df['region_id'].isin(eastern_tz_regions)\n",
    "c = df['region_id'].isin(central_tz_regions)\n",
    "m = df['region_id'].isin(mountain_tz_regions)\n",
    "p = df['region_id'].isin(pacific_tz_regions)"
   ]
  },
  {
   "cell_type": "code",
   "execution_count": 19,
   "id": "c43e93a2-9854-45b7-ba7e-3fdfb13d24b3",
   "metadata": {},
   "outputs": [],
   "source": [
    "# UTC start_time and end_time values to time zone aware objects.\n",
    "# Then strip the time zone information from the resulting objects\n",
    "# using apply and tz.localize(None).  The normal Pandas methods\n",
    "# do not work when the column has datetime objects from more than one\n",
    "# time zone.\n",
    "\n",
    "df.loc[e, 'start_time'] = df.loc[e, 'start_utc'].dt.tz_convert('US/Eastern')\n",
    "df.loc[c, 'start_time'] = df.loc[c, 'start_utc'].dt.tz_convert('US/Central')\n",
    "df.loc[m, 'start_time'] = df.loc[m, 'start_utc'].dt.tz_convert('US/Mountain')\n",
    "df.loc[p, 'start_time'] = df.loc[p, 'start_utc'].dt.tz_convert('US/Pacific')\n",
    "\n",
    "df.loc[e, 'end_time'] = df.loc[e, 'end_utc'].dt.tz_convert('US/Eastern')\n",
    "df.loc[c, 'end_time'] = df.loc[c, 'end_utc'].dt.tz_convert('US/Central')\n",
    "df.loc[m, 'end_time'] = df.loc[m, 'end_utc'].dt.tz_convert('US/Mountain')\n",
    "df.loc[p, 'end_time'] = df.loc[p, 'end_utc'].dt.tz_convert('US/Pacific')\n",
    "\n",
    "df['start_time'] = df.apply(lambda row: row['start_time'].tz_localize(None), axis=1)\n",
    "df['end_time'] = df.apply(lambda row: row['end_time'].tz_localize(None), axis=1)"
   ]
  },
  {
   "cell_type": "code",
   "execution_count": 20,
   "id": "8176a886-9697-4eb3-ac81-339534461825",
   "metadata": {},
   "outputs": [
    {
     "name": "stdout",
     "output_type": "stream",
     "text": [
      "           start_time                 start_utc       region_id\n",
      "1 2016-09-06 17:58:25 2016-09-06 21:58:25+00:00  raleigh_region\n",
      "3 2016-08-30 13:59:20 2016-08-30 17:59:20+00:00    tampa_region\n",
      "5 2016-08-30 15:55:14 2016-08-30 19:55:14+00:00    tampa_region\n",
      "6 2016-08-30 09:22:30 2016-08-30 13:22:30+00:00    tampa_region\n",
      "7 2016-09-06 20:45:00 2016-09-07 00:45:00+00:00  raleigh_region\n",
      "            start_time                 start_utc            region_id\n",
      "26 2016-09-08 09:39:00 2016-09-08 14:39:00+00:00  cedar_rapids_region\n",
      "30 2016-09-05 12:32:00 2016-09-05 17:32:00+00:00  cedar_rapids_region\n",
      "36 2016-09-05 23:50:59 2016-09-06 04:50:59+00:00  cedar_rapids_region\n",
      "38 2016-09-06 17:46:32 2016-09-06 22:46:32+00:00  cedar_rapids_region\n",
      "39 2016-09-07 15:33:59 2016-09-07 20:33:59+00:00  cedar_rapids_region\n",
      "              start_time                 start_utc       region_id\n",
      "1911 2016-09-08 09:04:30 2016-09-08 15:04:30+00:00  phoenix_region\n",
      "1919 2016-09-08 08:04:29 2016-09-08 14:04:29+00:00   denver_region\n",
      "2649 2016-09-10 21:44:15 2016-09-11 03:44:15+00:00  phoenix_region\n",
      "2658 2016-09-10 21:44:13 2016-09-11 03:44:13+00:00   denver_region\n",
      "4911 2016-08-22 16:30:49 2016-08-22 22:30:49+00:00   denver_region\n",
      "            start_time                 start_utc         region_id\n",
      "0  2016-09-08 17:12:59 2016-09-09 00:12:59+00:00  las_vegas_region\n",
      "2  2016-09-04 09:24:25 2016-09-04 16:24:25+00:00  las_vegas_region\n",
      "4  2016-09-06 00:02:22 2016-09-06 07:02:22+00:00  las_vegas_region\n",
      "21 2016-09-05 04:16:35 2016-09-05 11:16:35+00:00  las_vegas_region\n",
      "24 2016-09-09 12:42:57 2016-09-09 19:42:57+00:00  las_vegas_region\n",
      "             end_time                   end_utc       region_id\n",
      "1 2016-09-06 17:58:55 2016-09-06 21:58:55+00:00  raleigh_region\n",
      "3 2016-08-30 13:59:50 2016-08-30 17:59:50+00:00    tampa_region\n",
      "5 2016-08-30 15:55:44 2016-08-30 19:55:44+00:00    tampa_region\n",
      "6 2016-08-30 09:23:00 2016-08-30 13:23:00+00:00    tampa_region\n",
      "7 2016-09-06 20:45:30 2016-09-07 00:45:30+00:00  raleigh_region\n",
      "              end_time                   end_utc            region_id\n",
      "26 2016-09-08 09:39:30 2016-09-08 14:39:30+00:00  cedar_rapids_region\n",
      "30 2016-09-05 12:32:30 2016-09-05 17:32:30+00:00  cedar_rapids_region\n",
      "36 2016-09-05 23:51:29 2016-09-06 04:51:29+00:00  cedar_rapids_region\n",
      "38 2016-09-06 17:47:02 2016-09-06 22:47:02+00:00  cedar_rapids_region\n",
      "39 2016-09-07 15:34:29 2016-09-07 20:34:29+00:00  cedar_rapids_region\n",
      "                end_time                   end_utc       region_id\n",
      "1911 2016-09-08 09:05:27 2016-09-08 15:05:27+00:00  phoenix_region\n",
      "1919 2016-09-08 08:05:26 2016-09-08 14:05:26+00:00   denver_region\n",
      "2649 2016-09-10 21:44:45 2016-09-11 03:44:45+00:00  phoenix_region\n",
      "2658 2016-09-10 21:44:43 2016-09-11 03:44:43+00:00   denver_region\n",
      "4911 2016-08-22 16:31:19 2016-08-22 22:31:19+00:00   denver_region\n",
      "              end_time                   end_utc         region_id\n",
      "0  2016-09-08 17:13:29 2016-09-09 00:13:29+00:00  las_vegas_region\n",
      "2  2016-09-04 09:24:55 2016-09-04 16:24:55+00:00  las_vegas_region\n",
      "4  2016-09-06 00:02:52 2016-09-06 07:02:52+00:00  las_vegas_region\n",
      "21 2016-09-05 04:17:05 2016-09-05 11:17:05+00:00  las_vegas_region\n",
      "24 2016-09-09 12:43:27 2016-09-09 19:43:27+00:00  las_vegas_region\n"
     ]
    }
   ],
   "source": [
    "print(df.loc[e, ['start_time', 'start_utc', 'region_id']].head())\n",
    "print(df.loc[c, ['start_time', 'start_utc', 'region_id']].head())\n",
    "print(df.loc[m, ['start_time', 'start_utc', 'region_id']].head())\n",
    "print(df.loc[p, ['start_time', 'start_utc', 'region_id']].head())\n",
    "print(df.loc[e, ['end_time', 'end_utc', 'region_id']].head())\n",
    "print(df.loc[c, ['end_time', 'end_utc', 'region_id']].head())\n",
    "print(df.loc[m, ['end_time', 'end_utc', 'region_id']].head())\n",
    "print(df.loc[p, ['end_time', 'end_utc', 'region_id']].head())"
   ]
  },
  {
   "cell_type": "code",
   "execution_count": 21,
   "id": "02b16dda-eaea-4ad1-91a3-a1379a91dc65",
   "metadata": {},
   "outputs": [
    {
     "data": {
      "text/plain": [
       "network                       object\n",
       "region_id                     object\n",
       "program                       object\n",
       "program_type                  object\n",
       "start_utc        datetime64[ns, UTC]\n",
       "end_utc          datetime64[ns, UTC]\n",
       "archive_id                    object\n",
       "embed_url                     object\n",
       "sponsors                      object\n",
       "sponsor_types                 object\n",
       "subjects                      object\n",
       "candidates                    object\n",
       "message                       object\n",
       "beneficiary                   object\n",
       "start_time            datetime64[ns]\n",
       "end_time              datetime64[ns]\n",
       "dtype: object"
      ]
     },
     "execution_count": 21,
     "metadata": {},
     "output_type": "execute_result"
    }
   ],
   "source": [
    "df.dtypes"
   ]
  },
  {
   "cell_type": "code",
   "execution_count": 24,
   "id": "e923b316-c3d6-436f-ab75-227206031653",
   "metadata": {},
   "outputs": [
    {
     "name": "stdout",
     "output_type": "stream",
     "text": [
      "Earliest: 2015-10-05 06:10:49\n",
      "Latest: 2016-11-29 12:44:37\n"
     ]
    }
   ],
   "source": [
    "print(f\"Earliest: {df.start_time.min()}\")\n",
    "print(f\"Latest: {df.start_time.max()}\")"
   ]
  },
  {
   "cell_type": "code",
   "execution_count": 26,
   "id": "ac23bb1d",
   "metadata": {},
   "outputs": [
    {
     "name": "stdout",
     "output_type": "stream",
     "text": [
      "Earliest: 2016-06-01 08:30:06\n",
      "Latest: 2016-11-07 23:59:56\n"
     ]
    }
   ],
   "source": [
    "# Filter the dataframe to ads that ran on or after June 1, 2016 but before\n",
    "# Novmber 9, 2016.  Election day was November 8, 2016.\n",
    "\n",
    "df = df[(df.start_time >= \"2016-06-01\") & (df.start_time <= \"2016-11-08\")]\n",
    "print(f\"Earliest: {df.start_time.min()}\")\n",
    "print(f\"Latest: {df.start_time.max()}\")"
   ]
  },
  {
   "cell_type": "code",
   "execution_count": 27,
   "id": "793b4be2",
   "metadata": {},
   "outputs": [],
   "source": [
    "# Create date, day_of_week, air_time and duration fields.\n",
    "\n",
    "df[\"date\"] = df[\"start_time\"].dt.date\n",
    "df[\"day_of_week\"] = df[\"start_time\"].dt.day_name()\n",
    "df[\"air_time\"] = df[\"start_time\"].dt.time\n",
    "df[\"duration\"] = df[\"end_time\"] - df[\"start_time\"]"
   ]
  },
  {
   "cell_type": "code",
   "execution_count": 28,
   "id": "9a0aec25-2060-4991-bb7a-9e8513e6a44e",
   "metadata": {},
   "outputs": [
    {
     "data": {
      "text/plain": [
       "Index(['network', 'region_id', 'program', 'program_type', 'start_utc',\n",
       "       'end_utc', 'archive_id', 'embed_url', 'sponsors', 'sponsor_types',\n",
       "       'subjects', 'candidates', 'message', 'beneficiary', 'start_time',\n",
       "       'end_time', 'date', 'day_of_week', 'air_time', 'duration'],\n",
       "      dtype='object')"
      ]
     },
     "execution_count": 28,
     "metadata": {},
     "output_type": "execute_result"
    }
   ],
   "source": [
    "df.columns"
   ]
  },
  {
   "cell_type": "code",
   "execution_count": 29,
   "id": "1cee25a4",
   "metadata": {},
   "outputs": [
    {
     "data": {
      "text/plain": [
       "network                       object\n",
       "region_id                     object\n",
       "program                       object\n",
       "program_type                  object\n",
       "start_utc        datetime64[ns, UTC]\n",
       "end_utc          datetime64[ns, UTC]\n",
       "archive_id                    object\n",
       "embed_url                     object\n",
       "sponsors                      object\n",
       "sponsor_types                 object\n",
       "subjects                      object\n",
       "candidates                    object\n",
       "message                       object\n",
       "beneficiary                   object\n",
       "start_time            datetime64[ns]\n",
       "end_time              datetime64[ns]\n",
       "date                          object\n",
       "day_of_week                   object\n",
       "air_time                      object\n",
       "duration             timedelta64[ns]\n",
       "dtype: object"
      ]
     },
     "execution_count": 29,
     "metadata": {},
     "output_type": "execute_result"
    }
   ],
   "source": [
    "df.dtypes"
   ]
  },
  {
   "cell_type": "code",
   "execution_count": 30,
   "id": "b7fb00ec",
   "metadata": {},
   "outputs": [
    {
     "data": {
      "text/plain": [
       "(85133, 20)"
      ]
     },
     "execution_count": 30,
     "metadata": {},
     "output_type": "execute_result"
    }
   ],
   "source": [
    "df.shape"
   ]
  },
  {
   "cell_type": "code",
   "execution_count": 31,
   "id": "6ed128e3",
   "metadata": {},
   "outputs": [],
   "source": [
    "df.to_csv(\n",
    "    ads_direct + \"political_ad_pres_airing_from_june.gz\",\n",
    "    compression=\"gzip\",\n",
    "    index=False,\n",
    ")"
   ]
  }
 ],
 "metadata": {
  "kernelspec": {
   "display_name": "Python 3 (ipykernel)",
   "language": "python",
   "name": "python3"
  },
  "language_info": {
   "codemirror_mode": {
    "name": "ipython",
    "version": 3
   },
   "file_extension": ".py",
   "mimetype": "text/x-python",
   "name": "python",
   "nbconvert_exporter": "python",
   "pygments_lexer": "ipython3",
   "version": "3.8.12"
  }
 },
 "nbformat": 4,
 "nbformat_minor": 5
}
