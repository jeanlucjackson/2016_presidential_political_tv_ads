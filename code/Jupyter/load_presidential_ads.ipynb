{
 "cells": [
  {
   "cell_type": "markdown",
   "id": "0d557503",
   "metadata": {},
   "source": [
    "## Load Filtered Presidential Ad Datasets into Pandas Dataframes"
   ]
  },
  {
   "cell_type": "code",
   "execution_count": 1,
   "id": "708c11dc",
   "metadata": {},
   "outputs": [],
   "source": [
    "from awesome_puppies import ads_df as df\n",
    "from awesome_puppies import ad_counts_by_region_and_beneficiary\n",
    "from awesome_puppies import regions, region_string\n",
    "\n",
    "# The following code block can be used if the awesome_puppies module\n",
    "# does not work for you.\n",
    "\n",
    "# import pandas as pd\n",
    "#\n",
    "# ads_direct = \"../../datasets/Political_TV_Ad_Archive/\"\n",
    "#\n",
    "# df = pd.read_csv(\n",
    "#    ads_direct + \"political_ad_pres_airing_from_july.gz\",\n",
    "#    compression=\"gzip\",\n",
    "#    parse_dates=[\"start_time\", \"end_time\", \"date_created\"],\n",
    "# )\n",
    "# df.duration = df.end_time - df.start_time\n",
    "\n",
    "# Here is how you can read the alternate working data sets if they are of\n",
    "# interest.  The balance of this notebook assumes that you are working from the\n",
    "# airing_from_july dataset.\n",
    "\n",
    "# df = pd.read_csv(ads_direct + \"political_ad_pres_airing.gz\", compression='gzip')\n",
    "# df = pd.read_csv(ads_direct + \"political_ad_pres_unique.gz\", compression='gzip')"
   ]
  },
  {
   "cell_type": "code",
   "execution_count": 2,
   "id": "1f71a4e5",
   "metadata": {},
   "outputs": [
    {
     "data": {
      "text/plain": [
       "(86302, 19)"
      ]
     },
     "execution_count": 2,
     "metadata": {},
     "output_type": "execute_result"
    }
   ],
   "source": [
    "df.shape"
   ]
  },
  {
   "cell_type": "code",
   "execution_count": 3,
   "id": "3228d9d3-fd78-4667-82c1-0738e850f26d",
   "metadata": {},
   "outputs": [
    {
     "data": {
      "text/plain": [
       "Index(['network', 'region_id', 'program', 'program_type', 'start_time',\n",
       "       'end_time', 'archive_id', 'embed_url', 'sponsors', 'sponsor_types',\n",
       "       'subjects', 'candidates', 'message', 'date_created', 'beneficiary',\n",
       "       'date', 'day_of_week', 'air_time', 'duration'],\n",
       "      dtype='object')"
      ]
     },
     "execution_count": 3,
     "metadata": {},
     "output_type": "execute_result"
    }
   ],
   "source": [
    "df.columns"
   ]
  },
  {
   "cell_type": "code",
   "execution_count": 4,
   "id": "6aeaa511",
   "metadata": {},
   "outputs": [
    {
     "data": {
      "text/plain": [
       "network                       object\n",
       "region_id                     object\n",
       "program                       object\n",
       "program_type                  object\n",
       "start_time       datetime64[ns, UTC]\n",
       "end_time         datetime64[ns, UTC]\n",
       "archive_id                    object\n",
       "embed_url                     object\n",
       "sponsors                      object\n",
       "sponsor_types                 object\n",
       "subjects                      object\n",
       "candidates                    object\n",
       "message                       object\n",
       "date_created          datetime64[ns]\n",
       "beneficiary                   object\n",
       "date                          object\n",
       "day_of_week                   object\n",
       "air_time                      object\n",
       "duration             timedelta64[ns]\n",
       "dtype: object"
      ]
     },
     "execution_count": 4,
     "metadata": {},
     "output_type": "execute_result"
    }
   ],
   "source": [
    "df.dtypes"
   ]
  },
  {
   "cell_type": "code",
   "execution_count": 5,
   "id": "3d0e8815",
   "metadata": {},
   "outputs": [
    {
     "data": {
      "text/plain": [
       "WFTS    3939\n",
       "WTVT    3720\n",
       "WCAU    3434\n",
       "WJW     3221\n",
       "KYW     3200\n",
       "        ... \n",
       "KTSF       9\n",
       "WABC       8\n",
       "WNYW       4\n",
       "WCBS       2\n",
       "KCNS       1\n",
       "Name: network, Length: 77, dtype: int64"
      ]
     },
     "execution_count": 5,
     "metadata": {},
     "output_type": "execute_result"
    }
   ],
   "source": [
    "df.network.value_counts()"
   ]
  },
  {
   "cell_type": "code",
   "execution_count": 6,
   "id": "242ec398",
   "metadata": {},
   "outputs": [
    {
     "data": {
      "text/plain": [
       "philadelphia_region     12428\n",
       "tampa_region            12282\n",
       "las_vegas_region        10918\n",
       "cleveland_region        10341\n",
       "san_francisco_region     9499\n",
       "raleigh_region           6729\n",
       "cedar_rapids_region      5248\n",
       "boston_region            5010\n",
       "denver_region            4707\n",
       "milwaukee_region         4094\n",
       "phoenix_region           3239\n",
       "washington_dc_region     1759\n",
       "new_york_city_region       48\n",
       "Name: region_id, dtype: int64"
      ]
     },
     "execution_count": 6,
     "metadata": {},
     "output_type": "execute_result"
    }
   ],
   "source": [
    "df.region_id.value_counts()"
   ]
  },
  {
   "cell_type": "code",
   "execution_count": 7,
   "id": "9da58cd2",
   "metadata": {},
   "outputs": [
    {
     "data": {
      "text/plain": [
       "Today                           2706\n",
       "CBS This Morning                1713\n",
       "Good Morning America            1533\n",
       "Judge Judy                      1306\n",
       "FOX5 News This Morning           848\n",
       "                                ... \n",
       "Jeff Dunham Controlled Chaos       1\n",
       "NCWTS Pre- Race                    1\n",
       "Eastern Iowa O.T.                  1\n",
       "F1 Extra                           1\n",
       "Saturday News at 10pm              1\n",
       "Name: program, Length: 1650, dtype: int64"
      ]
     },
     "execution_count": 7,
     "metadata": {},
     "output_type": "execute_result"
    }
   ],
   "source": [
    "df.program.value_counts()"
   ]
  },
  {
   "cell_type": "code",
   "execution_count": 8,
   "id": "37af5d4c",
   "metadata": {},
   "outputs": [
    {
     "data": {
      "text/plain": [
       "news        56183\n",
       "not news    30119\n",
       "Name: program_type, dtype: int64"
      ]
     },
     "execution_count": 8,
     "metadata": {},
     "output_type": "execute_result"
    }
   ],
   "source": [
    "df.program_type.value_counts()"
   ]
  },
  {
   "cell_type": "code",
   "execution_count": 9,
   "id": "0da8f1b8",
   "metadata": {},
   "outputs": [
    {
     "data": {
      "text/plain": [
       "Hillary for America                       38440\n",
       "Donald J Trump For President              22617\n",
       "Priorities USA Action                     11263\n",
       "Rebuilding America Now                     2962\n",
       "NextGen California Action Committee        2482\n",
       "Women Vote!                                1102\n",
       "Future45                                    960\n",
       "Reform America Fund                         833\n",
       "NRA Institute for Legislative Action        791\n",
       "45 Committee                                766\n",
       "National Rifle Assn                         669\n",
       "Donald J. Trump For President               526\n",
       "Internet Archive                            511\n",
       "Stop Hillary PAC                            507\n",
       "Great America PAC                           487\n",
       "MoveOn.org                                  430\n",
       "Democratic National Cmte                    207\n",
       "Correct The Record                          141\n",
       "Reclaim America PAC                         110\n",
       "Republican National Cmte                     98\n",
       "American Bridge 21st Century                 97\n",
       "iAmerica Action                              58\n",
       "Ready for Hillary                            55\n",
       "America Rising PAC                           44\n",
       "Hillary Victory Fund                         29\n",
       "NextGen Climate Action                       23\n",
       "Democratic Senatorial Campaign Cmte          20\n",
       "Make America Number One                      20\n",
       "Democratic Congressional Campaign Cmte       20\n",
       "Our Principles PAC                            7\n",
       "Fifty Second Street Fund                      7\n",
       "Club for Growth Action                        6\n",
       "American Crossroads                           5\n",
       "Victory 2016 Committee                        5\n",
       "Local Voices                                  3\n",
       "Fenton Communications Inc                     1\n",
       "Name: sponsors, dtype: int64"
      ]
     },
     "execution_count": 9,
     "metadata": {},
     "output_type": "execute_result"
    }
   ],
   "source": [
    "df.sponsors.value_counts()"
   ]
  },
  {
   "cell_type": "code",
   "execution_count": 10,
   "id": "e5a53483",
   "metadata": {},
   "outputs": [
    {
     "data": {
      "text/plain": [
       "Multiple                       38463\n",
       "Candidate Committee            22617\n",
       "Super PAC                      19796\n",
       "Non Profit                      1615\n",
       "Hybrid Super PAC                1565\n",
       "PAC                             1124\n",
       "Unknown                         1092\n",
       "Joint Fundraising Committee       29\n",
       "Corporation                        1\n",
       "Name: sponsor_types, dtype: int64"
      ]
     },
     "execution_count": 10,
     "metadata": {},
     "output_type": "execute_result"
    }
   ],
   "source": [
    "df.sponsor_types.value_counts()"
   ]
  },
  {
   "cell_type": "code",
   "execution_count": 11,
   "id": "d163d7ae",
   "metadata": {},
   "outputs": [
    {
     "data": {
      "text/plain": [
       "Women, Candidate Biography, Children                     4184\n",
       "Candidate Biography, Children                            4015\n",
       "Taxes, Candidate Biography, Terrorism, Jobs              3902\n",
       "Candidate Biography                                      3619\n",
       "Economy, Jobs, Federal Budget, Taxes, Families           3216\n",
       "                                                         ... \n",
       "Candidate Biography, Civil Rights, Immigration, Islam       1\n",
       "Immigration, Candidate Biography                            1\n",
       "Economy, Corporations, Taxes, Regulation                    1\n",
       "Candidate Biography, Military, Foreign Policy               1\n",
       "Terrorism, Military, Veterans                               1\n",
       "Name: subjects, Length: 217, dtype: int64"
      ]
     },
     "execution_count": 11,
     "metadata": {},
     "output_type": "execute_result"
    }
   ],
   "source": [
    "df.subjects.value_counts()"
   ]
  },
  {
   "cell_type": "code",
   "execution_count": 12,
   "id": "611e1006",
   "metadata": {},
   "outputs": [
    {
     "data": {
      "text/plain": [
       "Donald Trump                                                                                               42511\n",
       "Hillary Clinton                                                                                            22828\n",
       "Donald Trump, Hillary Clinton                                                                              20934\n",
       "Donald Trump, John McCain, Kelly Ayotte, Marco Rubio, Richard Burr, Rob Portman, Ron Johnson, Roy Blunt       20\n",
       "Bernie Sanders, Donald Trump, Hillary Clinton                                                                  6\n",
       "Hillary Clinton, Tim Kaine                                                                                     3\n",
       "Name: candidates, dtype: int64"
      ]
     },
     "execution_count": 12,
     "metadata": {},
     "output_type": "execute_result"
    }
   ],
   "source": [
    "df.candidates.value_counts()"
   ]
  },
  {
   "cell_type": "code",
   "execution_count": 13,
   "id": "197edb59",
   "metadata": {},
   "outputs": [
    {
     "data": {
      "text/plain": [
       "con        48247\n",
       "mixed      21238\n",
       "pro        14914\n",
       "unknown     1903\n",
       "Name: message, dtype: int64"
      ]
     },
     "execution_count": 13,
     "metadata": {},
     "output_type": "execute_result"
    }
   ],
   "source": [
    "df.message.value_counts()"
   ]
  },
  {
   "cell_type": "code",
   "execution_count": 14,
   "id": "899812d4",
   "metadata": {},
   "outputs": [
    {
     "data": {
      "text/plain": [
       "Tuesday      15708\n",
       "Thursday     14243\n",
       "Wednesday    14235\n",
       "Friday       14096\n",
       "Monday       13300\n",
       "Saturday      7657\n",
       "Sunday        7063\n",
       "Name: day_of_week, dtype: int64"
      ]
     },
     "execution_count": 14,
     "metadata": {},
     "output_type": "execute_result"
    }
   ],
   "source": [
    "df.day_of_week.value_counts()"
   ]
  },
  {
   "cell_type": "code",
   "execution_count": 15,
   "id": "d2c56557",
   "metadata": {},
   "outputs": [
    {
     "data": {
      "text/plain": [
       "0 days 00:00:30    66103\n",
       "0 days 00:01:00     6111\n",
       "0 days 00:00:29     4890\n",
       "0 days 00:00:32     2945\n",
       "0 days 00:00:31     2407\n",
       "                   ...  \n",
       "0 days 00:00:50        1\n",
       "0 days 00:01:30        1\n",
       "0 days 00:00:38        1\n",
       "0 days 00:01:20        1\n",
       "0 days 00:01:19        1\n",
       "Name: duration, Length: 66, dtype: int64"
      ]
     },
     "execution_count": 15,
     "metadata": {},
     "output_type": "execute_result"
    }
   ],
   "source": [
    "df.duration.value_counts()"
   ]
  },
  {
   "cell_type": "code",
   "execution_count": 16,
   "id": "2ec7d569-2138-494b-8678-28c8b07165ad",
   "metadata": {},
   "outputs": [
    {
     "data": {
      "text/plain": [
       "Clinton    54617\n",
       "Trump      31685\n",
       "Name: beneficiary, dtype: int64"
      ]
     },
     "execution_count": 16,
     "metadata": {},
     "output_type": "execute_result"
    }
   ],
   "source": [
    "df.beneficiary.value_counts()"
   ]
  },
  {
   "cell_type": "code",
   "execution_count": 17,
   "id": "f127db37-6edb-4abf-9618-d0340d2ab53f",
   "metadata": {},
   "outputs": [
    {
     "data": {
      "text/plain": [
       "['boston_region',\n",
       " 'cedar_rapids_region',\n",
       " 'cleveland_region',\n",
       " 'denver_region',\n",
       " 'las_vegas_region',\n",
       " 'milwaukee_region',\n",
       " 'new_york_city_region',\n",
       " 'philadelphia_region',\n",
       " 'phoenix_region',\n",
       " 'raleigh_region',\n",
       " 'san_francisco_region',\n",
       " 'tampa_region',\n",
       " 'washington_dc_region']"
      ]
     },
     "execution_count": 17,
     "metadata": {},
     "output_type": "execute_result"
    }
   ],
   "source": [
    "regions()"
   ]
  },
  {
   "cell_type": "code",
   "execution_count": 18,
   "id": "efea8a44-8663-42b6-8d8f-29a9873b823a",
   "metadata": {},
   "outputs": [
    {
     "name": "stdout",
     "output_type": "stream",
     "text": [
      "Boston Region\n",
      "Cedar Rapids Region\n",
      "Cleveland Region\n",
      "Denver Region\n",
      "Las Vegas Region\n",
      "Milwaukee Region\n",
      "New York City Region\n",
      "Philadelphia Region\n",
      "Phoenix Region\n",
      "Raleigh Region\n",
      "San Francisco Region\n",
      "Tampa Region\n",
      "Washington DC Region\n"
     ]
    }
   ],
   "source": [
    "for region in regions():\n",
    "    print (region_string(region))"
   ]
  },
  {
   "cell_type": "code",
   "execution_count": 19,
   "id": "d5e9f216-b489-4849-bf48-46138419d981",
   "metadata": {},
   "outputs": [
    {
     "data": {
      "text/html": [
       "<div>\n",
       "<style scoped>\n",
       "    .dataframe tbody tr th:only-of-type {\n",
       "        vertical-align: middle;\n",
       "    }\n",
       "\n",
       "    .dataframe tbody tr th {\n",
       "        vertical-align: top;\n",
       "    }\n",
       "\n",
       "    .dataframe thead th {\n",
       "        text-align: right;\n",
       "    }\n",
       "</style>\n",
       "<table border=\"1\" class=\"dataframe\">\n",
       "  <thead>\n",
       "    <tr style=\"text-align: right;\">\n",
       "      <th>beneficiary</th>\n",
       "      <th>Clinton</th>\n",
       "      <th>Trump</th>\n",
       "    </tr>\n",
       "    <tr>\n",
       "      <th>region_id</th>\n",
       "      <th></th>\n",
       "      <th></th>\n",
       "    </tr>\n",
       "  </thead>\n",
       "  <tbody>\n",
       "    <tr>\n",
       "      <th>boston_region</th>\n",
       "      <td>2770</td>\n",
       "      <td>2240</td>\n",
       "    </tr>\n",
       "    <tr>\n",
       "      <th>cedar_rapids_region</th>\n",
       "      <td>3820</td>\n",
       "      <td>1428</td>\n",
       "    </tr>\n",
       "    <tr>\n",
       "      <th>cleveland_region</th>\n",
       "      <td>6551</td>\n",
       "      <td>3790</td>\n",
       "    </tr>\n",
       "    <tr>\n",
       "      <th>denver_region</th>\n",
       "      <td>1633</td>\n",
       "      <td>3074</td>\n",
       "    </tr>\n",
       "    <tr>\n",
       "      <th>las_vegas_region</th>\n",
       "      <td>7906</td>\n",
       "      <td>3012</td>\n",
       "    </tr>\n",
       "    <tr>\n",
       "      <th>milwaukee_region</th>\n",
       "      <td>1288</td>\n",
       "      <td>2806</td>\n",
       "    </tr>\n",
       "    <tr>\n",
       "      <th>new_york_city_region</th>\n",
       "      <td>42</td>\n",
       "      <td>6</td>\n",
       "    </tr>\n",
       "    <tr>\n",
       "      <th>philadelphia_region</th>\n",
       "      <td>8263</td>\n",
       "      <td>4165</td>\n",
       "    </tr>\n",
       "    <tr>\n",
       "      <th>phoenix_region</th>\n",
       "      <td>2757</td>\n",
       "      <td>482</td>\n",
       "    </tr>\n",
       "    <tr>\n",
       "      <th>raleigh_region</th>\n",
       "      <td>4926</td>\n",
       "      <td>1803</td>\n",
       "    </tr>\n",
       "    <tr>\n",
       "      <th>san_francisco_region</th>\n",
       "      <td>6081</td>\n",
       "      <td>3418</td>\n",
       "    </tr>\n",
       "    <tr>\n",
       "      <th>tampa_region</th>\n",
       "      <td>8019</td>\n",
       "      <td>4263</td>\n",
       "    </tr>\n",
       "    <tr>\n",
       "      <th>washington_dc_region</th>\n",
       "      <td>561</td>\n",
       "      <td>1198</td>\n",
       "    </tr>\n",
       "  </tbody>\n",
       "</table>\n",
       "</div>"
      ],
      "text/plain": [
       "beneficiary           Clinton  Trump\n",
       "region_id                           \n",
       "boston_region            2770   2240\n",
       "cedar_rapids_region      3820   1428\n",
       "cleveland_region         6551   3790\n",
       "denver_region            1633   3074\n",
       "las_vegas_region         7906   3012\n",
       "milwaukee_region         1288   2806\n",
       "new_york_city_region       42      6\n",
       "philadelphia_region      8263   4165\n",
       "phoenix_region           2757    482\n",
       "raleigh_region           4926   1803\n",
       "san_francisco_region     6081   3418\n",
       "tampa_region             8019   4263\n",
       "washington_dc_region      561   1198"
      ]
     },
     "execution_count": 19,
     "metadata": {},
     "output_type": "execute_result"
    }
   ],
   "source": [
    "ad_counts_by_region_and_beneficiary()"
   ]
  },
  {
   "cell_type": "code",
   "execution_count": 20,
   "id": "5fdd6a27-5a35-450a-b5a9-87fe8d4612f5",
   "metadata": {},
   "outputs": [
    {
     "data": {
      "text/plain": [
       "region_id\n",
       "boston_region           2770\n",
       "cedar_rapids_region     3820\n",
       "cleveland_region        6551\n",
       "denver_region           1633\n",
       "las_vegas_region        7906\n",
       "milwaukee_region        1288\n",
       "new_york_city_region      42\n",
       "philadelphia_region     8263\n",
       "phoenix_region          2757\n",
       "raleigh_region          4926\n",
       "san_francisco_region    6081\n",
       "tampa_region            8019\n",
       "washington_dc_region     561\n",
       "Name: Clinton, dtype: int64"
      ]
     },
     "execution_count": 20,
     "metadata": {},
     "output_type": "execute_result"
    }
   ],
   "source": [
    "ad_counts_by_region_and_beneficiary().Clinton"
   ]
  },
  {
   "cell_type": "code",
   "execution_count": 21,
   "id": "e2d9be31-38dd-4475-8378-7fd1e0233062",
   "metadata": {},
   "outputs": [
    {
     "data": {
      "text/plain": [
       "beneficiary\n",
       "Clinton    2770\n",
       "Trump      2240\n",
       "Name: boston_region, dtype: int64"
      ]
     },
     "execution_count": 21,
     "metadata": {},
     "output_type": "execute_result"
    }
   ],
   "source": [
    "ad_counts_by_region_and_beneficiary().loc[\"boston_region\"]"
   ]
  },
  {
   "cell_type": "code",
   "execution_count": 22,
   "id": "f66f2d3f-79af-4a3a-bc0c-bdc6b67bc82c",
   "metadata": {},
   "outputs": [
    {
     "data": {
      "text/plain": [
       "beneficiary\n",
       "Clinton    2770\n",
       "Trump      2240\n",
       "Name: boston_region, dtype: int64"
      ]
     },
     "execution_count": 22,
     "metadata": {},
     "output_type": "execute_result"
    }
   ],
   "source": [
    "ad_counts_by_region_and_beneficiary().T.boston_region"
   ]
  }
 ],
 "metadata": {
  "kernelspec": {
   "display_name": "Python 3 (ipykernel)",
   "language": "python",
   "name": "python3"
  },
  "language_info": {
   "codemirror_mode": {
    "name": "ipython",
    "version": 3
   },
   "file_extension": ".py",
   "mimetype": "text/x-python",
   "name": "python",
   "nbconvert_exporter": "python",
   "pygments_lexer": "ipython3",
   "version": "3.8.12"
  }
 },
 "nbformat": 4,
 "nbformat_minor": 5
}
