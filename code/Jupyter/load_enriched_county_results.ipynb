{
 "cells": [
  {
   "cell_type": "markdown",
   "id": "0d557503",
   "metadata": {},
   "source": [
    "## Load Filtered Enriched County Results into Pandas Dataframe"
   ]
  },
  {
   "cell_type": "code",
   "execution_count": 1,
   "id": "708c11dc",
   "metadata": {},
   "outputs": [],
   "source": [
    "from awesome_puppies import votes_df as df\n",
    "from awesome_puppies import regions, region_string, region_fips \n",
    "from awesome_puppies import votes_by_region, votes_by_party"
   ]
  },
  {
   "cell_type": "code",
   "execution_count": 2,
   "id": "1f71a4e5",
   "metadata": {},
   "outputs": [
    {
     "data": {
      "text/plain": [
       "(268, 8)"
      ]
     },
     "execution_count": 2,
     "metadata": {},
     "output_type": "execute_result"
    }
   ],
   "source": [
    "df.shape"
   ]
  },
  {
   "cell_type": "code",
   "execution_count": 3,
   "id": "3228d9d3-fd78-4667-82c1-0738e850f26d",
   "metadata": {},
   "outputs": [
    {
     "data": {
      "text/plain": [
       "Index(['state', 'county_name', 'county_fips', 'region_id', 'democrat',\n",
       "       'republican', 'other', 'totalvotes'],\n",
       "      dtype='object')"
      ]
     },
     "execution_count": 3,
     "metadata": {},
     "output_type": "execute_result"
    }
   ],
   "source": [
    "df.columns"
   ]
  },
  {
   "cell_type": "code",
   "execution_count": 4,
   "id": "6aeaa511",
   "metadata": {},
   "outputs": [
    {
     "data": {
      "text/plain": [
       "state          object\n",
       "county_name    object\n",
       "county_fips    object\n",
       "region_id      object\n",
       "democrat        int64\n",
       "republican      int64\n",
       "other           int64\n",
       "totalvotes      int64\n",
       "dtype: object"
      ]
     },
     "execution_count": 4,
     "metadata": {},
     "output_type": "execute_result"
    }
   ],
   "source": [
    "df.dtypes"
   ]
  },
  {
   "cell_type": "code",
   "execution_count": 5,
   "id": "242ec398",
   "metadata": {},
   "outputs": [
    {
     "data": {
      "text/plain": [
       "denver_region           58\n",
       "washington_dc_region    41\n",
       "new_york_city_region    29\n",
       "raleigh_region          23\n",
       "cedar_rapids_region     21\n",
       "philadelphia_region     18\n",
       "cleveland_region        17\n",
       "boston_region           16\n",
       "phoenix_region          11\n",
       "san_francisco_region    11\n",
       "tampa_region            10\n",
       "milwaukee_region        10\n",
       "las_vegas_region         3\n",
       "Name: region_id, dtype: int64"
      ]
     },
     "execution_count": 5,
     "metadata": {},
     "output_type": "execute_result"
    }
   ],
   "source": [
    "df.region_id.value_counts()"
   ]
  },
  {
   "cell_type": "code",
   "execution_count": 6,
   "id": "3f993362",
   "metadata": {},
   "outputs": [
    {
     "data": {
      "text/html": [
       "<div>\n",
       "<style scoped>\n",
       "    .dataframe tbody tr th:only-of-type {\n",
       "        vertical-align: middle;\n",
       "    }\n",
       "\n",
       "    .dataframe tbody tr th {\n",
       "        vertical-align: top;\n",
       "    }\n",
       "\n",
       "    .dataframe thead th {\n",
       "        text-align: right;\n",
       "    }\n",
       "</style>\n",
       "<table border=\"1\" class=\"dataframe\">\n",
       "  <thead>\n",
       "    <tr style=\"text-align: right;\">\n",
       "      <th></th>\n",
       "      <th>state</th>\n",
       "      <th>county_name</th>\n",
       "      <th>county_fips</th>\n",
       "      <th>region_id</th>\n",
       "      <th>democrat</th>\n",
       "      <th>republican</th>\n",
       "      <th>other</th>\n",
       "      <th>totalvotes</th>\n",
       "    </tr>\n",
       "  </thead>\n",
       "  <tbody>\n",
       "    <tr>\n",
       "      <th>0</th>\n",
       "      <td>ARIZONA</td>\n",
       "      <td>APACHE</td>\n",
       "      <td>04001</td>\n",
       "      <td>phoenix_region</td>\n",
       "      <td>17083</td>\n",
       "      <td>8240</td>\n",
       "      <td>2338</td>\n",
       "      <td>27661</td>\n",
       "    </tr>\n",
       "    <tr>\n",
       "      <th>1</th>\n",
       "      <td>ARIZONA</td>\n",
       "      <td>COCONINO</td>\n",
       "      <td>04005</td>\n",
       "      <td>phoenix_region</td>\n",
       "      <td>32404</td>\n",
       "      <td>21108</td>\n",
       "      <td>6272</td>\n",
       "      <td>59784</td>\n",
       "    </tr>\n",
       "    <tr>\n",
       "      <th>2</th>\n",
       "      <td>ARIZONA</td>\n",
       "      <td>GILA</td>\n",
       "      <td>04007</td>\n",
       "      <td>phoenix_region</td>\n",
       "      <td>7003</td>\n",
       "      <td>14182</td>\n",
       "      <td>1127</td>\n",
       "      <td>22312</td>\n",
       "    </tr>\n",
       "    <tr>\n",
       "      <th>3</th>\n",
       "      <td>ARIZONA</td>\n",
       "      <td>GRAHAM</td>\n",
       "      <td>04009</td>\n",
       "      <td>phoenix_region</td>\n",
       "      <td>3301</td>\n",
       "      <td>8025</td>\n",
       "      <td>808</td>\n",
       "      <td>12134</td>\n",
       "    </tr>\n",
       "    <tr>\n",
       "      <th>4</th>\n",
       "      <td>ARIZONA</td>\n",
       "      <td>GREENLEE</td>\n",
       "      <td>04011</td>\n",
       "      <td>phoenix_region</td>\n",
       "      <td>1092</td>\n",
       "      <td>1892</td>\n",
       "      <td>286</td>\n",
       "      <td>3270</td>\n",
       "    </tr>\n",
       "    <tr>\n",
       "      <th>...</th>\n",
       "      <td>...</td>\n",
       "      <td>...</td>\n",
       "      <td>...</td>\n",
       "      <td>...</td>\n",
       "      <td>...</td>\n",
       "      <td>...</td>\n",
       "      <td>...</td>\n",
       "      <td>...</td>\n",
       "    </tr>\n",
       "    <tr>\n",
       "      <th>263</th>\n",
       "      <td>WYOMING</td>\n",
       "      <td>ALBANY</td>\n",
       "      <td>56001</td>\n",
       "      <td>denver_region</td>\n",
       "      <td>6890</td>\n",
       "      <td>7602</td>\n",
       "      <td>2568</td>\n",
       "      <td>17060</td>\n",
       "    </tr>\n",
       "    <tr>\n",
       "      <th>264</th>\n",
       "      <td>WYOMING</td>\n",
       "      <td>CAMPBELL</td>\n",
       "      <td>56005</td>\n",
       "      <td>denver_region</td>\n",
       "      <td>1324</td>\n",
       "      <td>15778</td>\n",
       "      <td>1097</td>\n",
       "      <td>18199</td>\n",
       "    </tr>\n",
       "    <tr>\n",
       "      <th>265</th>\n",
       "      <td>WYOMING</td>\n",
       "      <td>CARBON</td>\n",
       "      <td>56007</td>\n",
       "      <td>denver_region</td>\n",
       "      <td>1279</td>\n",
       "      <td>4409</td>\n",
       "      <td>686</td>\n",
       "      <td>6374</td>\n",
       "    </tr>\n",
       "    <tr>\n",
       "      <th>266</th>\n",
       "      <td>WYOMING</td>\n",
       "      <td>NIOBRARA</td>\n",
       "      <td>56027</td>\n",
       "      <td>denver_region</td>\n",
       "      <td>115</td>\n",
       "      <td>1116</td>\n",
       "      <td>83</td>\n",
       "      <td>1314</td>\n",
       "    </tr>\n",
       "    <tr>\n",
       "      <th>267</th>\n",
       "      <td>WYOMING</td>\n",
       "      <td>PLATTE</td>\n",
       "      <td>56031</td>\n",
       "      <td>denver_region</td>\n",
       "      <td>719</td>\n",
       "      <td>3437</td>\n",
       "      <td>373</td>\n",
       "      <td>4529</td>\n",
       "    </tr>\n",
       "  </tbody>\n",
       "</table>\n",
       "<p>268 rows × 8 columns</p>\n",
       "</div>"
      ],
      "text/plain": [
       "       state county_name county_fips       region_id  democrat  republican  \\\n",
       "0    ARIZONA      APACHE       04001  phoenix_region     17083        8240   \n",
       "1    ARIZONA    COCONINO       04005  phoenix_region     32404       21108   \n",
       "2    ARIZONA        GILA       04007  phoenix_region      7003       14182   \n",
       "3    ARIZONA      GRAHAM       04009  phoenix_region      3301        8025   \n",
       "4    ARIZONA    GREENLEE       04011  phoenix_region      1092        1892   \n",
       "..       ...         ...         ...             ...       ...         ...   \n",
       "263  WYOMING      ALBANY       56001   denver_region      6890        7602   \n",
       "264  WYOMING    CAMPBELL       56005   denver_region      1324       15778   \n",
       "265  WYOMING      CARBON       56007   denver_region      1279        4409   \n",
       "266  WYOMING    NIOBRARA       56027   denver_region       115        1116   \n",
       "267  WYOMING      PLATTE       56031   denver_region       719        3437   \n",
       "\n",
       "     other  totalvotes  \n",
       "0     2338       27661  \n",
       "1     6272       59784  \n",
       "2     1127       22312  \n",
       "3      808       12134  \n",
       "4      286        3270  \n",
       "..     ...         ...  \n",
       "263   2568       17060  \n",
       "264   1097       18199  \n",
       "265    686        6374  \n",
       "266     83        1314  \n",
       "267    373        4529  \n",
       "\n",
       "[268 rows x 8 columns]"
      ]
     },
     "execution_count": 6,
     "metadata": {},
     "output_type": "execute_result"
    }
   ],
   "source": [
    "df"
   ]
  },
  {
   "cell_type": "code",
   "execution_count": 7,
   "id": "e81f5f8f",
   "metadata": {},
   "outputs": [
    {
     "data": {
      "text/html": [
       "<div>\n",
       "<style scoped>\n",
       "    .dataframe tbody tr th:only-of-type {\n",
       "        vertical-align: middle;\n",
       "    }\n",
       "\n",
       "    .dataframe tbody tr th {\n",
       "        vertical-align: top;\n",
       "    }\n",
       "\n",
       "    .dataframe thead th {\n",
       "        text-align: right;\n",
       "    }\n",
       "</style>\n",
       "<table border=\"1\" class=\"dataframe\">\n",
       "  <thead>\n",
       "    <tr style=\"text-align: right;\">\n",
       "      <th></th>\n",
       "      <th>state</th>\n",
       "      <th>county_name</th>\n",
       "      <th>county_fips</th>\n",
       "      <th>region_id</th>\n",
       "      <th>democrat</th>\n",
       "      <th>republican</th>\n",
       "      <th>other</th>\n",
       "      <th>totalvotes</th>\n",
       "    </tr>\n",
       "  </thead>\n",
       "  <tbody>\n",
       "    <tr>\n",
       "      <th>127</th>\n",
       "      <td>NEVADA</td>\n",
       "      <td>CLARK</td>\n",
       "      <td>32003</td>\n",
       "      <td>las_vegas_region</td>\n",
       "      <td>402227</td>\n",
       "      <td>320057</td>\n",
       "      <td>44872</td>\n",
       "      <td>767156</td>\n",
       "    </tr>\n",
       "    <tr>\n",
       "      <th>128</th>\n",
       "      <td>NEVADA</td>\n",
       "      <td>LINCOLN</td>\n",
       "      <td>32017</td>\n",
       "      <td>las_vegas_region</td>\n",
       "      <td>285</td>\n",
       "      <td>1671</td>\n",
       "      <td>176</td>\n",
       "      <td>2132</td>\n",
       "    </tr>\n",
       "    <tr>\n",
       "      <th>129</th>\n",
       "      <td>NEVADA</td>\n",
       "      <td>NYE</td>\n",
       "      <td>32023</td>\n",
       "      <td>las_vegas_region</td>\n",
       "      <td>5094</td>\n",
       "      <td>13324</td>\n",
       "      <td>1177</td>\n",
       "      <td>19595</td>\n",
       "    </tr>\n",
       "  </tbody>\n",
       "</table>\n",
       "</div>"
      ],
      "text/plain": [
       "      state county_name county_fips         region_id  democrat  republican  \\\n",
       "127  NEVADA       CLARK       32003  las_vegas_region    402227      320057   \n",
       "128  NEVADA     LINCOLN       32017  las_vegas_region       285        1671   \n",
       "129  NEVADA         NYE       32023  las_vegas_region      5094       13324   \n",
       "\n",
       "     other  totalvotes  \n",
       "127  44872      767156  \n",
       "128    176        2132  \n",
       "129   1177       19595  "
      ]
     },
     "execution_count": 7,
     "metadata": {},
     "output_type": "execute_result"
    }
   ],
   "source": [
    "df[df.region_id == \"las_vegas_region\"]"
   ]
  },
  {
   "cell_type": "code",
   "execution_count": 8,
   "id": "48b098f0-5a55-478b-956c-3ce467ff3f2e",
   "metadata": {},
   "outputs": [
    {
     "data": {
      "text/html": [
       "<div>\n",
       "<style scoped>\n",
       "    .dataframe tbody tr th:only-of-type {\n",
       "        vertical-align: middle;\n",
       "    }\n",
       "\n",
       "    .dataframe tbody tr th {\n",
       "        vertical-align: top;\n",
       "    }\n",
       "\n",
       "    .dataframe thead th {\n",
       "        text-align: right;\n",
       "    }\n",
       "</style>\n",
       "<table border=\"1\" class=\"dataframe\">\n",
       "  <thead>\n",
       "    <tr style=\"text-align: right;\">\n",
       "      <th></th>\n",
       "      <th>democrat</th>\n",
       "      <th>republican</th>\n",
       "      <th>other</th>\n",
       "      <th>totalvotes</th>\n",
       "    </tr>\n",
       "    <tr>\n",
       "      <th>region_id</th>\n",
       "      <th></th>\n",
       "      <th></th>\n",
       "      <th></th>\n",
       "      <th></th>\n",
       "    </tr>\n",
       "  </thead>\n",
       "  <tbody>\n",
       "    <tr>\n",
       "      <th>boston_region</th>\n",
       "      <td>1934103</td>\n",
       "      <td>1156623</td>\n",
       "      <td>193631</td>\n",
       "      <td>3284357</td>\n",
       "    </tr>\n",
       "    <tr>\n",
       "      <th>cedar_rapids_region</th>\n",
       "      <td>221010</td>\n",
       "      <td>211332</td>\n",
       "      <td>34150</td>\n",
       "      <td>466492</td>\n",
       "    </tr>\n",
       "    <tr>\n",
       "      <th>cleveland_region</th>\n",
       "      <td>888979</td>\n",
       "      <td>841143</td>\n",
       "      <td>79532</td>\n",
       "      <td>1809654</td>\n",
       "    </tr>\n",
       "    <tr>\n",
       "      <th>denver_region</th>\n",
       "      <td>1143242</td>\n",
       "      <td>908296</td>\n",
       "      <td>190667</td>\n",
       "      <td>2242205</td>\n",
       "    </tr>\n",
       "    <tr>\n",
       "      <th>las_vegas_region</th>\n",
       "      <td>407606</td>\n",
       "      <td>335052</td>\n",
       "      <td>46225</td>\n",
       "      <td>788883</td>\n",
       "    </tr>\n",
       "    <tr>\n",
       "      <th>milwaukee_region</th>\n",
       "      <td>559494</td>\n",
       "      <td>544524</td>\n",
       "      <td>76196</td>\n",
       "      <td>1180214</td>\n",
       "    </tr>\n",
       "    <tr>\n",
       "      <th>new_york_city_region</th>\n",
       "      <td>5183406</td>\n",
       "      <td>2921439</td>\n",
       "      <td>283604</td>\n",
       "      <td>8388449</td>\n",
       "    </tr>\n",
       "    <tr>\n",
       "      <th>philadelphia_region</th>\n",
       "      <td>2307990</td>\n",
       "      <td>1424799</td>\n",
       "      <td>135943</td>\n",
       "      <td>3868732</td>\n",
       "    </tr>\n",
       "    <tr>\n",
       "      <th>phoenix_region</th>\n",
       "      <td>882761</td>\n",
       "      <td>1027819</td>\n",
       "      <td>152599</td>\n",
       "      <td>2063179</td>\n",
       "    </tr>\n",
       "    <tr>\n",
       "      <th>raleigh_region</th>\n",
       "      <td>830076</td>\n",
       "      <td>609387</td>\n",
       "      <td>62388</td>\n",
       "      <td>1501851</td>\n",
       "    </tr>\n",
       "    <tr>\n",
       "      <th>san_francisco_region</th>\n",
       "      <td>2373055</td>\n",
       "      <td>616318</td>\n",
       "      <td>214937</td>\n",
       "      <td>3204310</td>\n",
       "    </tr>\n",
       "    <tr>\n",
       "      <th>tampa_region</th>\n",
       "      <td>989936</td>\n",
       "      <td>1180217</td>\n",
       "      <td>80149</td>\n",
       "      <td>2250302</td>\n",
       "    </tr>\n",
       "    <tr>\n",
       "      <th>washington_dc_region</th>\n",
       "      <td>2067816</td>\n",
       "      <td>1004339</td>\n",
       "      <td>189638</td>\n",
       "      <td>3261793</td>\n",
       "    </tr>\n",
       "  </tbody>\n",
       "</table>\n",
       "</div>"
      ],
      "text/plain": [
       "                      democrat  republican   other  totalvotes\n",
       "region_id                                                     \n",
       "boston_region          1934103     1156623  193631     3284357\n",
       "cedar_rapids_region     221010      211332   34150      466492\n",
       "cleveland_region        888979      841143   79532     1809654\n",
       "denver_region          1143242      908296  190667     2242205\n",
       "las_vegas_region        407606      335052   46225      788883\n",
       "milwaukee_region        559494      544524   76196     1180214\n",
       "new_york_city_region   5183406     2921439  283604     8388449\n",
       "philadelphia_region    2307990     1424799  135943     3868732\n",
       "phoenix_region          882761     1027819  152599     2063179\n",
       "raleigh_region          830076      609387   62388     1501851\n",
       "san_francisco_region   2373055      616318  214937     3204310\n",
       "tampa_region            989936     1180217   80149     2250302\n",
       "washington_dc_region   2067816     1004339  189638     3261793"
      ]
     },
     "execution_count": 8,
     "metadata": {},
     "output_type": "execute_result"
    }
   ],
   "source": [
    "votes_by_region()"
   ]
  },
  {
   "cell_type": "code",
   "execution_count": 9,
   "id": "d23dc772-e33f-49ed-82dc-672388df2b70",
   "metadata": {},
   "outputs": [
    {
     "data": {
      "text/plain": [
       "region_id\n",
       "boston_region           1934103\n",
       "cedar_rapids_region      221010\n",
       "cleveland_region         888979\n",
       "denver_region           1143242\n",
       "las_vegas_region         407606\n",
       "milwaukee_region         559494\n",
       "new_york_city_region    5183406\n",
       "philadelphia_region     2307990\n",
       "phoenix_region           882761\n",
       "raleigh_region           830076\n",
       "san_francisco_region    2373055\n",
       "tampa_region             989936\n",
       "washington_dc_region    2067816\n",
       "Name: democrat, dtype: int64"
      ]
     },
     "execution_count": 9,
     "metadata": {},
     "output_type": "execute_result"
    }
   ],
   "source": [
    "votes_by_region().democrat"
   ]
  },
  {
   "cell_type": "code",
   "execution_count": 10,
   "id": "a4ef7e80-1b5c-4844-8c44-5e28c8e37e94",
   "metadata": {},
   "outputs": [
    {
     "data": {
      "text/plain": [
       "democrat      1934103\n",
       "republican    1156623\n",
       "other          193631\n",
       "totalvotes    3284357\n",
       "Name: boston_region, dtype: int64"
      ]
     },
     "execution_count": 10,
     "metadata": {},
     "output_type": "execute_result"
    }
   ],
   "source": [
    "votes_by_region().loc[\"boston_region\"]"
   ]
  },
  {
   "cell_type": "code",
   "execution_count": 11,
   "id": "cfcdeac3",
   "metadata": {},
   "outputs": [
    {
     "data": {
      "text/html": [
       "<div>\n",
       "<style scoped>\n",
       "    .dataframe tbody tr th:only-of-type {\n",
       "        vertical-align: middle;\n",
       "    }\n",
       "\n",
       "    .dataframe tbody tr th {\n",
       "        vertical-align: top;\n",
       "    }\n",
       "\n",
       "    .dataframe thead th {\n",
       "        text-align: right;\n",
       "    }\n",
       "</style>\n",
       "<table border=\"1\" class=\"dataframe\">\n",
       "  <thead>\n",
       "    <tr style=\"text-align: right;\">\n",
       "      <th>region_id</th>\n",
       "      <th>boston_region</th>\n",
       "      <th>cedar_rapids_region</th>\n",
       "      <th>cleveland_region</th>\n",
       "      <th>denver_region</th>\n",
       "      <th>las_vegas_region</th>\n",
       "      <th>milwaukee_region</th>\n",
       "      <th>new_york_city_region</th>\n",
       "      <th>philadelphia_region</th>\n",
       "      <th>phoenix_region</th>\n",
       "      <th>raleigh_region</th>\n",
       "      <th>san_francisco_region</th>\n",
       "      <th>tampa_region</th>\n",
       "      <th>washington_dc_region</th>\n",
       "    </tr>\n",
       "  </thead>\n",
       "  <tbody>\n",
       "    <tr>\n",
       "      <th>democrat</th>\n",
       "      <td>1934103</td>\n",
       "      <td>221010</td>\n",
       "      <td>888979</td>\n",
       "      <td>1143242</td>\n",
       "      <td>407606</td>\n",
       "      <td>559494</td>\n",
       "      <td>5183406</td>\n",
       "      <td>2307990</td>\n",
       "      <td>882761</td>\n",
       "      <td>830076</td>\n",
       "      <td>2373055</td>\n",
       "      <td>989936</td>\n",
       "      <td>2067816</td>\n",
       "    </tr>\n",
       "    <tr>\n",
       "      <th>republican</th>\n",
       "      <td>1156623</td>\n",
       "      <td>211332</td>\n",
       "      <td>841143</td>\n",
       "      <td>908296</td>\n",
       "      <td>335052</td>\n",
       "      <td>544524</td>\n",
       "      <td>2921439</td>\n",
       "      <td>1424799</td>\n",
       "      <td>1027819</td>\n",
       "      <td>609387</td>\n",
       "      <td>616318</td>\n",
       "      <td>1180217</td>\n",
       "      <td>1004339</td>\n",
       "    </tr>\n",
       "    <tr>\n",
       "      <th>other</th>\n",
       "      <td>193631</td>\n",
       "      <td>34150</td>\n",
       "      <td>79532</td>\n",
       "      <td>190667</td>\n",
       "      <td>46225</td>\n",
       "      <td>76196</td>\n",
       "      <td>283604</td>\n",
       "      <td>135943</td>\n",
       "      <td>152599</td>\n",
       "      <td>62388</td>\n",
       "      <td>214937</td>\n",
       "      <td>80149</td>\n",
       "      <td>189638</td>\n",
       "    </tr>\n",
       "    <tr>\n",
       "      <th>totalvotes</th>\n",
       "      <td>3284357</td>\n",
       "      <td>466492</td>\n",
       "      <td>1809654</td>\n",
       "      <td>2242205</td>\n",
       "      <td>788883</td>\n",
       "      <td>1180214</td>\n",
       "      <td>8388449</td>\n",
       "      <td>3868732</td>\n",
       "      <td>2063179</td>\n",
       "      <td>1501851</td>\n",
       "      <td>3204310</td>\n",
       "      <td>2250302</td>\n",
       "      <td>3261793</td>\n",
       "    </tr>\n",
       "  </tbody>\n",
       "</table>\n",
       "</div>"
      ],
      "text/plain": [
       "region_id   boston_region  cedar_rapids_region  cleveland_region  \\\n",
       "democrat          1934103               221010            888979   \n",
       "republican        1156623               211332            841143   \n",
       "other              193631                34150             79532   \n",
       "totalvotes        3284357               466492           1809654   \n",
       "\n",
       "region_id   denver_region  las_vegas_region  milwaukee_region  \\\n",
       "democrat          1143242            407606            559494   \n",
       "republican         908296            335052            544524   \n",
       "other              190667             46225             76196   \n",
       "totalvotes        2242205            788883           1180214   \n",
       "\n",
       "region_id   new_york_city_region  philadelphia_region  phoenix_region  \\\n",
       "democrat                 5183406              2307990          882761   \n",
       "republican               2921439              1424799         1027819   \n",
       "other                     283604               135943          152599   \n",
       "totalvotes               8388449              3868732         2063179   \n",
       "\n",
       "region_id   raleigh_region  san_francisco_region  tampa_region  \\\n",
       "democrat            830076               2373055        989936   \n",
       "republican          609387                616318       1180217   \n",
       "other                62388                214937         80149   \n",
       "totalvotes         1501851               3204310       2250302   \n",
       "\n",
       "region_id   washington_dc_region  \n",
       "democrat                 2067816  \n",
       "republican               1004339  \n",
       "other                     189638  \n",
       "totalvotes               3261793  "
      ]
     },
     "execution_count": 11,
     "metadata": {},
     "output_type": "execute_result"
    }
   ],
   "source": [
    "votes_by_party()"
   ]
  },
  {
   "cell_type": "code",
   "execution_count": 12,
   "id": "e1ac9968",
   "metadata": {},
   "outputs": [
    {
     "data": {
      "text/plain": [
       "democrat      1934103\n",
       "republican    1156623\n",
       "other          193631\n",
       "totalvotes    3284357\n",
       "Name: boston_region, dtype: int64"
      ]
     },
     "execution_count": 12,
     "metadata": {},
     "output_type": "execute_result"
    }
   ],
   "source": [
    "votes_by_party().boston_region"
   ]
  },
  {
   "cell_type": "code",
   "execution_count": 13,
   "id": "f9453598",
   "metadata": {},
   "outputs": [
    {
     "data": {
      "text/plain": [
       "region_id\n",
       "boston_region           1934103\n",
       "cedar_rapids_region      221010\n",
       "cleveland_region         888979\n",
       "denver_region           1143242\n",
       "las_vegas_region         407606\n",
       "milwaukee_region         559494\n",
       "new_york_city_region    5183406\n",
       "philadelphia_region     2307990\n",
       "phoenix_region           882761\n",
       "raleigh_region           830076\n",
       "san_francisco_region    2373055\n",
       "tampa_region             989936\n",
       "washington_dc_region    2067816\n",
       "Name: democrat, dtype: int64"
      ]
     },
     "execution_count": 13,
     "metadata": {},
     "output_type": "execute_result"
    }
   ],
   "source": [
    "votes_by_party().loc[\"democrat\"]"
   ]
  },
  {
   "cell_type": "code",
   "execution_count": 14,
   "id": "d5beb3a1-5eff-4717-914c-b0c6b7109752",
   "metadata": {},
   "outputs": [
    {
     "data": {
      "text/plain": [
       "region_id\n",
       "boston_region           [25001, 25007, 25009, 25017, 25019, 25021, 250...\n",
       "cedar_rapids_region     [19005, 19011, 19013, 19017, 19019, 19023, 190...\n",
       "cleveland_region        [39005, 39007, 39019, 39035, 39043, 39055, 390...\n",
       "denver_region           [08001, 08003, 08005, 08007, 08013, 08014, 080...\n",
       "las_vegas_region                                    [32003, 32017, 32023]\n",
       "milwaukee_region        [55027, 55055, 55059, 55079, 55089, 55101, 551...\n",
       "new_york_city_region    [09001, 34003, 34013, 34017, 34019, 34023, 340...\n",
       "philadelphia_region     [10001, 10003, 34001, 34005, 34007, 34009, 340...\n",
       "phoenix_region          [04001, 04005, 04007, 04009, 04011, 04012, 040...\n",
       "raleigh_region          [37037, 37051, 37063, 37065, 37069, 37077, 370...\n",
       "san_francisco_region    [06001, 06013, 06033, 06041, 06045, 06055, 060...\n",
       "tampa_region            [12017, 12049, 12053, 12055, 12057, 12081, 121...\n",
       "washington_dc_region    [11001, 24001, 24009, 24017, 24021, 24031, 240...\n",
       "Name: county_fips, dtype: object"
      ]
     },
     "execution_count": 14,
     "metadata": {},
     "output_type": "execute_result"
    }
   ],
   "source": [
    "region_fips()"
   ]
  },
  {
   "cell_type": "code",
   "execution_count": 15,
   "id": "459dda5b-ae1b-4ec7-af97-404d0f1cc9d3",
   "metadata": {},
   "outputs": [
    {
     "data": {
      "text/plain": [
       "['boston_region',\n",
       " 'cedar_rapids_region',\n",
       " 'cleveland_region',\n",
       " 'denver_region',\n",
       " 'las_vegas_region',\n",
       " 'milwaukee_region',\n",
       " 'new_york_city_region',\n",
       " 'philadelphia_region',\n",
       " 'phoenix_region',\n",
       " 'raleigh_region',\n",
       " 'san_francisco_region',\n",
       " 'tampa_region',\n",
       " 'washington_dc_region']"
      ]
     },
     "execution_count": 15,
     "metadata": {},
     "output_type": "execute_result"
    }
   ],
   "source": [
    "regions()"
   ]
  },
  {
   "cell_type": "code",
   "execution_count": 16,
   "id": "f05b15d7-c4b9-4d38-92ce-162895bcc670",
   "metadata": {},
   "outputs": [
    {
     "name": "stdout",
     "output_type": "stream",
     "text": [
      "Boston Region\n",
      "Cedar Rapids Region\n",
      "Cleveland Region\n",
      "Denver Region\n",
      "Las Vegas Region\n",
      "Milwaukee Region\n",
      "New York City Region\n",
      "Philadelphia Region\n",
      "Phoenix Region\n",
      "Raleigh Region\n",
      "San Francisco Region\n",
      "Tampa Region\n",
      "Washington DC Region\n"
     ]
    }
   ],
   "source": [
    "for region in regions():\n",
    "    print (region_string(region))"
   ]
  }
 ],
 "metadata": {
  "kernelspec": {
   "display_name": "Python 3 (ipykernel)",
   "language": "python",
   "name": "python3"
  },
  "language_info": {
   "codemirror_mode": {
    "name": "ipython",
    "version": 3
   },
   "file_extension": ".py",
   "mimetype": "text/x-python",
   "name": "python",
   "nbconvert_exporter": "python",
   "pygments_lexer": "ipython3",
   "version": "3.8.12"
  }
 },
 "nbformat": 4,
 "nbformat_minor": 5
}
