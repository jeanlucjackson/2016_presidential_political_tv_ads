{
 "cells": [
  {
   "cell_type": "markdown",
   "id": "f19facfa-34c3-4d88-aa7d-db5b496bd36b",
   "metadata": {},
   "source": [
    "## Filter County Data Set\n",
    "\n",
    "The master data sets can be found at https://drive.google.com/drive/u/2/folders/1Ag39uw9kKCKqlEOUkCxcezAutJI6mWyC\n",
    "\n",
    "The master datasets are not present in the github repository for our project.\n",
    "\n",
    "This notebook combines a pair of master data sources as follows:\n",
    "\n",
    "* A dataset containing presidential election returns, by county, for elections from 2000 through 2020\n",
    "* A dataset containing the counties that make up the thirteen television markets of interest for our project\n",
    "\n",
    "This notebook produces a dataset that eliminates all voting from counties not in the regional markets of interest.\n",
    "Each row in the dataset contains the votes won by a candidate in that county in that election.\n",
    "Each row also is tagged with the relevant television market."
   ]
  },
  {
   "cell_type": "code",
   "execution_count": 1,
   "id": "708c11dc",
   "metadata": {},
   "outputs": [],
   "source": [
    "# Source datasets are located at:\n",
    "# https://drive.google.com/drive/u/2/folders/1Ag39uw9kKCKqlEOUkCxcezAutJI6mWyC\n",
    "\n",
    "import pandas as pd\n",
    "\n",
    "results_directory = \"../../datasets/MIT_Election_Lab/\"\n",
    "\n",
    "votes_df = pd.read_csv(results_directory + \"countypres_2000-2020.csv\",\n",
    "                       dtype={'county_fips': str})\n",
    "\n",
    "# fips codes are 5 digit strings with leading zeros\n",
    "# cast vote counts as ints and not floats\n",
    "\n",
    "votes_df['county_fips'] = votes_df['county_fips'].str.zfill(5)\n",
    "votes_df['candidatevotes'] = votes_df['candidatevotes'].fillna(0).astype(int)\n",
    "\n",
    "region_df = pd.read_csv(results_directory + \"region_county_makeup.csv\")"
   ]
  },
  {
   "cell_type": "code",
   "execution_count": 2,
   "id": "9971fd2b-23e4-4705-bc75-d6d3f15f03fb",
   "metadata": {},
   "outputs": [
    {
     "data": {
      "text/plain": [
       "Index(['year', 'state', 'state_po', 'county_name', 'county_fips', 'office',\n",
       "       'candidate', 'party', 'candidatevotes', 'totalvotes', 'version',\n",
       "       'mode'],\n",
       "      dtype='object')"
      ]
     },
     "execution_count": 2,
     "metadata": {},
     "output_type": "execute_result"
    }
   ],
   "source": [
    "votes_df.columns"
   ]
  },
  {
   "cell_type": "code",
   "execution_count": 3,
   "id": "4d3700c5",
   "metadata": {},
   "outputs": [
    {
     "data": {
      "text/plain": [
       "Index(['state', 'county_name', 'county_fips', 'candidate', 'party',\n",
       "       'candidatevotes'],\n",
       "      dtype='object')"
      ]
     },
     "execution_count": 3,
     "metadata": {},
     "output_type": "execute_result"
    }
   ],
   "source": [
    "# Limit votes data to 2016 results\n",
    "# remove year, office and version columns as being uniform across the dataset\n",
    "# remove state_po column as it provides the same information as state\n",
    "# remove totalvotes column from source dataset we substitute our own below\n",
    "# remove mode column as we do not use it\n",
    "\n",
    "votes_df = votes_df[votes_df.year == 2016]\n",
    "votes_df = votes_df.drop(\n",
    "    columns=['year', 'state_po', 'office', 'totalvotes', 'version', 'mode'])\n",
    "\n",
    "votes_df.columns"
   ]
  },
  {
   "cell_type": "code",
   "execution_count": 4,
   "id": "116edf7a-a4b6-434f-91d7-9f349893a926",
   "metadata": {},
   "outputs": [
    {
     "data": {
      "text/plain": [
       "state             object\n",
       "county_name       object\n",
       "county_fips       object\n",
       "candidate         object\n",
       "party             object\n",
       "candidatevotes     int64\n",
       "dtype: object"
      ]
     },
     "execution_count": 4,
     "metadata": {},
     "output_type": "execute_result"
    }
   ],
   "source": [
    "votes_df.dtypes"
   ]
  },
  {
   "cell_type": "code",
   "execution_count": 5,
   "id": "e9870e1e-9324-4593-af35-1c78256e13dd",
   "metadata": {},
   "outputs": [
    {
     "data": {
      "text/plain": [
       "Index(['region_id', 'state', 'county_name'], dtype='object')"
      ]
     },
     "execution_count": 5,
     "metadata": {},
     "output_type": "execute_result"
    }
   ],
   "source": [
    "region_df.columns"
   ]
  },
  {
   "cell_type": "code",
   "execution_count": 6,
   "id": "e8c82cc8-3691-4b32-b513-4e25856d4795",
   "metadata": {},
   "outputs": [
    {
     "data": {
      "text/html": [
       "<div>\n",
       "<style scoped>\n",
       "    .dataframe tbody tr th:only-of-type {\n",
       "        vertical-align: middle;\n",
       "    }\n",
       "\n",
       "    .dataframe tbody tr th {\n",
       "        vertical-align: top;\n",
       "    }\n",
       "\n",
       "    .dataframe thead th {\n",
       "        text-align: right;\n",
       "    }\n",
       "</style>\n",
       "<table border=\"1\" class=\"dataframe\">\n",
       "  <thead>\n",
       "    <tr style=\"text-align: right;\">\n",
       "      <th></th>\n",
       "      <th>region_id</th>\n",
       "      <th>state</th>\n",
       "      <th>county_name</th>\n",
       "    </tr>\n",
       "  </thead>\n",
       "  <tbody>\n",
       "    <tr>\n",
       "      <th>0</th>\n",
       "      <td>tampa_region</td>\n",
       "      <td>FLORIDA</td>\n",
       "      <td>CITRUS</td>\n",
       "    </tr>\n",
       "    <tr>\n",
       "      <th>1</th>\n",
       "      <td>tampa_region</td>\n",
       "      <td>FLORIDA</td>\n",
       "      <td>HARDEE</td>\n",
       "    </tr>\n",
       "    <tr>\n",
       "      <th>2</th>\n",
       "      <td>tampa_region</td>\n",
       "      <td>FLORIDA</td>\n",
       "      <td>HERNANDO</td>\n",
       "    </tr>\n",
       "    <tr>\n",
       "      <th>3</th>\n",
       "      <td>tampa_region</td>\n",
       "      <td>FLORIDA</td>\n",
       "      <td>HIGHLANDS</td>\n",
       "    </tr>\n",
       "    <tr>\n",
       "      <th>4</th>\n",
       "      <td>tampa_region</td>\n",
       "      <td>FLORIDA</td>\n",
       "      <td>HILLSBOROUGH</td>\n",
       "    </tr>\n",
       "    <tr>\n",
       "      <th>...</th>\n",
       "      <td>...</td>\n",
       "      <td>...</td>\n",
       "      <td>...</td>\n",
       "    </tr>\n",
       "    <tr>\n",
       "      <th>269</th>\n",
       "      <td>new_york_city_region</td>\n",
       "      <td>NEW JERSEY</td>\n",
       "      <td>SOMERSET</td>\n",
       "    </tr>\n",
       "    <tr>\n",
       "      <th>270</th>\n",
       "      <td>new_york_city_region</td>\n",
       "      <td>NEW JERSEY</td>\n",
       "      <td>SUSSEX</td>\n",
       "    </tr>\n",
       "    <tr>\n",
       "      <th>271</th>\n",
       "      <td>new_york_city_region</td>\n",
       "      <td>NEW JERSEY</td>\n",
       "      <td>UNION</td>\n",
       "    </tr>\n",
       "    <tr>\n",
       "      <th>272</th>\n",
       "      <td>new_york_city_region</td>\n",
       "      <td>NEW JERSEY</td>\n",
       "      <td>WARREN</td>\n",
       "    </tr>\n",
       "    <tr>\n",
       "      <th>273</th>\n",
       "      <td>new_york_city_region</td>\n",
       "      <td>PENNSYLVANIA</td>\n",
       "      <td>PIKE</td>\n",
       "    </tr>\n",
       "  </tbody>\n",
       "</table>\n",
       "<p>274 rows × 3 columns</p>\n",
       "</div>"
      ],
      "text/plain": [
       "                region_id         state   county_name\n",
       "0            tampa_region       FLORIDA        CITRUS\n",
       "1            tampa_region       FLORIDA        HARDEE\n",
       "2            tampa_region       FLORIDA      HERNANDO\n",
       "3            tampa_region       FLORIDA     HIGHLANDS\n",
       "4            tampa_region       FLORIDA  HILLSBOROUGH\n",
       "..                    ...           ...           ...\n",
       "269  new_york_city_region    NEW JERSEY      SOMERSET\n",
       "270  new_york_city_region    NEW JERSEY        SUSSEX\n",
       "271  new_york_city_region    NEW JERSEY         UNION\n",
       "272  new_york_city_region    NEW JERSEY        WARREN\n",
       "273  new_york_city_region  PENNSYLVANIA          PIKE\n",
       "\n",
       "[274 rows x 3 columns]"
      ]
     },
     "execution_count": 6,
     "metadata": {},
     "output_type": "execute_result"
    }
   ],
   "source": [
    "region_df"
   ]
  },
  {
   "cell_type": "code",
   "execution_count": 7,
   "id": "af26c924-f2a1-4d59-a34d-2546f82358bb",
   "metadata": {},
   "outputs": [],
   "source": [
    "# We merge the region dataframe which allows us to map from market regions\n",
    "# to counties.  By using an \"inner\" merge we also eliminate all counties\n",
    "# that are not within the scope of our project.\n",
    "\n",
    "merged = pd.merge(votes_df, region_df, on=['state', 'county_name'], how='inner')"
   ]
  },
  {
   "cell_type": "code",
   "execution_count": 8,
   "id": "52637bb2-2687-4db7-83b1-180cf2e4e335",
   "metadata": {},
   "outputs": [
    {
     "data": {
      "text/html": [
       "<div>\n",
       "<style scoped>\n",
       "    .dataframe tbody tr th:only-of-type {\n",
       "        vertical-align: middle;\n",
       "    }\n",
       "\n",
       "    .dataframe tbody tr th {\n",
       "        vertical-align: top;\n",
       "    }\n",
       "\n",
       "    .dataframe thead th {\n",
       "        text-align: right;\n",
       "    }\n",
       "</style>\n",
       "<table border=\"1\" class=\"dataframe\">\n",
       "  <thead>\n",
       "    <tr style=\"text-align: right;\">\n",
       "      <th></th>\n",
       "      <th>state</th>\n",
       "      <th>county_name</th>\n",
       "      <th>county_fips</th>\n",
       "      <th>candidate</th>\n",
       "      <th>party</th>\n",
       "      <th>candidatevotes</th>\n",
       "      <th>region_id</th>\n",
       "    </tr>\n",
       "  </thead>\n",
       "  <tbody>\n",
       "    <tr>\n",
       "      <th>0</th>\n",
       "      <td>ARIZONA</td>\n",
       "      <td>APACHE</td>\n",
       "      <td>04001</td>\n",
       "      <td>HILLARY CLINTON</td>\n",
       "      <td>DEMOCRAT</td>\n",
       "      <td>17083</td>\n",
       "      <td>phoenix_region</td>\n",
       "    </tr>\n",
       "    <tr>\n",
       "      <th>1</th>\n",
       "      <td>ARIZONA</td>\n",
       "      <td>APACHE</td>\n",
       "      <td>04001</td>\n",
       "      <td>DONALD TRUMP</td>\n",
       "      <td>REPUBLICAN</td>\n",
       "      <td>8240</td>\n",
       "      <td>phoenix_region</td>\n",
       "    </tr>\n",
       "    <tr>\n",
       "      <th>2</th>\n",
       "      <td>ARIZONA</td>\n",
       "      <td>APACHE</td>\n",
       "      <td>04001</td>\n",
       "      <td>OTHER</td>\n",
       "      <td>OTHER</td>\n",
       "      <td>2338</td>\n",
       "      <td>phoenix_region</td>\n",
       "    </tr>\n",
       "    <tr>\n",
       "      <th>3</th>\n",
       "      <td>ARIZONA</td>\n",
       "      <td>COCONINO</td>\n",
       "      <td>04005</td>\n",
       "      <td>HILLARY CLINTON</td>\n",
       "      <td>DEMOCRAT</td>\n",
       "      <td>32404</td>\n",
       "      <td>phoenix_region</td>\n",
       "    </tr>\n",
       "    <tr>\n",
       "      <th>4</th>\n",
       "      <td>ARIZONA</td>\n",
       "      <td>COCONINO</td>\n",
       "      <td>04005</td>\n",
       "      <td>DONALD TRUMP</td>\n",
       "      <td>REPUBLICAN</td>\n",
       "      <td>21108</td>\n",
       "      <td>phoenix_region</td>\n",
       "    </tr>\n",
       "    <tr>\n",
       "      <th>...</th>\n",
       "      <td>...</td>\n",
       "      <td>...</td>\n",
       "      <td>...</td>\n",
       "      <td>...</td>\n",
       "      <td>...</td>\n",
       "      <td>...</td>\n",
       "      <td>...</td>\n",
       "    </tr>\n",
       "    <tr>\n",
       "      <th>799</th>\n",
       "      <td>WYOMING</td>\n",
       "      <td>NIOBRARA</td>\n",
       "      <td>56027</td>\n",
       "      <td>DONALD TRUMP</td>\n",
       "      <td>REPUBLICAN</td>\n",
       "      <td>1116</td>\n",
       "      <td>denver_region</td>\n",
       "    </tr>\n",
       "    <tr>\n",
       "      <th>800</th>\n",
       "      <td>WYOMING</td>\n",
       "      <td>NIOBRARA</td>\n",
       "      <td>56027</td>\n",
       "      <td>OTHER</td>\n",
       "      <td>OTHER</td>\n",
       "      <td>83</td>\n",
       "      <td>denver_region</td>\n",
       "    </tr>\n",
       "    <tr>\n",
       "      <th>801</th>\n",
       "      <td>WYOMING</td>\n",
       "      <td>PLATTE</td>\n",
       "      <td>56031</td>\n",
       "      <td>HILLARY CLINTON</td>\n",
       "      <td>DEMOCRAT</td>\n",
       "      <td>719</td>\n",
       "      <td>denver_region</td>\n",
       "    </tr>\n",
       "    <tr>\n",
       "      <th>802</th>\n",
       "      <td>WYOMING</td>\n",
       "      <td>PLATTE</td>\n",
       "      <td>56031</td>\n",
       "      <td>DONALD TRUMP</td>\n",
       "      <td>REPUBLICAN</td>\n",
       "      <td>3437</td>\n",
       "      <td>denver_region</td>\n",
       "    </tr>\n",
       "    <tr>\n",
       "      <th>803</th>\n",
       "      <td>WYOMING</td>\n",
       "      <td>PLATTE</td>\n",
       "      <td>56031</td>\n",
       "      <td>OTHER</td>\n",
       "      <td>OTHER</td>\n",
       "      <td>373</td>\n",
       "      <td>denver_region</td>\n",
       "    </tr>\n",
       "  </tbody>\n",
       "</table>\n",
       "<p>804 rows × 7 columns</p>\n",
       "</div>"
      ],
      "text/plain": [
       "       state county_name county_fips        candidate       party  \\\n",
       "0    ARIZONA      APACHE       04001  HILLARY CLINTON    DEMOCRAT   \n",
       "1    ARIZONA      APACHE       04001     DONALD TRUMP  REPUBLICAN   \n",
       "2    ARIZONA      APACHE       04001            OTHER       OTHER   \n",
       "3    ARIZONA    COCONINO       04005  HILLARY CLINTON    DEMOCRAT   \n",
       "4    ARIZONA    COCONINO       04005     DONALD TRUMP  REPUBLICAN   \n",
       "..       ...         ...         ...              ...         ...   \n",
       "799  WYOMING    NIOBRARA       56027     DONALD TRUMP  REPUBLICAN   \n",
       "800  WYOMING    NIOBRARA       56027            OTHER       OTHER   \n",
       "801  WYOMING      PLATTE       56031  HILLARY CLINTON    DEMOCRAT   \n",
       "802  WYOMING      PLATTE       56031     DONALD TRUMP  REPUBLICAN   \n",
       "803  WYOMING      PLATTE       56031            OTHER       OTHER   \n",
       "\n",
       "     candidatevotes       region_id  \n",
       "0             17083  phoenix_region  \n",
       "1              8240  phoenix_region  \n",
       "2              2338  phoenix_region  \n",
       "3             32404  phoenix_region  \n",
       "4             21108  phoenix_region  \n",
       "..              ...             ...  \n",
       "799            1116   denver_region  \n",
       "800              83   denver_region  \n",
       "801             719   denver_region  \n",
       "802            3437   denver_region  \n",
       "803             373   denver_region  \n",
       "\n",
       "[804 rows x 7 columns]"
      ]
     },
     "execution_count": 8,
     "metadata": {},
     "output_type": "execute_result"
    }
   ],
   "source": [
    "merged"
   ]
  },
  {
   "cell_type": "code",
   "execution_count": 9,
   "id": "a914e264-9c6a-4176-97d3-22a763d04f69",
   "metadata": {},
   "outputs": [
    {
     "data": {
      "text/plain": [
       "denver_region           174\n",
       "washington_dc_region    123\n",
       "new_york_city_region     87\n",
       "raleigh_region           69\n",
       "cedar_rapids_region      63\n",
       "philadelphia_region      54\n",
       "cleveland_region         51\n",
       "boston_region            48\n",
       "phoenix_region           33\n",
       "san_francisco_region     33\n",
       "tampa_region             30\n",
       "milwaukee_region         30\n",
       "las_vegas_region          9\n",
       "Name: region_id, dtype: int64"
      ]
     },
     "execution_count": 9,
     "metadata": {},
     "output_type": "execute_result"
    }
   ],
   "source": [
    "merged.region_id.value_counts()"
   ]
  },
  {
   "cell_type": "code",
   "execution_count": 10,
   "id": "fb2d2303",
   "metadata": {},
   "outputs": [],
   "source": [
    "# The votes dataset is in long format with three rows for every county in\n",
    "# each election, one to reflect republican votes, one to reflect democrat\n",
    "# votes and one for all other.  We reshape the dataset set to wide\n",
    "# format with three columns in every row as opposed to having three rows\n",
    "# as in the source dataset.\n",
    "\n",
    "pivot_index = ['state',\n",
    "               'county_name',\n",
    "               'county_fips', \n",
    "               'region_id']\n",
    "\n",
    "pivot = merged.pivot(columns = 'party', \n",
    "                     index = pivot_index, \n",
    "                     values = 'candidatevotes')\n",
    "\n",
    "# The pivot creates a Pandas multi index as a side effect.\n",
    "# We reset the index back to a simple range and\n",
    "# restore the columns used for the pivot index back\n",
    "# to their original status as columns.\n",
    "\n",
    "pivot = pivot.reset_index()\n",
    "\n",
    "# Convert column  names to lower case\n",
    "pivot.columns = pivot.columns.str.lower()\n",
    "\n",
    "# Derive the totalvotes column instead of relying on the source\n",
    "# data as that data had a few mistakes in derivation.\n",
    "pivot['totalvotes'] = pivot.democrat + pivot.republican + pivot.other\n",
    "pivot.totalvotes = pivot.totalvotes.astype(int)"
   ]
  },
  {
   "cell_type": "code",
   "execution_count": 11,
   "id": "ebb04029",
   "metadata": {},
   "outputs": [
    {
     "data": {
      "text/plain": [
       "Index(['state', 'county_name', 'county_fips', 'region_id', 'democrat', 'other',\n",
       "       'republican', 'totalvotes'],\n",
       "      dtype='object', name='party')"
      ]
     },
     "execution_count": 11,
     "metadata": {},
     "output_type": "execute_result"
    }
   ],
   "source": [
    "pivot.columns"
   ]
  },
  {
   "cell_type": "code",
   "execution_count": 12,
   "id": "3e6e4e97-ec7b-46ca-879d-029ff3fab4bd",
   "metadata": {},
   "outputs": [
    {
     "data": {
      "text/plain": [
       "Index(['state', 'county_name', 'county_fips', 'region_id', 'democrat',\n",
       "       'republican', 'other', 'totalvotes'],\n",
       "      dtype='object', name='party')"
      ]
     },
     "execution_count": 12,
     "metadata": {},
     "output_type": "execute_result"
    }
   ],
   "source": [
    "# Reorder the columns a little bit\n",
    "\n",
    "columns = ['state', \n",
    "           'county_name', \n",
    "           'county_fips', \n",
    "           'region_id', \n",
    "           'democrat', \n",
    "           'republican',\n",
    "           'other',\n",
    "           'totalvotes']\n",
    "\n",
    "pivot = pivot[columns]\n",
    "\n",
    "pivot.columns"
   ]
  },
  {
   "cell_type": "code",
   "execution_count": 13,
   "id": "646aae71",
   "metadata": {},
   "outputs": [
    {
     "data": {
      "text/plain": [
       "party\n",
       "state          object\n",
       "county_name    object\n",
       "county_fips    object\n",
       "region_id      object\n",
       "democrat        int64\n",
       "republican      int64\n",
       "other           int64\n",
       "totalvotes      int64\n",
       "dtype: object"
      ]
     },
     "execution_count": 13,
     "metadata": {},
     "output_type": "execute_result"
    }
   ],
   "source": [
    "pivot.dtypes"
   ]
  },
  {
   "cell_type": "code",
   "execution_count": 15,
   "id": "f5335195-b825-46e9-b5e0-b597f74464b3",
   "metadata": {},
   "outputs": [],
   "source": [
    "pivot.to_csv(\n",
    "    results_directory + \"enriched_county_pres_2016.gz\",\n",
    "    compression=\"gzip\",\n",
    "    index=False,\n",
    ")"
   ]
  }
 ],
 "metadata": {
  "kernelspec": {
   "display_name": "Python 3 (ipykernel)",
   "language": "python",
   "name": "python3"
  },
  "language_info": {
   "codemirror_mode": {
    "name": "ipython",
    "version": 3
   },
   "file_extension": ".py",
   "mimetype": "text/x-python",
   "name": "python",
   "nbconvert_exporter": "python",
   "pygments_lexer": "ipython3",
   "version": "3.8.12"
  }
 },
 "nbformat": 4,
 "nbformat_minor": 5
}
